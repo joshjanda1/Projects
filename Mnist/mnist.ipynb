{
 "cells": [
  {
   "cell_type": "markdown",
   "metadata": {},
   "source": [
    "## Introduction\n",
    "\n",
    "The goal of this project is to utilize dimensionality reduction on a dataset with a large set of features, and then fit our data to both a Random Forest Classification algorithm and a Support Vector Machine Classification algorithm. During our process we will load the data, split the data into validation and test sets, and then visualize and make predictions on the data. Our first step below will be importing packages.\n",
    "\n",
    "**Imports**"
   ]
  },
  {
   "cell_type": "code",
   "execution_count": 1,
   "metadata": {},
   "outputs": [],
   "source": [
    "import pandas as pd\n",
    "import numpy as np\n",
    "import matplotlib.pyplot as plt\n",
    "import matplotlib.image as mpimg\n",
    "%matplotlib inline\n",
    "\n",
    "import seaborn as sb\n",
    "from sklearn.model_selection import train_test_split\n",
    "from sklearn.model_selection import GridSearchCV\n",
    "from sklearn.metrics import confusion_matrix\n",
    "from sklearn.metrics import accuracy_score\n",
    "from sklearn.model_selection import cross_val_score\n",
    "from sklearn.ensemble import RandomForestClassifier\n",
    "from sklearn.utils.multiclass import unique_labels\n",
    "from sklearn.svm import SVC\n",
    "from sklearn.decomposition import PCA\n",
    "import joblib\n",
    "import warnings\n",
    "warnings.filterwarnings(\"ignore\", category=FutureWarning)"
   ]
  },
  {
   "cell_type": "markdown",
   "metadata": {},
   "source": [
    "## Data Preparation & Visualization\n",
    "\n",
    "**Helper Functions**\n",
    "\n",
    "We will first create a helper function for loading the data into a Pandas DataFrame, and then splitting the data into validation and test sets. For our validation and test size, I am opting to have 15% of the data as the validation set and 15% of the data as the test set. This leaves 70% of the data as our training set."
   ]
  },
  {
   "cell_type": "code",
   "execution_count": 2,
   "metadata": {},
   "outputs": [],
   "source": [
    "def load_and_split_data(filename):\n",
    "    \n",
    "    data = pd.read_csv(filename)\n",
    "    X = data.drop(\"label\", axis = 1)\n",
    "    y = data.label\n",
    "    \n",
    "    Xtrain, Xval, ytrain, yval = train_test_split(X, y,  test_size = .30, random_state = 42)\n",
    "    Xtest, Xval, ytest, yval = train_test_split(Xval, yval, test_size = .50, random_state = 42)\n",
    "    \n",
    "    return Xtrain, Xval, Xtest, ytrain, yval, ytest"
   ]
  },
  {
   "cell_type": "code",
   "execution_count": 3,
   "metadata": {},
   "outputs": [],
   "source": [
    "Xtrain, Xval, Xtest, ytrain, yval, ytest = load_and_split_data(\"train.csv\")\n",
    "#Load data and split into train, validation, and test sets. We will put validation and test sets to the side."
   ]
  },
  {
   "cell_type": "markdown",
   "metadata": {},
   "source": [
    "With the data loaded let's take a look at our labels for our y variable, which will be numbers 0-9. We can visualize this using the countplot in seaborn. We want to only look at our training data to avoid any potential bias from seeing our test or validation sets."
   ]
  },
  {
   "cell_type": "code",
   "execution_count": 4,
   "metadata": {},
   "outputs": [
    {
     "data": {
      "text/plain": [
       "<matplotlib.axes._subplots.AxesSubplot at 0x1952f351908>"
      ]
     },
     "execution_count": 4,
     "metadata": {},
     "output_type": "execute_result"
    },
    {
     "data": {
      "image/png": "[encoded data removed]",
      "text/plain": [
       "<Figure size 432x288 with 1 Axes>"
      ]
     },
     "metadata": {
      "needs_background": "light"
     },
     "output_type": "display_data"
    }
   ],
   "source": [
    "sb.countplot(ytrain)"
   ]
  },
  {
   "cell_type": "markdown",
   "metadata": {},
   "source": [
    "As we can see in the above plot, we have similar counts for each label in our y variable. This is helpful as we do not have any lopsided data."
   ]
  },
  {
   "cell_type": "markdown",
   "metadata": {},
   "source": [
    "**Summarize Data**\n",
    "\n",
    "Next, we want to look at the summary of our data to get an insight of what we are working with. Then we will want to check for null values."
   ]
  },
  {
   "cell_type": "code",
   "execution_count": 5,
   "metadata": {},
   "outputs": [
    {
     "data": {
      "text/html": [
       "<div>\n",
       "<style scoped>\n",
       "    .dataframe tbody tr th:only-of-type {\n",
       "        vertical-align: middle;\n",
       "    }\n",
       "\n",
       "    .dataframe tbody tr th {\n",
       "        vertical-align: top;\n",
       "    }\n",
       "\n",
       "    .dataframe thead th {\n",
       "        text-align: right;\n",
       "    }\n",
       "</style>\n",
       "<table border=\"1\" class=\"dataframe\">\n",
       "  <thead>\n",
       "    <tr style=\"text-align: right;\">\n",
       "      <th></th>\n",
       "      <th>pixel0</th>\n",
       "      <th>pixel1</th>\n",
       "      <th>pixel2</th>\n",
       "      <th>pixel3</th>\n",
       "      <th>pixel4</th>\n",
       "      <th>pixel5</th>\n",
       "      <th>pixel6</th>\n",
       "      <th>pixel7</th>\n",
       "      <th>pixel8</th>\n",
       "      <th>pixel9</th>\n",
       "      <th>...</th>\n",
       "      <th>pixel774</th>\n",
       "      <th>pixel775</th>\n",
       "      <th>pixel776</th>\n",
       "      <th>pixel777</th>\n",
       "      <th>pixel778</th>\n",
       "      <th>pixel779</th>\n",
       "      <th>pixel780</th>\n",
       "      <th>pixel781</th>\n",
       "      <th>pixel782</th>\n",
       "      <th>pixel783</th>\n",
       "    </tr>\n",
       "  </thead>\n",
       "  <tbody>\n",
       "    <tr>\n",
       "      <th>count</th>\n",
       "      <td>29400.0</td>\n",
       "      <td>29400.0</td>\n",
       "      <td>29400.0</td>\n",
       "      <td>29400.0</td>\n",
       "      <td>29400.0</td>\n",
       "      <td>29400.0</td>\n",
       "      <td>29400.0</td>\n",
       "      <td>29400.0</td>\n",
       "      <td>29400.0</td>\n",
       "      <td>29400.0</td>\n",
       "      <td>...</td>\n",
       "      <td>29400.000000</td>\n",
       "      <td>29400.000000</td>\n",
       "      <td>29400.000000</td>\n",
       "      <td>29400.000000</td>\n",
       "      <td>29400.000000</td>\n",
       "      <td>29400.000000</td>\n",
       "      <td>29400.0</td>\n",
       "      <td>29400.0</td>\n",
       "      <td>29400.0</td>\n",
       "      <td>29400.0</td>\n",
       "    </tr>\n",
       "    <tr>\n",
       "      <th>mean</th>\n",
       "      <td>0.0</td>\n",
       "      <td>0.0</td>\n",
       "      <td>0.0</td>\n",
       "      <td>0.0</td>\n",
       "      <td>0.0</td>\n",
       "      <td>0.0</td>\n",
       "      <td>0.0</td>\n",
       "      <td>0.0</td>\n",
       "      <td>0.0</td>\n",
       "      <td>0.0</td>\n",
       "      <td>...</td>\n",
       "      <td>0.213980</td>\n",
       "      <td>0.115272</td>\n",
       "      <td>0.069728</td>\n",
       "      <td>0.028469</td>\n",
       "      <td>0.019388</td>\n",
       "      <td>0.004082</td>\n",
       "      <td>0.0</td>\n",
       "      <td>0.0</td>\n",
       "      <td>0.0</td>\n",
       "      <td>0.0</td>\n",
       "    </tr>\n",
       "    <tr>\n",
       "      <th>std</th>\n",
       "      <td>0.0</td>\n",
       "      <td>0.0</td>\n",
       "      <td>0.0</td>\n",
       "      <td>0.0</td>\n",
       "      <td>0.0</td>\n",
       "      <td>0.0</td>\n",
       "      <td>0.0</td>\n",
       "      <td>0.0</td>\n",
       "      <td>0.0</td>\n",
       "      <td>0.0</td>\n",
       "      <td>...</td>\n",
       "      <td>6.354561</td>\n",
       "      <td>4.467579</td>\n",
       "      <td>3.651858</td>\n",
       "      <td>2.102425</td>\n",
       "      <td>2.078635</td>\n",
       "      <td>0.495138</td>\n",
       "      <td>0.0</td>\n",
       "      <td>0.0</td>\n",
       "      <td>0.0</td>\n",
       "      <td>0.0</td>\n",
       "    </tr>\n",
       "    <tr>\n",
       "      <th>min</th>\n",
       "      <td>0.0</td>\n",
       "      <td>0.0</td>\n",
       "      <td>0.0</td>\n",
       "      <td>0.0</td>\n",
       "      <td>0.0</td>\n",
       "      <td>0.0</td>\n",
       "      <td>0.0</td>\n",
       "      <td>0.0</td>\n",
       "      <td>0.0</td>\n",
       "      <td>0.0</td>\n",
       "      <td>...</td>\n",
       "      <td>0.000000</td>\n",
       "      <td>0.000000</td>\n",
       "      <td>0.000000</td>\n",
       "      <td>0.000000</td>\n",
       "      <td>0.000000</td>\n",
       "      <td>0.000000</td>\n",
       "      <td>0.0</td>\n",
       "      <td>0.0</td>\n",
       "      <td>0.0</td>\n",
       "      <td>0.0</td>\n",
       "    </tr>\n",
       "    <tr>\n",
       "      <th>25%</th>\n",
       "      <td>0.0</td>\n",
       "      <td>0.0</td>\n",
       "      <td>0.0</td>\n",
       "      <td>0.0</td>\n",
       "      <td>0.0</td>\n",
       "      <td>0.0</td>\n",
       "      <td>0.0</td>\n",
       "      <td>0.0</td>\n",
       "      <td>0.0</td>\n",
       "      <td>0.0</td>\n",
       "      <td>...</td>\n",
       "      <td>0.000000</td>\n",
       "      <td>0.000000</td>\n",
       "      <td>0.000000</td>\n",
       "      <td>0.000000</td>\n",
       "      <td>0.000000</td>\n",
       "      <td>0.000000</td>\n",
       "      <td>0.0</td>\n",
       "      <td>0.0</td>\n",
       "      <td>0.0</td>\n",
       "      <td>0.0</td>\n",
       "    </tr>\n",
       "    <tr>\n",
       "      <th>50%</th>\n",
       "      <td>0.0</td>\n",
       "      <td>0.0</td>\n",
       "      <td>0.0</td>\n",
       "      <td>0.0</td>\n",
       "      <td>0.0</td>\n",
       "      <td>0.0</td>\n",
       "      <td>0.0</td>\n",
       "      <td>0.0</td>\n",
       "      <td>0.0</td>\n",
       "      <td>0.0</td>\n",
       "      <td>...</td>\n",
       "      <td>0.000000</td>\n",
       "      <td>0.000000</td>\n",
       "      <td>0.000000</td>\n",
       "      <td>0.000000</td>\n",
       "      <td>0.000000</td>\n",
       "      <td>0.000000</td>\n",
       "      <td>0.0</td>\n",
       "      <td>0.0</td>\n",
       "      <td>0.0</td>\n",
       "      <td>0.0</td>\n",
       "    </tr>\n",
       "    <tr>\n",
       "      <th>75%</th>\n",
       "      <td>0.0</td>\n",
       "      <td>0.0</td>\n",
       "      <td>0.0</td>\n",
       "      <td>0.0</td>\n",
       "      <td>0.0</td>\n",
       "      <td>0.0</td>\n",
       "      <td>0.0</td>\n",
       "      <td>0.0</td>\n",
       "      <td>0.0</td>\n",
       "      <td>0.0</td>\n",
       "      <td>...</td>\n",
       "      <td>0.000000</td>\n",
       "      <td>0.000000</td>\n",
       "      <td>0.000000</td>\n",
       "      <td>0.000000</td>\n",
       "      <td>0.000000</td>\n",
       "      <td>0.000000</td>\n",
       "      <td>0.0</td>\n",
       "      <td>0.0</td>\n",
       "      <td>0.0</td>\n",
       "      <td>0.0</td>\n",
       "    </tr>\n",
       "    <tr>\n",
       "      <th>max</th>\n",
       "      <td>0.0</td>\n",
       "      <td>0.0</td>\n",
       "      <td>0.0</td>\n",
       "      <td>0.0</td>\n",
       "      <td>0.0</td>\n",
       "      <td>0.0</td>\n",
       "      <td>0.0</td>\n",
       "      <td>0.0</td>\n",
       "      <td>0.0</td>\n",
       "      <td>0.0</td>\n",
       "      <td>...</td>\n",
       "      <td>254.000000</td>\n",
       "      <td>254.000000</td>\n",
       "      <td>253.000000</td>\n",
       "      <td>253.000000</td>\n",
       "      <td>254.000000</td>\n",
       "      <td>62.000000</td>\n",
       "      <td>0.0</td>\n",
       "      <td>0.0</td>\n",
       "      <td>0.0</td>\n",
       "      <td>0.0</td>\n",
       "    </tr>\n",
       "  </tbody>\n",
       "</table>\n",
       "<p>8 rows × 784 columns</p>\n",
       "</div>"
      ],
      "text/plain": [
       "        pixel0   pixel1   pixel2   pixel3   pixel4   pixel5   pixel6   pixel7  \\\n",
       "count  29400.0  29400.0  29400.0  29400.0  29400.0  29400.0  29400.0  29400.0   \n",
       "mean       0.0      0.0      0.0      0.0      0.0      0.0      0.0      0.0   \n",
       "std        0.0      0.0      0.0      0.0      0.0      0.0      0.0      0.0   \n",
       "min        0.0      0.0      0.0      0.0      0.0      0.0      0.0      0.0   \n",
       "25%        0.0      0.0      0.0      0.0      0.0      0.0      0.0      0.0   \n",
       "50%        0.0      0.0      0.0      0.0      0.0      0.0      0.0      0.0   \n",
       "75%        0.0      0.0      0.0      0.0      0.0      0.0      0.0      0.0   \n",
       "max        0.0      0.0      0.0      0.0      0.0      0.0      0.0      0.0   \n",
       "\n",
       "        pixel8   pixel9  ...      pixel774      pixel775      pixel776  \\\n",
       "count  29400.0  29400.0  ...  29400.000000  29400.000000  29400.000000   \n",
       "mean       0.0      0.0  ...      0.213980      0.115272      0.069728   \n",
       "std        0.0      0.0  ...      6.354561      4.467579      3.651858   \n",
       "min        0.0      0.0  ...      0.000000      0.000000      0.000000   \n",
       "25%        0.0      0.0  ...      0.000000      0.000000      0.000000   \n",
       "50%        0.0      0.0  ...      0.000000      0.000000      0.000000   \n",
       "75%        0.0      0.0  ...      0.000000      0.000000      0.000000   \n",
       "max        0.0      0.0  ...    254.000000    254.000000    253.000000   \n",
       "\n",
       "           pixel777      pixel778      pixel779  pixel780  pixel781  pixel782  \\\n",
       "count  29400.000000  29400.000000  29400.000000   29400.0   29400.0   29400.0   \n",
       "mean       0.028469      0.019388      0.004082       0.0       0.0       0.0   \n",
       "std        2.102425      2.078635      0.495138       0.0       0.0       0.0   \n",
       "min        0.000000      0.000000      0.000000       0.0       0.0       0.0   \n",
       "25%        0.000000      0.000000      0.000000       0.0       0.0       0.0   \n",
       "50%        0.000000      0.000000      0.000000       0.0       0.0       0.0   \n",
       "75%        0.000000      0.000000      0.000000       0.0       0.0       0.0   \n",
       "max      253.000000    254.000000     62.000000       0.0       0.0       0.0   \n",
       "\n",
       "       pixel783  \n",
       "count   29400.0  \n",
       "mean        0.0  \n",
       "std         0.0  \n",
       "min         0.0  \n",
       "25%         0.0  \n",
       "50%         0.0  \n",
       "75%         0.0  \n",
       "max         0.0  \n",
       "\n",
       "[8 rows x 784 columns]"
      ]
     },
     "execution_count": 5,
     "metadata": {},
     "output_type": "execute_result"
    }
   ],
   "source": [
    "Xtrain.describe()"
   ]
  },
  {
   "cell_type": "markdown",
   "metadata": {},
   "source": [
    "Looking at the above table, a lot of these pixels are equal to zero. Meaning that most of these pixels are just blackspace, and therefore mostly meaningless. We will visualize some of data points to see the true image that the pixels represent. However, we will want to check out the null values first to make sure none of our images are corrupted or missing pixels."
   ]
  },
  {
   "cell_type": "code",
   "execution_count": 6,
   "metadata": {},
   "outputs": [
    {
     "data": {
      "text/plain": [
       "count       784\n",
       "unique        1\n",
       "top       False\n",
       "freq        784\n",
       "dtype: object"
      ]
     },
     "execution_count": 6,
     "metadata": {},
     "output_type": "execute_result"
    }
   ],
   "source": [
    "Xtrain.isnull().any().describe()"
   ]
  },
  {
   "cell_type": "code",
   "execution_count": 7,
   "metadata": {},
   "outputs": [
    {
     "data": {
      "text/plain": [
       "count       784\n",
       "unique        1\n",
       "top       False\n",
       "freq        784\n",
       "dtype: object"
      ]
     },
     "execution_count": 7,
     "metadata": {},
     "output_type": "execute_result"
    }
   ],
   "source": [
    "Xval.isnull().any().describe()"
   ]
  },
  {
   "cell_type": "code",
   "execution_count": 8,
   "metadata": {},
   "outputs": [
    {
     "data": {
      "text/plain": [
       "count       784\n",
       "unique        1\n",
       "top       False\n",
       "freq        784\n",
       "dtype: object"
      ]
     },
     "execution_count": 8,
     "metadata": {},
     "output_type": "execute_result"
    }
   ],
   "source": [
    "Xtest.isnull().any().describe()"
   ]
  },
  {
   "cell_type": "markdown",
   "metadata": {},
   "source": [
    "As we can see above, there are no null values in our training, validation, or test set. Therefore, we do not have to worry about any data imputation methods and can move forward on this data."
   ]
  },
  {
   "cell_type": "markdown",
   "metadata": {},
   "source": [
    "**Normalization**\n",
    "\n",
    "Since our data is in grayscale (pixels range from 0-255.0), we will want to perform grayscale normalization to make our data be in a range that is more \"normal\" to our senses and reduce image distraction."
   ]
  },
  {
   "cell_type": "code",
   "execution_count": 9,
   "metadata": {},
   "outputs": [],
   "source": [
    "Xtrain, Xval, Xtest = Xtrain / 255.0, Xval / 255.0, Xtest / 255.0"
   ]
  },
  {
   "cell_type": "markdown",
   "metadata": {},
   "source": [
    "**Visualize Data**\n",
    "\n",
    "In order to visualize some of our data to get an idea of the image these pixels form, we will want to reshape our data to a 28px x 28px image. Since we do not want to reshape our actual training data, we will make a copy of the data and reshape that. We will then visualize the first 3 images of our training set."
   ]
  },
  {
   "cell_type": "code",
   "execution_count": 10,
   "metadata": {},
   "outputs": [
    {
     "data": {
      "image/png": "[encoded data removed]",
      "text/plain": [
       "<Figure size 432x288 with 1 Axes>"
      ]
     },
     "metadata": {
      "needs_background": "light"
     },
     "output_type": "display_data"
    },
    {
     "data": {
      "image/png": "[encoded data removed]",
      "text/plain": [
       "<Figure size 432x288 with 1 Axes>"
      ]
     },
     "metadata": {
      "needs_background": "light"
     },
     "output_type": "display_data"
    },
    {
     "data": {
      "image/png": "[encoded data removed]",
      "text/plain": [
       "<Figure size 432x288 with 1 Axes>"
      ]
     },
     "metadata": {
      "needs_background": "light"
     },
     "output_type": "display_data"
    }
   ],
   "source": [
    "Xtrain_copy = Xtrain.copy()\n",
    "Xtrain_reshaped = Xtrain_copy.values.reshape(-1, 28, 28)\n",
    "\n",
    "for i in range(0, 3):\n",
    "    plt.imshow(Xtrain_reshaped[i][:, :])\n",
    "    plt.show()"
   ]
  },
  {
   "cell_type": "markdown",
   "metadata": {},
   "source": [
    "**Dimensionality Reduction**\n",
    "\n",
    "Our next step in preparing the data is to perform dimensionality reduction. As noted above, most pixels included in our dataset our blackspace and therefore unneeded. We will want to plot the explained variance as a function of dimensions to get an idea of the number of dimensions where the explained variance starts to taper off. "
   ]
  },
  {
   "cell_type": "code",
   "execution_count": 11,
   "metadata": {},
   "outputs": [
    {
     "data": {
      "image/png": "[encoded data removed]",
      "text/plain": [
       "<Figure size 432x288 with 1 Axes>"
      ]
     },
     "metadata": {
      "needs_background": "light"
     },
     "output_type": "display_data"
    }
   ],
   "source": [
    "pca = PCA()\n",
    "pca.fit(Xtrain)\n",
    "Xtrain_cumsum = np.cumsum(pca.explained_variance_ratio_)\n",
    "\n",
    "plt.plot(Xtrain_cumsum)\n",
    "plt.xlabel(\"Dimensions\")\n",
    "plt.ylabel(\"Explained Variance\")\n",
    "plt.title(\"Explained Variance vs # of Dimensions\")\n",
    "plt.show()"
   ]
  },
  {
   "cell_type": "markdown",
   "metadata": {},
   "source": [
    "We can see from the plot above that the curve starts to taper off right around the .92-.95 level, so we will choose our \"n\" number of components to be the explained variance ratio of .95. "
   ]
  },
  {
   "cell_type": "code",
   "execution_count": 12,
   "metadata": {},
   "outputs": [
    {
     "name": "stdout",
     "output_type": "stream",
     "text": [
      "Number of dimensions before: 784\n",
      "Number of dimensions after: 153\n"
     ]
    }
   ],
   "source": [
    "pca_final = PCA(n_components=.95)\n",
    "Xtrain_reduced = pca_final.fit_transform(Xtrain)\n",
    "print(\"Number of dimensions before: {0}\".format(Xtrain.shape[1]))\n",
    "print(\"Number of dimensions after: {0}\".format(Xtrain_reduced.shape[1]))"
   ]
  },
  {
   "cell_type": "markdown",
   "metadata": {},
   "source": [
    "So, keeping an explained variance ratio of .95 we have drastically reduced the number of dimensions in this dataset from 784 to 153. We will want to reduce the dimensions on our validation and test set now."
   ]
  },
  {
   "cell_type": "code",
   "execution_count": 13,
   "metadata": {},
   "outputs": [
    {
     "name": "stdout",
     "output_type": "stream",
     "text": [
      "Number of dimensions in validation set: 153\n",
      "Number of dimensions in test set: 153\n"
     ]
    }
   ],
   "source": [
    "Xval_reduced = pca_final.transform(Xval)\n",
    "Xtest_reduced = pca_final.transform(Xtest)\n",
    "print(\"Number of dimensions in validation set: {0}\".format(Xval_reduced.shape[1]))\n",
    "print(\"Number of dimensions in test set: {0}\".format(Xtest_reduced.shape[1]))"
   ]
  },
  {
   "cell_type": "markdown",
   "metadata": {},
   "source": [
    "As we can see above, transforming the validation and test set to our PCA algorithm that we fit on the training data reduced their dimensions to 153 as well. With this taken care of, we are now ready for fitting our reduced data to our chosen algorithms of Random Forest Classifier and Support Vector Machine Classifier."
   ]
  },
  {
   "cell_type": "markdown",
   "metadata": {},
   "source": [
    "## Model Fitting\n",
    "\n",
    "**Random Forest Classifier**\n",
    "\n",
    "Our first model we will fit will be the Random Forest Classification model. We will first fit the model on default parameters, check the performance to get an idea of how Random Forest Classification performs on this data, and then fit the model using GridSearchCV. GridSearchCV tries out all variations of given parameters, and evaluates the models performance using, in our case, five-fold cross validation. We will choose the model that performs best on cross validation."
   ]
  },
  {
   "cell_type": "code",
   "execution_count": 14,
   "metadata": {},
   "outputs": [
    {
     "name": "stdout",
     "output_type": "stream",
     "text": [
      "Cross Validated Accuracy: 0.8602034238279039\n"
     ]
    }
   ],
   "source": [
    "rfc = RandomForestClassifier()\n",
    "rfc.fit(Xtrain_reduced, ytrain)\n",
    "print(\"Cross Validated Accuracy: {0}\".format(np.mean(cross_val_score(rfc, Xtrain_reduced, ytrain, cv = 5))))"
   ]
  },
  {
   "cell_type": "markdown",
   "metadata": {},
   "source": [
    "So, for the base Random Forest Classification model we get an average cross-validated accuracy score of about .862. While this is good, I believe we can do better, so we will utilize GridSearchCV as noted above."
   ]
  },
  {
   "cell_type": "code",
   "execution_count": 15,
   "metadata": {},
   "outputs": [
    {
     "data": {
      "text/plain": [
       "'search_params = {\\n                    \"n_estimators\": [100, 200, 250, 400, 500],\\n                    \"max_depth\": [1, 2, 4, 16, 32, 64]\\n                }\\n\\nrfc_gs = GridSearchCV(RandomForestClassifier(), param_grid=search_params, scoring = \"accuracy\", cv = 5)\\nrfc_gs.fit(Xtrain_reduced, ytrain)'"
      ]
     },
     "execution_count": 15,
     "metadata": {},
     "output_type": "execute_result"
    }
   ],
   "source": [
    "\"\"\"search_params = {\n",
    "                    \"n_estimators\": [100, 200, 250, 400, 500],\n",
    "                    \"max_depth\": [1, 2, 4, 16, 32, 64]\n",
    "                }\n",
    "\n",
    "rfc_gs = GridSearchCV(RandomForestClassifier(), param_grid=search_params, scoring = \"accuracy\", cv = 5)\n",
    "rfc_gs.fit(Xtrain_reduced, ytrain)\"\"\""
   ]
  },
  {
   "cell_type": "code",
   "execution_count": 16,
   "metadata": {},
   "outputs": [
    {
     "data": {
      "text/plain": [
       "'gs_results = rfc_gs.cv_results_\\njoblib.dump(rfc_gs, \"rfc_gridsearch\")\\n\\nfor mean_test_score, params in zip(gs_results[\"mean_test_score\"], gs_results[\"params\"]):\\n    print(\"Mean Accuracy : {0}   Params: {1}\".format(mean_test_score, params))'"
      ]
     },
     "execution_count": 16,
     "metadata": {},
     "output_type": "execute_result"
    }
   ],
   "source": [
    "\"\"\"gs_results = rfc_gs.cv_results_\n",
    "joblib.dump(rfc_gs, \"rfc_gridsearch\")\n",
    "\n",
    "for mean_test_score, params in zip(gs_results[\"mean_test_score\"], gs_results[\"params\"]):\n",
    "    print(\"Mean Accuracy : {0}   Params: {1}\".format(mean_test_score, params))\"\"\""
   ]
  },
  {
   "cell_type": "code",
   "execution_count": 17,
   "metadata": {},
   "outputs": [
    {
     "name": "stdout",
     "output_type": "stream",
     "text": [
      "Mean Accuracy : 0.5471428571428572   Params: {'max_depth': 1, 'n_estimators': 100}\n",
      "Mean Accuracy : 0.5711224489795919   Params: {'max_depth': 1, 'n_estimators': 200}\n",
      "Mean Accuracy : 0.574047619047619   Params: {'max_depth': 1, 'n_estimators': 250}\n",
      "Mean Accuracy : 0.5804761904761905   Params: {'max_depth': 1, 'n_estimators': 400}\n",
      "Mean Accuracy : 0.5770068027210884   Params: {'max_depth': 1, 'n_estimators': 500}\n",
      "Mean Accuracy : 0.6835374149659864   Params: {'max_depth': 2, 'n_estimators': 100}\n",
      "Mean Accuracy : 0.6906462585034013   Params: {'max_depth': 2, 'n_estimators': 200}\n",
      "Mean Accuracy : 0.7035374149659864   Params: {'max_depth': 2, 'n_estimators': 250}\n",
      "Mean Accuracy : 0.7053061224489796   Params: {'max_depth': 2, 'n_estimators': 400}\n",
      "Mean Accuracy : 0.7047278911564626   Params: {'max_depth': 2, 'n_estimators': 500}\n",
      "Mean Accuracy : 0.805374149659864   Params: {'max_depth': 4, 'n_estimators': 100}\n",
      "Mean Accuracy : 0.8073469387755102   Params: {'max_depth': 4, 'n_estimators': 200}\n",
      "Mean Accuracy : 0.808265306122449   Params: {'max_depth': 4, 'n_estimators': 250}\n",
      "Mean Accuracy : 0.8081972789115647   Params: {'max_depth': 4, 'n_estimators': 400}\n",
      "Mean Accuracy : 0.8105442176870749   Params: {'max_depth': 4, 'n_estimators': 500}\n",
      "Mean Accuracy : 0.9325170068027211   Params: {'max_depth': 16, 'n_estimators': 100}\n",
      "Mean Accuracy : 0.9372789115646258   Params: {'max_depth': 16, 'n_estimators': 200}\n",
      "Mean Accuracy : 0.9379251700680272   Params: {'max_depth': 16, 'n_estimators': 250}\n",
      "Mean Accuracy : 0.9390816326530612   Params: {'max_depth': 16, 'n_estimators': 400}\n",
      "Mean Accuracy : 0.9389455782312925   Params: {'max_depth': 16, 'n_estimators': 500}\n",
      "Mean Accuracy : 0.9355442176870749   Params: {'max_depth': 32, 'n_estimators': 100}\n",
      "Mean Accuracy : 0.9398639455782313   Params: {'max_depth': 32, 'n_estimators': 200}\n",
      "Mean Accuracy : 0.9404761904761905   Params: {'max_depth': 32, 'n_estimators': 250}\n",
      "Mean Accuracy : 0.941734693877551   Params: {'max_depth': 32, 'n_estimators': 400}\n",
      "Mean Accuracy : 0.9419387755102041   Params: {'max_depth': 32, 'n_estimators': 500}\n",
      "Mean Accuracy : 0.9350340136054421   Params: {'max_depth': 64, 'n_estimators': 100}\n",
      "Mean Accuracy : 0.9391836734693878   Params: {'max_depth': 64, 'n_estimators': 200}\n",
      "Mean Accuracy : 0.9412925170068027   Params: {'max_depth': 64, 'n_estimators': 250}\n",
      "Mean Accuracy : 0.9416666666666667   Params: {'max_depth': 64, 'n_estimators': 400}\n",
      "Mean Accuracy : 0.9411224489795919   Params: {'max_depth': 64, 'n_estimators': 500}\n"
     ]
    }
   ],
   "source": [
    "rfc_gs = joblib.load(\"rfc_gridsearch_comp.gz\")\n",
    "gs_results = rfc_gs.cv_results_\n",
    "\n",
    "for mean_test_score, params in zip(gs_results[\"mean_test_score\"], gs_results[\"params\"]):\n",
    "    print(\"Mean Accuracy : {0}   Params: {1}\".format(mean_test_score, params))"
   ]
  },
  {
   "cell_type": "markdown",
   "metadata": {},
   "source": [
    "As we can see above, we have multiple models that were created through the grid search. Since our mean accuracy represents the mean cross-validated accuracy, we will want to choose the model with the highest mean accuracy. The model with parameters 'max_depth' = 32, and 'n_estimators' = 500 gives us a mean accuracy of .9419, which is the highest. In other terms, our best model is with a max tree depth of 32, and a total of 500 trees in the forest. We will now want to save our best model, as well as dump the model for future use."
   ]
  },
  {
   "cell_type": "code",
   "execution_count": 18,
   "metadata": {},
   "outputs": [
    {
     "data": {
      "text/plain": [
       "['best_rfc_model']"
      ]
     },
     "execution_count": 18,
     "metadata": {},
     "output_type": "execute_result"
    }
   ],
   "source": [
    "best_rfc_mod = rfc_gs.best_estimator_\n",
    "joblib.dump(best_rfc_mod, \"best_rfc_model\")"
   ]
  },
  {
   "cell_type": "markdown",
   "metadata": {},
   "source": [
    "With our model now saved, we will now want to move on from Random Forest Classification and introduce Support Vector Machine Classification."
   ]
  },
  {
   "cell_type": "markdown",
   "metadata": {},
   "source": [
    "**Support Vector Machine Classifier**\n",
    "\n",
    "For this model, we will do similar steps taken for the Random Forest Classifier. We will first fit a model to get an idea of what to expect from this algorithm, and then we will utilize GridSearchCV to get cross-validated accuracy scores from numerous models and use those scores to select our best model."
   ]
  },
  {
   "cell_type": "code",
   "execution_count": 19,
   "metadata": {},
   "outputs": [
    {
     "name": "stdout",
     "output_type": "stream",
     "text": [
      "Cross Validated Accuracy: 0.9602041896982699\n"
     ]
    }
   ],
   "source": [
    "svc = SVC()\n",
    "svc.fit(Xtrain_reduced, ytrain)\n",
    "print(\"Cross Validated Accuracy: {0}\".format(np.mean(cross_val_score(svc, Xtrain_reduced, ytrain, cv = 5))))"
   ]
  },
  {
   "cell_type": "markdown",
   "metadata": {},
   "source": [
    "For our base model of the Support Vector Machine Classification algorithm we get a cross-validated mean accuracy of about .960. This is a already better than our best model of the Random Forest Classifier, but we will still utilize GridSearchCV to see if we can find a better performing model."
   ]
  },
  {
   "cell_type": "code",
   "execution_count": 20,
   "metadata": {},
   "outputs": [
    {
     "data": {
      "text/plain": [
       "'search_params2 = {\\n                    \"C\" : [0.01, 0.1, 1, 10, 100],\\n                    \"kernel\" : [\\'linear\\', \\'poly\\', \\'rbf\\', \\'sigmoid\\']\\n                }\\nsvc_gs = GridSearchCV(SVC(), param_grid=search_params2, scoring = \"accuracy\", cv = 5)\\nsvc_gs.fit(Xtrain_reduced, ytrain)'"
      ]
     },
     "execution_count": 20,
     "metadata": {},
     "output_type": "execute_result"
    }
   ],
   "source": [
    "\"\"\"search_params2 = {\n",
    "                    \"C\" : [0.01, 0.1, 1, 10, 100],\n",
    "                    \"kernel\" : ['linear', 'poly', 'rbf', 'sigmoid']\n",
    "                }\n",
    "svc_gs = GridSearchCV(SVC(), param_grid=search_params2, scoring = \"accuracy\", cv = 5)\n",
    "svc_gs.fit(Xtrain_reduced, ytrain)\"\"\""
   ]
  },
  {
   "cell_type": "code",
   "execution_count": 21,
   "metadata": {},
   "outputs": [
    {
     "data": {
      "text/plain": [
       "'gs_results2 = svc_gs.cv_results_\\njoblib.dump(svc_gs, \"svc_gridsearch\")\\n\\nfor mean_test_score, params in zip(gs_results2[\"mean_test_score\"], gs_results2[\"params\"]):\\n    print(\"Mean Accuracy : {0}   Params: {1}\".format(mean_test_score, params))'"
      ]
     },
     "execution_count": 21,
     "metadata": {},
     "output_type": "execute_result"
    }
   ],
   "source": [
    "\"\"\"gs_results2 = svc_gs.cv_results_\n",
    "joblib.dump(svc_gs, \"svc_gridsearch\")\n",
    "\n",
    "for mean_test_score, params in zip(gs_results2[\"mean_test_score\"], gs_results2[\"params\"]):\n",
    "    print(\"Mean Accuracy : {0}   Params: {1}\".format(mean_test_score, params))\"\"\""
   ]
  },
  {
   "cell_type": "code",
   "execution_count": 22,
   "metadata": {},
   "outputs": [
    {
     "name": "stdout",
     "output_type": "stream",
     "text": [
      "Mean Accuracy : 0.9335034013605442   Params: {'C': 0.01, 'kernel': 'linear'}\n",
      "Mean Accuracy : 0.11210884353741496   Params: {'C': 0.01, 'kernel': 'poly'}\n",
      "Mean Accuracy : 0.8641496598639455   Params: {'C': 0.01, 'kernel': 'rbf'}\n",
      "Mean Accuracy : 0.830204081632653   Params: {'C': 0.01, 'kernel': 'sigmoid'}\n",
      "Mean Accuracy : 0.9381292517006803   Params: {'C': 0.1, 'kernel': 'linear'}\n",
      "Mean Accuracy : 0.3871428571428571   Params: {'C': 0.1, 'kernel': 'poly'}\n",
      "Mean Accuracy : 0.9323469387755102   Params: {'C': 0.1, 'kernel': 'rbf'}\n",
      "Mean Accuracy : 0.9072108843537415   Params: {'C': 0.1, 'kernel': 'sigmoid'}\n",
      "Mean Accuracy : 0.9314285714285714   Params: {'C': 1, 'kernel': 'linear'}\n",
      "Mean Accuracy : 0.9158843537414966   Params: {'C': 1, 'kernel': 'poly'}\n",
      "Mean Accuracy : 0.960204081632653   Params: {'C': 1, 'kernel': 'rbf'}\n",
      "Mean Accuracy : 0.9284013605442177   Params: {'C': 1, 'kernel': 'sigmoid'}\n",
      "Mean Accuracy : 0.9252380952380952   Params: {'C': 10, 'kernel': 'linear'}\n",
      "Mean Accuracy : 0.9702380952380952   Params: {'C': 10, 'kernel': 'poly'}\n",
      "Mean Accuracy : 0.9736734693877551   Params: {'C': 10, 'kernel': 'rbf'}\n",
      "Mean Accuracy : 0.9263265306122449   Params: {'C': 10, 'kernel': 'sigmoid'}\n",
      "Mean Accuracy : 0.9218367346938775   Params: {'C': 100, 'kernel': 'linear'}\n",
      "Mean Accuracy : 0.9783673469387755   Params: {'C': 100, 'kernel': 'poly'}\n",
      "Mean Accuracy : 0.9736734693877551   Params: {'C': 100, 'kernel': 'rbf'}\n",
      "Mean Accuracy : 0.8974149659863946   Params: {'C': 100, 'kernel': 'sigmoid'}\n"
     ]
    }
   ],
   "source": [
    "svc_gs = joblib.load(\"svc_gridsearch_comp.gz\")\n",
    "gs_results2 = svc_gs.cv_results_\n",
    "\n",
    "for mean_test_score, params in zip(gs_results2[\"mean_test_score\"], gs_results2[\"params\"]):\n",
    "    print(\"Mean Accuracy : {0}   Params: {1}\".format(mean_test_score, params))"
   ]
  },
  {
   "cell_type": "markdown",
   "metadata": {},
   "source": [
    "As we can see above, we have multiple models that were created through the grid search. Since our mean accuracy represents the mean cross-validated accuracy, we will want to choose the model with the highest mean accuracy. The model with parameters 'C' = 100, and 'Kernel' = 'poly' gives us a mean accuracy of about .978, which is the highest. In other terms, our best model is with a C of 100, and a Kernel of 'poly'. We will now want to save our best model, as well as dump the model for future use."
   ]
  },
  {
   "cell_type": "code",
   "execution_count": 23,
   "metadata": {},
   "outputs": [
    {
     "data": {
      "text/plain": [
       "['best_svc_model']"
      ]
     },
     "execution_count": 23,
     "metadata": {},
     "output_type": "execute_result"
    }
   ],
   "source": [
    "best_svc_mod = svc_gs.best_estimator_\n",
    "joblib.dump(best_svc_mod, \"best_svc_model\")"
   ]
  },
  {
   "cell_type": "markdown",
   "metadata": {},
   "source": [
    "With our model now saved, we will now want to move on from definining our initial models and best models and use our validation data to see which model performs best. We will then use our best performing model as our final model, and see how this model performs on our last unseen data which is the test set."
   ]
  },
  {
   "cell_type": "markdown",
   "metadata": {},
   "source": [
    "## Model Evaluation\n",
    "\n",
    "**Predictions and Final Model Selection with Validation Data**"
   ]
  },
  {
   "cell_type": "code",
   "execution_count": 27,
   "metadata": {},
   "outputs": [
    {
     "name": "stdout",
     "output_type": "stream",
     "text": [
      "Accuracy of Random Forest Classifier Model on Validation data: 0.9453968253968253 \n",
      "Accuracy of Support Vector Machine Classifier Model on Validation data: 0.9796825396825397\n"
     ]
    }
   ],
   "source": [
    "rfc_pred = best_rfc_mod.predict(Xval_reduced)\n",
    "svc_pred = best_svc_mod.predict(Xval_reduced)\n",
    "\n",
    "rfc_acc = accuracy_score(yval, rfc_pred)\n",
    "svc_acc = accuracy_score(yval, svc_pred)\n",
    "\n",
    "print(\"Accuracy of Random Forest Classifier Model on Validation data: {0} \\nAccuracy of Support Vector Machine Classifier Model on Validation data: {1}\".format(rfc_acc, svc_acc))"
   ]
  },
  {
   "cell_type": "markdown",
   "metadata": {},
   "source": [
    "As we can see above, our best model is the model chosen from GridSearchCV on the Support Vector Machine Classification Algorithm with C = 100 and Kernel = 'poly'. This model outperforms our best chosen Random Forest Classification model on the validation set, so we will use this model for the remainder of this project."
   ]
  },
  {
   "cell_type": "markdown",
   "metadata": {},
   "source": [
    "**Predictions on Test Data With Final Model and Visualization of Predictions & Prediction Errors**"
   ]
  },
  {
   "cell_type": "markdown",
   "metadata": {},
   "source": [
    "Now that we have decided that our Support Vector Machine Classifier model is our best model through validation data, we will use this model to make predictions on our final dataset (test data) and then take a look at the accuracy and confusion matrix. The confusion matrix shows us the total number of correctly predicted and incorrectly predicted points in our data set."
   ]
  },
  {
   "cell_type": "code",
   "execution_count": 28,
   "metadata": {},
   "outputs": [
    {
     "name": "stdout",
     "output_type": "stream",
     "text": [
      "Accuracy on Test Data: 0.9804761904761905\n"
     ]
    }
   ],
   "source": [
    "final_predicts = best_svc_mod.predict(Xtest_reduced)\n",
    "final_accuracy = accuracy_score(ytest, final_predicts)\n",
    "print(\"Accuracy on Test Data: {0}\".format(final_accuracy))"
   ]
  },
  {
   "cell_type": "markdown",
   "metadata": {},
   "source": [
    "We can see that our model performs almost identical on all three datasets, so we know that our model was not overfitting. We get an accuracy of .9804 on our test data, which is very good. We will now take a look at the confusion matrix to see where our model is misclassifying the most."
   ]
  },
  {
   "cell_type": "code",
   "execution_count": 29,
   "metadata": {
    "scrolled": true
   },
   "outputs": [
    {
     "data": {
      "image/png": "[encoded data removed]",
      "text/plain": [
       "<Figure size 864x576 with 2 Axes>"
      ]
     },
     "metadata": {
      "needs_background": "light"
     },
     "output_type": "display_data"
    }
   ],
   "source": [
    "conf_matrx = confusion_matrix(ytest, final_predicts)\n",
    "conf_matrx_df = pd.DataFrame(conf_matrx, index = [i for i in range(10)],\n",
    "                  columns = [i for i in range(10)])\n",
    "plt.figure(figsize = (12, 8))\n",
    "sb.heatmap(conf_matrx_df, annot = True)\n",
    "plt.title(\"Non-Normalized Confusion Matrix\")\n",
    "plt.show()"
   ]
  },
  {
   "cell_type": "markdown",
   "metadata": {},
   "source": [
    "As we can see in the confusion matrix, with the given heatmap, we really do not have a large amount of misclassifications. The diaganol represents the data points that were correctly predicted, where anywhere else represents misclassifications. These misclassifications include errors such as mistaking an \"8\" for a \"3\", which is commonly done by humans themselves. Overall, I believe this model does a great job at correctly classifying each handwritten number in the test data."
   ]
  },
  {
   "cell_type": "markdown",
   "metadata": {},
   "source": [
    "## Predict on Kaggle Test Set\n",
    "\n",
    "Kaggle.com MNIST competition includes an extra test data set to predict classes for, but we cannot calculate any prediction errors or accuracy. We will predict all classes in this data and then write it to a CSV for upload."
   ]
  },
  {
   "cell_type": "code",
   "execution_count": 30,
   "metadata": {},
   "outputs": [
    {
     "name": "stdout",
     "output_type": "stream",
     "text": [
      "Number of dimensions in Kaggle test set: 153\n"
     ]
    }
   ],
   "source": [
    "kaggle_test = pd.read_csv(\"test.csv\")\n",
    "kaggle_test = kaggle_test / 255.0\n",
    "kaggle_test_reduced = pca_final.transform(kaggle_test)\n",
    "print(\"Number of dimensions in Kaggle test set: {0}\".format(kaggle_test_reduced.shape[1]))\n",
    "kaggle_predictions = best_svc_mod.predict(kaggle_test_reduced)"
   ]
  },
  {
   "cell_type": "code",
   "execution_count": 31,
   "metadata": {},
   "outputs": [
    {
     "name": "stdout",
     "output_type": "stream",
     "text": [
      "First few predictions:\n",
      "   ImageId  Label\n",
      "0        1      2\n",
      "1        2      0\n",
      "2        3      9\n",
      "3        4      9\n",
      "4        5      3\n"
     ]
    }
   ],
   "source": [
    "kaggle_output = pd.DataFrame()\n",
    "kaggle_output[\"ImageId\"] = range(1, len(kaggle_test) + 1)\n",
    "kaggle_output[\"Label\"] = kaggle_predictions\n",
    "kaggle_output.to_csv(\"KaggleTestPredictions.csv\", index = False)\n",
    "print(\"First few predictions:\\n{0}\".format(kaggle_output[:5]))"
   ]
  },
  {
   "cell_type": "markdown",
   "metadata": {},
   "source": [
    "## Conclusion\n",
    "\n",
    "**Recap**\n",
    "\n",
    "To Recap this project, we split the data into training, validation, and test sets. We then viewed the data, checked for discrepancies, and normalized the data. We then utilized principal component analysis to reduce the number of features (dimensionalities). Using our reduced data, we fit models using Random Forest Classification and Support Vector Machine Classification and then utilized GridSearch and Cross-Validation to choose our best model on the training data. With our best model chosen, we then chose our final model using validation data and then evaluated our final model on our testing data and looked at where our model was making the most errors. Lastly, we predicted classes for our test data set from Kaggle.com.\n",
    "\n",
    "**Conclusion**\n",
    "\n",
    "Our final model had an accuracy of .981, and can be considered a very useful model."
   ]
  }
 ],
 "metadata": {
  "kernelspec": {
   "display_name": "Python 3",
   "language": "python",
   "name": "python3"
  },
  "language_info": {
   "codemirror_mode": {
    "name": "ipython",
    "version": 3
   },
   "file_extension": ".py",
   "mimetype": "text/x-python",
   "name": "python",
   "nbconvert_exporter": "python",
   "pygments_lexer": "ipython3",
   "version": "3.7.1"
  }
 },
 "nbformat": 4,
 "nbformat_minor": 2
}
