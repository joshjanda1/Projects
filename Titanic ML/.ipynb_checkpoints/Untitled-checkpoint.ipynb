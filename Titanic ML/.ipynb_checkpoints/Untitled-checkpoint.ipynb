{
 "cells": [
  {
   "cell_type": "markdown",
   "metadata": {},
   "source": [
    "## Introduction\n",
    "\n",
    "For this project, we will be diving into the Titanic dataset. This dataset includes numerous features of passengers on the Titanic such as gender, ticket class, age, and more. The dataset also includes a feature that dictates whether or not a certain passenger survived. Our goal for this project is to get a deeper understanding of this data, and then utilize machine learning algorithms (I will be utilizing Random Forest Classifiers as well as XGBoost Classifiers), to predict whether a passenger survived. I have chosen these algorithms due to our goal being to predict whether a passenger survived given some features, and this is accomplished very well through decision tree algorithms. We will start by importing needed packages for this project."
   ]
  },
  {
   "cell_type": "markdown",
   "metadata": {},
   "source": [
    "**Imports**"
   ]
  },
  {
   "cell_type": "code",
   "execution_count": 147,
   "metadata": {},
   "outputs": [],
   "source": [
    "import numpy as np\n",
    "import pandas as pd\n",
    "import matplotlib.pyplot as plt\n",
    "%matplotlib inline\n",
    "import seaborn as sb\n",
    "from sklearn.model_selection import train_test_split\n",
    "from sklearn.model_selection import cross_val_score\n",
    "from sklearn.metrics import accuracy_score\n",
    "from sklearn.ensemble import RandomForestClassifier\n",
    "from sklearn.preprocessing import OneHotEncoder\n",
    "from sklearn.metrics import confusion_matrix\n",
    "import xgboost as xgb\n",
    "from sklearn.model_selection import GridSearchCV\n",
    "from sklearn.model_selection import RandomizedSearchCV\n",
    "import joblib as jbl\n",
    "from scipy.stats import randint\n",
    "from scipy.stats import uniform"
   ]
  },
  {
   "cell_type": "markdown",
   "metadata": {},
   "source": [
    "## Data Exploration, Visualization, and Cleaning"
   ]
  },
  {
   "cell_type": "markdown",
   "metadata": {},
   "source": [
    "**Introduction to Data**\n",
    "\n",
    "This dataset contains information for 891 passengers aboard the Titanic when it departed on April 15th, 1912. Given the features, some passengers were notably more likely to surive the Titanic sinking more than others. Our challenge is to predict whether or not a passenger survived given these features:\n",
    "\n",
    "- Pclass (int) - Ticket class of passenger\n",
    "- Name (str) - Name of passenger\n",
    "- Sex (str) - Sex of passenger\n",
    "- Age (int) - Age of passenger in years\n",
    "- SibSp (int) - Number of siblings and spouses aboard\n",
    "- Parch (int) - Number of parents and children aboard\n",
    "- Ticket (str) - Ticket number\n",
    "- Fare (float) - Price of ticket\n",
    "- Cabin (str) - Cabin number\n",
    "- Embarked (str) - Port where passenger embarked (C = Cherbourg, Q = Queenstown, S = Southampton)\n",
    "\n",
    "Now, let's load in the data and take a look at some of the rows and then take a quick peek at correlation."
   ]
  },
  {
   "cell_type": "code",
   "execution_count": 88,
   "metadata": {},
   "outputs": [
    {
     "data": {
      "text/html": [
       "<div>\n",
       "<style scoped>\n",
       "    .dataframe tbody tr th:only-of-type {\n",
       "        vertical-align: middle;\n",
       "    }\n",
       "\n",
       "    .dataframe tbody tr th {\n",
       "        vertical-align: top;\n",
       "    }\n",
       "\n",
       "    .dataframe thead th {\n",
       "        text-align: right;\n",
       "    }\n",
       "</style>\n",
       "<table border=\"1\" class=\"dataframe\">\n",
       "  <thead>\n",
       "    <tr style=\"text-align: right;\">\n",
       "      <th></th>\n",
       "      <th>PassengerId</th>\n",
       "      <th>Survived</th>\n",
       "      <th>Pclass</th>\n",
       "      <th>Name</th>\n",
       "      <th>Sex</th>\n",
       "      <th>Age</th>\n",
       "      <th>SibSp</th>\n",
       "      <th>Parch</th>\n",
       "      <th>Ticket</th>\n",
       "      <th>Fare</th>\n",
       "      <th>Cabin</th>\n",
       "      <th>Embarked</th>\n",
       "    </tr>\n",
       "  </thead>\n",
       "  <tbody>\n",
       "    <tr>\n",
       "      <th>0</th>\n",
       "      <td>1</td>\n",
       "      <td>0</td>\n",
       "      <td>3</td>\n",
       "      <td>Braund, Mr. Owen Harris</td>\n",
       "      <td>male</td>\n",
       "      <td>22.0</td>\n",
       "      <td>1</td>\n",
       "      <td>0</td>\n",
       "      <td>A/5 21171</td>\n",
       "      <td>7.2500</td>\n",
       "      <td>NaN</td>\n",
       "      <td>S</td>\n",
       "    </tr>\n",
       "    <tr>\n",
       "      <th>1</th>\n",
       "      <td>2</td>\n",
       "      <td>1</td>\n",
       "      <td>1</td>\n",
       "      <td>Cumings, Mrs. John Bradley (Florence Briggs Th...</td>\n",
       "      <td>female</td>\n",
       "      <td>38.0</td>\n",
       "      <td>1</td>\n",
       "      <td>0</td>\n",
       "      <td>PC 17599</td>\n",
       "      <td>71.2833</td>\n",
       "      <td>C85</td>\n",
       "      <td>C</td>\n",
       "    </tr>\n",
       "    <tr>\n",
       "      <th>2</th>\n",
       "      <td>3</td>\n",
       "      <td>1</td>\n",
       "      <td>3</td>\n",
       "      <td>Heikkinen, Miss. Laina</td>\n",
       "      <td>female</td>\n",
       "      <td>26.0</td>\n",
       "      <td>0</td>\n",
       "      <td>0</td>\n",
       "      <td>STON/O2. 3101282</td>\n",
       "      <td>7.9250</td>\n",
       "      <td>NaN</td>\n",
       "      <td>S</td>\n",
       "    </tr>\n",
       "    <tr>\n",
       "      <th>3</th>\n",
       "      <td>4</td>\n",
       "      <td>1</td>\n",
       "      <td>1</td>\n",
       "      <td>Futrelle, Mrs. Jacques Heath (Lily May Peel)</td>\n",
       "      <td>female</td>\n",
       "      <td>35.0</td>\n",
       "      <td>1</td>\n",
       "      <td>0</td>\n",
       "      <td>113803</td>\n",
       "      <td>53.1000</td>\n",
       "      <td>C123</td>\n",
       "      <td>S</td>\n",
       "    </tr>\n",
       "    <tr>\n",
       "      <th>4</th>\n",
       "      <td>5</td>\n",
       "      <td>0</td>\n",
       "      <td>3</td>\n",
       "      <td>Allen, Mr. William Henry</td>\n",
       "      <td>male</td>\n",
       "      <td>35.0</td>\n",
       "      <td>0</td>\n",
       "      <td>0</td>\n",
       "      <td>373450</td>\n",
       "      <td>8.0500</td>\n",
       "      <td>NaN</td>\n",
       "      <td>S</td>\n",
       "    </tr>\n",
       "  </tbody>\n",
       "</table>\n",
       "</div>"
      ],
      "text/plain": [
       "   PassengerId  Survived  Pclass  \\\n",
       "0            1         0       3   \n",
       "1            2         1       1   \n",
       "2            3         1       3   \n",
       "3            4         1       1   \n",
       "4            5         0       3   \n",
       "\n",
       "                                                Name     Sex   Age  SibSp  \\\n",
       "0                            Braund, Mr. Owen Harris    male  22.0      1   \n",
       "1  Cumings, Mrs. John Bradley (Florence Briggs Th...  female  38.0      1   \n",
       "2                             Heikkinen, Miss. Laina  female  26.0      0   \n",
       "3       Futrelle, Mrs. Jacques Heath (Lily May Peel)  female  35.0      1   \n",
       "4                           Allen, Mr. William Henry    male  35.0      0   \n",
       "\n",
       "   Parch            Ticket     Fare Cabin Embarked  \n",
       "0      0         A/5 21171   7.2500   NaN        S  \n",
       "1      0          PC 17599  71.2833   C85        C  \n",
       "2      0  STON/O2. 3101282   7.9250   NaN        S  \n",
       "3      0            113803  53.1000  C123        S  \n",
       "4      0            373450   8.0500   NaN        S  "
      ]
     },
     "execution_count": 88,
     "metadata": {},
     "output_type": "execute_result"
    }
   ],
   "source": [
    "titanic = pd.read_csv('train.csv')\n",
    "titanic.head()"
   ]
  },
  {
   "cell_type": "code",
   "execution_count": 89,
   "metadata": {},
   "outputs": [
    {
     "data": {
      "text/html": [
       "<div>\n",
       "<style scoped>\n",
       "    .dataframe tbody tr th:only-of-type {\n",
       "        vertical-align: middle;\n",
       "    }\n",
       "\n",
       "    .dataframe tbody tr th {\n",
       "        vertical-align: top;\n",
       "    }\n",
       "\n",
       "    .dataframe thead th {\n",
       "        text-align: right;\n",
       "    }\n",
       "</style>\n",
       "<table border=\"1\" class=\"dataframe\">\n",
       "  <thead>\n",
       "    <tr style=\"text-align: right;\">\n",
       "      <th></th>\n",
       "      <th>PassengerId</th>\n",
       "      <th>Survived</th>\n",
       "      <th>Pclass</th>\n",
       "      <th>Age</th>\n",
       "      <th>SibSp</th>\n",
       "      <th>Parch</th>\n",
       "      <th>Fare</th>\n",
       "    </tr>\n",
       "  </thead>\n",
       "  <tbody>\n",
       "    <tr>\n",
       "      <th>PassengerId</th>\n",
       "      <td>1.000000</td>\n",
       "      <td>-0.005007</td>\n",
       "      <td>-0.035144</td>\n",
       "      <td>0.036847</td>\n",
       "      <td>-0.057527</td>\n",
       "      <td>-0.001652</td>\n",
       "      <td>0.012658</td>\n",
       "    </tr>\n",
       "    <tr>\n",
       "      <th>Survived</th>\n",
       "      <td>-0.005007</td>\n",
       "      <td>1.000000</td>\n",
       "      <td>-0.338481</td>\n",
       "      <td>-0.077221</td>\n",
       "      <td>-0.035322</td>\n",
       "      <td>0.081629</td>\n",
       "      <td>0.257307</td>\n",
       "    </tr>\n",
       "    <tr>\n",
       "      <th>Pclass</th>\n",
       "      <td>-0.035144</td>\n",
       "      <td>-0.338481</td>\n",
       "      <td>1.000000</td>\n",
       "      <td>-0.369226</td>\n",
       "      <td>0.083081</td>\n",
       "      <td>0.018443</td>\n",
       "      <td>-0.549500</td>\n",
       "    </tr>\n",
       "    <tr>\n",
       "      <th>Age</th>\n",
       "      <td>0.036847</td>\n",
       "      <td>-0.077221</td>\n",
       "      <td>-0.369226</td>\n",
       "      <td>1.000000</td>\n",
       "      <td>-0.308247</td>\n",
       "      <td>-0.189119</td>\n",
       "      <td>0.096067</td>\n",
       "    </tr>\n",
       "    <tr>\n",
       "      <th>SibSp</th>\n",
       "      <td>-0.057527</td>\n",
       "      <td>-0.035322</td>\n",
       "      <td>0.083081</td>\n",
       "      <td>-0.308247</td>\n",
       "      <td>1.000000</td>\n",
       "      <td>0.414838</td>\n",
       "      <td>0.159651</td>\n",
       "    </tr>\n",
       "    <tr>\n",
       "      <th>Parch</th>\n",
       "      <td>-0.001652</td>\n",
       "      <td>0.081629</td>\n",
       "      <td>0.018443</td>\n",
       "      <td>-0.189119</td>\n",
       "      <td>0.414838</td>\n",
       "      <td>1.000000</td>\n",
       "      <td>0.216225</td>\n",
       "    </tr>\n",
       "    <tr>\n",
       "      <th>Fare</th>\n",
       "      <td>0.012658</td>\n",
       "      <td>0.257307</td>\n",
       "      <td>-0.549500</td>\n",
       "      <td>0.096067</td>\n",
       "      <td>0.159651</td>\n",
       "      <td>0.216225</td>\n",
       "      <td>1.000000</td>\n",
       "    </tr>\n",
       "  </tbody>\n",
       "</table>\n",
       "</div>"
      ],
      "text/plain": [
       "             PassengerId  Survived    Pclass       Age     SibSp     Parch  \\\n",
       "PassengerId     1.000000 -0.005007 -0.035144  0.036847 -0.057527 -0.001652   \n",
       "Survived       -0.005007  1.000000 -0.338481 -0.077221 -0.035322  0.081629   \n",
       "Pclass         -0.035144 -0.338481  1.000000 -0.369226  0.083081  0.018443   \n",
       "Age             0.036847 -0.077221 -0.369226  1.000000 -0.308247 -0.189119   \n",
       "SibSp          -0.057527 -0.035322  0.083081 -0.308247  1.000000  0.414838   \n",
       "Parch          -0.001652  0.081629  0.018443 -0.189119  0.414838  1.000000   \n",
       "Fare            0.012658  0.257307 -0.549500  0.096067  0.159651  0.216225   \n",
       "\n",
       "                 Fare  \n",
       "PassengerId  0.012658  \n",
       "Survived     0.257307  \n",
       "Pclass      -0.549500  \n",
       "Age          0.096067  \n",
       "SibSp        0.159651  \n",
       "Parch        0.216225  \n",
       "Fare         1.000000  "
      ]
     },
     "execution_count": 89,
     "metadata": {},
     "output_type": "execute_result"
    }
   ],
   "source": [
    "titanic.corr()"
   ]
  },
  {
   "cell_type": "markdown",
   "metadata": {},
   "source": [
    "Looking at the correlation, we can see right away that the \"PassengerId\" variable contains no relevant information to whether a passenger survived due to the correlation being close to zero so this variable will be dropped. \"Parch\" and \"SibSp\" have a rather high correlation to each  other, so we will explore combining these variables later on.  Other variables can be seen to have some corretion to \"Survived\", so we will keep those features."
   ]
  },
  {
   "cell_type": "markdown",
   "metadata": {},
   "source": [
    "**Check for Missing Values**\n",
    "\n",
    "Our first task will be check whether there are missing values in any of the columns. If there are, we will want to look into these columns and explore our options for dealing with these null values."
   ]
  },
  {
   "cell_type": "code",
   "execution_count": 90,
   "metadata": {},
   "outputs": [
    {
     "data": {
      "text/plain": [
       "PassengerId      0\n",
       "Survived         0\n",
       "Pclass           0\n",
       "Name             0\n",
       "Sex              0\n",
       "Age            177\n",
       "SibSp            0\n",
       "Parch            0\n",
       "Ticket           0\n",
       "Fare             0\n",
       "Cabin          687\n",
       "Embarked         2\n",
       "dtype: int64"
      ]
     },
     "execution_count": 90,
     "metadata": {},
     "output_type": "execute_result"
    }
   ],
   "source": [
    "titanic.isnull().sum()"
   ]
  },
  {
   "cell_type": "markdown",
   "metadata": {},
   "source": [
    "As we can see above there are 177 null values for Age, 687 null values for Cabin, and 2 null values for Embarked. We will first take a look at the Age feature."
   ]
  },
  {
   "cell_type": "code",
   "execution_count": 91,
   "metadata": {},
   "outputs": [
    {
     "name": "stderr",
     "output_type": "stream",
     "text": [
      "C:\\Users\\Josh\\Anaconda3\\lib\\site-packages\\numpy\\lib\\histograms.py:824: RuntimeWarning: invalid value encountered in greater_equal\n",
      "  keep = (tmp_a >= first_edge)\n",
      "C:\\Users\\Josh\\Anaconda3\\lib\\site-packages\\numpy\\lib\\histograms.py:825: RuntimeWarning: invalid value encountered in less_equal\n",
      "  keep &= (tmp_a <= last_edge)\n"
     ]
    },
    {
     "data": {
      "image/png": "[encoded data removed]",
      "text/plain": [
       "<Figure size 432x288 with 1 Axes>"
      ]
     },
     "metadata": {
      "needs_background": "light"
     },
     "output_type": "display_data"
    }
   ],
   "source": [
    "age_mean = titanic.Age.mean()\n",
    "age_median = titanic.Age.median()\n",
    "plt.hist(titanic.Age, bins = 40)\n",
    "plt.axvline(x = age_mean, color = \"Orange\", label = \"Mean\")\n",
    "plt.axvline(x = age_median, color = \"Red\", label = \"Median\")\n",
    "plt.legend()\n",
    "plt.xlabel(\"Age\")\n",
    "plt.ylabel(\"Count\")\n",
    "plt.title(\"Histogram of Age Feature\")\n",
    "plt.show()"
   ]
  },
  {
   "cell_type": "markdown",
   "metadata": {},
   "source": [
    "Looking at the distribution of the Age variable, it seems like our best option for filling in null values will be to impute the mean due to the mean being more in the center of the distribution. Although it should be noted that the median and mean are close enough where the difference could be considered neglible. Let us now fill in null values with the mean and print out some of the rows of Age, where we will be able to see that some rows are floats due to mean imputation."
   ]
  },
  {
   "cell_type": "code",
   "execution_count": 92,
   "metadata": {},
   "outputs": [
    {
     "data": {
      "text/plain": [
       "0    22.000000\n",
       "1    38.000000\n",
       "2    26.000000\n",
       "3    35.000000\n",
       "4    35.000000\n",
       "5    29.699118\n",
       "6    54.000000\n",
       "7     2.000000\n",
       "8    27.000000\n",
       "9    14.000000\n",
       "Name: Age, dtype: float64"
      ]
     },
     "execution_count": 92,
     "metadata": {},
     "output_type": "execute_result"
    }
   ],
   "source": [
    "titanic.Age.fillna(titanic.Age.mean(), inplace = True)\n",
    "titanic.Age.head(10)"
   ]
  },
  {
   "cell_type": "markdown",
   "metadata": {},
   "source": [
    "Now that our Age feature contains no null values, we will move onto exploring the Cabin feature. Since our null count is so high for the Cabin feature, with 687 null values, I believe that these values are not randomly missing but instead actually have meaning as to why they are missing. Let's go ahead and group by whether or not the Cabin feature is null, and then look at the mean survival rate between null and not null."
   ]
  },
  {
   "cell_type": "code",
   "execution_count": 93,
   "metadata": {},
   "outputs": [
    {
     "data": {
      "text/plain": [
       "Cabin\n",
       "False    0.666667\n",
       "True     0.299854\n",
       "Name: Survived, dtype: float64"
      ]
     },
     "execution_count": 93,
     "metadata": {},
     "output_type": "execute_result"
    }
   ],
   "source": [
    "titanic.groupby(titanic.Cabin.isnull()).Survived.mean()"
   ]
  },
  {
   "cell_type": "markdown",
   "metadata": {},
   "source": [
    "As we can see above, if the Cabin feature *is not* null then passengers have a mean survival rate of about .667. If the Cabin feature *is* null then passengers have a mean survival rate of about .30. This is drastically different, confirming that these values are most likely not missing at random. I believe the passengers that have a null value for Cabin did not actually have a cabin, rather than it just missing randomly. \n",
    "\n",
    "Let's create a simple feature that dictates whether or not a passenger had a Cabin. If the Cabin feature is missing we will assign that passenger a 0 for this feature, meaning that this passenger did not have a cabin. If the Cabin feature is not missing we will assign that passenger a 1 for this feature, meaning that this passenger did have a cabin."
   ]
  },
  {
   "cell_type": "code",
   "execution_count": 94,
   "metadata": {},
   "outputs": [],
   "source": [
    "titanic[\"Cabin_or_not\"] = np.where(titanic.Cabin.isnull(), 0, 1)"
   ]
  },
  {
   "cell_type": "markdown",
   "metadata": {},
   "source": [
    "For our last feature with null values, Embarked, I believe that our best option is to remove this feature as a whole. We will go ahead and do this."
   ]
  },
  {
   "cell_type": "code",
   "execution_count": 95,
   "metadata": {},
   "outputs": [],
   "source": [
    "titanic.drop(\"Embarked\", axis = 1, inplace = True)"
   ]
  },
  {
   "cell_type": "markdown",
   "metadata": {},
   "source": [
    "**Further Exploration**\n",
    "\n",
    "The last features I want to explore are the SibSp and Parch features. These features are number of siblings and spouses aboard, and number of parents and children aboard, respectively. Since these features are so similar, we will explore the option of possibly combining these two variables into one variable that gives the total number of family members onboard for that passenger. Let us create some categorical plots that will show the average survival rate for each number of siblings & spouses, and parents and children aboard."
   ]
  },
  {
   "cell_type": "code",
   "execution_count": 96,
   "metadata": {},
   "outputs": [
    {
     "data": {
      "text/plain": [
       "<Figure size 432x288 with 0 Axes>"
      ]
     },
     "metadata": {},
     "output_type": "display_data"
    },
    {
     "data": {
      "image/png": "[encoded data removed]",
      "text/plain": [
       "<Figure size 1080x360 with 1 Axes>"
      ]
     },
     "metadata": {
      "needs_background": "light"
     },
     "output_type": "display_data"
    },
    {
     "data": {
      "image/png": "[encoded data removed]",
      "text/plain": [
       "<Figure size 1080x360 with 1 Axes>"
      ]
     },
     "metadata": {
      "needs_background": "light"
     },
     "output_type": "display_data"
    }
   ],
   "source": [
    "for i, feature in enumerate([\"SibSp\", \"Parch\"]):\n",
    "    plt.figure(i)\n",
    "    sb.catplot(x = feature, y = \"Survived\", data = titanic, kind = \"point\", aspect = 3, color = \"green\")"
   ]
  },
  {
   "cell_type": "markdown",
   "metadata": {},
   "source": [
    "As we can see above, both features contain a similar trend. The trend for \"SibSp\" is that the more siblings and spouses aboard, the less chance of survival. The trend for \"Parch\", while a little less clean, is that the more parents and children aboard, the less chance of survival. Since these trends are so similar, we will move forward with combining these two variables into one feature named \"Total_family_members\" and then dropping \"Sibsp\" and \"Parch\"."
   ]
  },
  {
   "cell_type": "code",
   "execution_count": 97,
   "metadata": {},
   "outputs": [],
   "source": [
    "titanic[\"Total_family_members\"] = titanic.SibSp + titanic.Parch"
   ]
  },
  {
   "cell_type": "markdown",
   "metadata": {},
   "source": [
    "**Transform \"Sex\" to Binary Variable**\n",
    "\n",
    "Since the \"Sex\" feature is currently given as \"male\" or \"female\", we will need to use label binarization to transform these categories into a \"1\" or a \"0\". Where \"male\" = 0, and \"female\" = 1."
   ]
  },
  {
   "cell_type": "code",
   "execution_count": 98,
   "metadata": {},
   "outputs": [],
   "source": [
    "encoder = OneHotEncoder(sparse=False, dtype = np.int)\n",
    "titanic[\"Sex\"] = encoder.fit_transform(titanic[\"Sex\"].values.reshape(-1, 1))"
   ]
  },
  {
   "cell_type": "markdown",
   "metadata": {},
   "source": [
    "**Drop Uneccessary Features**\n",
    "\n",
    "Now that we have completed exploring and cleaning the data, we will drop unecessary variables from the data. These variables includ \"SibSp\" and \"Parch\" due to combining them inton a single feature, \"PassengerId\" as this feature contains no information as noted above when looking at the correlation matrix, and then \"Ticket\" as the ticket number also will not be helpful in predicting whether a passenger survived or not, \"Name\" as this feature will not be helpful as well, and lastly \"Cabin\" as we used this variable to create an indication variable instead."
   ]
  },
  {
   "cell_type": "code",
   "execution_count": 99,
   "metadata": {},
   "outputs": [],
   "source": [
    "titanic.drop([\"Cabin\", \"SibSp\", \"Parch\", \"Name\", \"Ticket\", \"PassengerId\"], axis = 1, inplace = True)"
   ]
  },
  {
   "cell_type": "markdown",
   "metadata": {},
   "source": [
    "Now that we have dropped all uneccesary features, let's take a look at the first 10 rows of our cleaned data."
   ]
  },
  {
   "cell_type": "code",
   "execution_count": 100,
   "metadata": {},
   "outputs": [
    {
     "data": {
      "text/html": [
       "<div>\n",
       "<style scoped>\n",
       "    .dataframe tbody tr th:only-of-type {\n",
       "        vertical-align: middle;\n",
       "    }\n",
       "\n",
       "    .dataframe tbody tr th {\n",
       "        vertical-align: top;\n",
       "    }\n",
       "\n",
       "    .dataframe thead th {\n",
       "        text-align: right;\n",
       "    }\n",
       "</style>\n",
       "<table border=\"1\" class=\"dataframe\">\n",
       "  <thead>\n",
       "    <tr style=\"text-align: right;\">\n",
       "      <th></th>\n",
       "      <th>Survived</th>\n",
       "      <th>Pclass</th>\n",
       "      <th>Sex</th>\n",
       "      <th>Age</th>\n",
       "      <th>Fare</th>\n",
       "      <th>Cabin_or_not</th>\n",
       "      <th>Total_family_members</th>\n",
       "    </tr>\n",
       "  </thead>\n",
       "  <tbody>\n",
       "    <tr>\n",
       "      <th>0</th>\n",
       "      <td>0</td>\n",
       "      <td>3</td>\n",
       "      <td>0</td>\n",
       "      <td>22.000000</td>\n",
       "      <td>7.2500</td>\n",
       "      <td>0</td>\n",
       "      <td>1</td>\n",
       "    </tr>\n",
       "    <tr>\n",
       "      <th>1</th>\n",
       "      <td>1</td>\n",
       "      <td>1</td>\n",
       "      <td>1</td>\n",
       "      <td>38.000000</td>\n",
       "      <td>71.2833</td>\n",
       "      <td>1</td>\n",
       "      <td>1</td>\n",
       "    </tr>\n",
       "    <tr>\n",
       "      <th>2</th>\n",
       "      <td>1</td>\n",
       "      <td>3</td>\n",
       "      <td>1</td>\n",
       "      <td>26.000000</td>\n",
       "      <td>7.9250</td>\n",
       "      <td>0</td>\n",
       "      <td>0</td>\n",
       "    </tr>\n",
       "    <tr>\n",
       "      <th>3</th>\n",
       "      <td>1</td>\n",
       "      <td>1</td>\n",
       "      <td>1</td>\n",
       "      <td>35.000000</td>\n",
       "      <td>53.1000</td>\n",
       "      <td>1</td>\n",
       "      <td>1</td>\n",
       "    </tr>\n",
       "    <tr>\n",
       "      <th>4</th>\n",
       "      <td>0</td>\n",
       "      <td>3</td>\n",
       "      <td>0</td>\n",
       "      <td>35.000000</td>\n",
       "      <td>8.0500</td>\n",
       "      <td>0</td>\n",
       "      <td>0</td>\n",
       "    </tr>\n",
       "    <tr>\n",
       "      <th>5</th>\n",
       "      <td>0</td>\n",
       "      <td>3</td>\n",
       "      <td>0</td>\n",
       "      <td>29.699118</td>\n",
       "      <td>8.4583</td>\n",
       "      <td>0</td>\n",
       "      <td>0</td>\n",
       "    </tr>\n",
       "    <tr>\n",
       "      <th>6</th>\n",
       "      <td>0</td>\n",
       "      <td>1</td>\n",
       "      <td>0</td>\n",
       "      <td>54.000000</td>\n",
       "      <td>51.8625</td>\n",
       "      <td>1</td>\n",
       "      <td>0</td>\n",
       "    </tr>\n",
       "    <tr>\n",
       "      <th>7</th>\n",
       "      <td>0</td>\n",
       "      <td>3</td>\n",
       "      <td>0</td>\n",
       "      <td>2.000000</td>\n",
       "      <td>21.0750</td>\n",
       "      <td>0</td>\n",
       "      <td>4</td>\n",
       "    </tr>\n",
       "    <tr>\n",
       "      <th>8</th>\n",
       "      <td>1</td>\n",
       "      <td>3</td>\n",
       "      <td>1</td>\n",
       "      <td>27.000000</td>\n",
       "      <td>11.1333</td>\n",
       "      <td>0</td>\n",
       "      <td>2</td>\n",
       "    </tr>\n",
       "    <tr>\n",
       "      <th>9</th>\n",
       "      <td>1</td>\n",
       "      <td>2</td>\n",
       "      <td>1</td>\n",
       "      <td>14.000000</td>\n",
       "      <td>30.0708</td>\n",
       "      <td>0</td>\n",
       "      <td>1</td>\n",
       "    </tr>\n",
       "  </tbody>\n",
       "</table>\n",
       "</div>"
      ],
      "text/plain": [
       "   Survived  Pclass  Sex        Age     Fare  Cabin_or_not  \\\n",
       "0         0       3    0  22.000000   7.2500             0   \n",
       "1         1       1    1  38.000000  71.2833             1   \n",
       "2         1       3    1  26.000000   7.9250             0   \n",
       "3         1       1    1  35.000000  53.1000             1   \n",
       "4         0       3    0  35.000000   8.0500             0   \n",
       "5         0       3    0  29.699118   8.4583             0   \n",
       "6         0       1    0  54.000000  51.8625             1   \n",
       "7         0       3    0   2.000000  21.0750             0   \n",
       "8         1       3    1  27.000000  11.1333             0   \n",
       "9         1       2    1  14.000000  30.0708             0   \n",
       "\n",
       "   Total_family_members  \n",
       "0                     1  \n",
       "1                     1  \n",
       "2                     0  \n",
       "3                     1  \n",
       "4                     0  \n",
       "5                     0  \n",
       "6                     0  \n",
       "7                     4  \n",
       "8                     2  \n",
       "9                     1  "
      ]
     },
     "execution_count": 100,
     "metadata": {},
     "output_type": "execute_result"
    }
   ],
   "source": [
    "titanic.head(10)"
   ]
  },
  {
   "cell_type": "markdown",
   "metadata": {},
   "source": [
    "## Split Data\n",
    "\n",
    "**Split into train and validation set**\n",
    "\n",
    "We will first split our cleaned data into a training and validation set in order to train our classification algorithms and then use validation data to \"validate\" our models on unseen data. For this step, we will split the data into 70% training data and 30% validation data."
   ]
  },
  {
   "cell_type": "code",
   "execution_count": 101,
   "metadata": {},
   "outputs": [],
   "source": [
    "titanic_features = titanic.drop(\"Survived\", axis = 1)\n",
    "titanic_labels = titanic.Survived\n",
    "\n",
    "Xtrain, Xval, ytrain, yval = train_test_split(titanic_features, titanic_labels, test_size = .30, random_state = 42)"
   ]
  },
  {
   "cell_type": "markdown",
   "metadata": {},
   "source": [
    "**Spit into validation and testing set**\n",
    "\n",
    "Now that we have split our cleaned data into a training and validation set using a 70/30 split, we will now take that validation set and split it into a validation and testing set using a 50/50 split. This will make the validation and testing set both include 15% of the cleaned data. We will then verify that the validation and test set are equal, and also print out the size of the training set."
   ]
  },
  {
   "cell_type": "code",
   "execution_count": 102,
   "metadata": {},
   "outputs": [],
   "source": [
    "Xval, Xtest, yval, ytest = train_test_split(Xval, yval, test_size = .50, random_state = 42)"
   ]
  },
  {
   "cell_type": "code",
   "execution_count": 103,
   "metadata": {},
   "outputs": [
    {
     "name": "stdout",
     "output_type": "stream",
     "text": [
      "Size of training data: 623\n",
      "Size of validation data: 134\n",
      "Size of testing data: 134\n"
     ]
    }
   ],
   "source": [
    "print(\"Size of training data: {0}\".format(len(ytrain)))\n",
    "print(\"Size of validation data: {0}\".format(len(yval)))\n",
    "print(\"Size of testing data: {0}\".format(len(ytest)))"
   ]
  },
  {
   "cell_type": "markdown",
   "metadata": {},
   "source": [
    "Now that the data is split, we will move onto creating our models."
   ]
  },
  {
   "cell_type": "markdown",
   "metadata": {},
   "source": [
    "## Model Fitting\n",
    "\n",
    "**Random Forest Classifier**\n",
    "\n",
    "The Random Forest Classifier algorithm is an ensemble learning method that fits a number of decision trees on sub-samples of the dataset and then uses averages to maximize accuracy. We will first create a base model of this algorithm with no parameter tuning to get an idea of performance using five-fold cross-validation accuracy scoring, and then we will utilize RandomizedSearchCV for parameter tuning."
   ]
  },
  {
   "cell_type": "code",
   "execution_count": 105,
   "metadata": {},
   "outputs": [
    {
     "name": "stderr",
     "output_type": "stream",
     "text": [
      "C:\\Users\\Josh\\Anaconda3\\lib\\site-packages\\sklearn\\ensemble\\forest.py:246: FutureWarning: The default value of n_estimators will change from 10 in version 0.20 to 100 in 0.22.\n",
      "  \"10 in version 0.20 to 100 in 0.22.\", FutureWarning)\n"
     ]
    },
    {
     "data": {
      "text/plain": [
       "RandomForestClassifier(bootstrap=True, class_weight=None, criterion='gini',\n",
       "            max_depth=None, max_features='auto', max_leaf_nodes=None,\n",
       "            min_impurity_decrease=0.0, min_impurity_split=None,\n",
       "            min_samples_leaf=1, min_samples_split=2,\n",
       "            min_weight_fraction_leaf=0.0, n_estimators=10, n_jobs=None,\n",
       "            oob_score=False, random_state=42, verbose=0, warm_start=False)"
      ]
     },
     "execution_count": 105,
     "metadata": {},
     "output_type": "execute_result"
    }
   ],
   "source": [
    "rfc = RandomForestClassifier(random_state = 42)\n",
    "rfc.fit(Xtrain, ytrain)"
   ]
  },
  {
   "cell_type": "code",
   "execution_count": 106,
   "metadata": {},
   "outputs": [
    {
     "name": "stdout",
     "output_type": "stream",
     "text": [
      "Mean Accuracy Using Five-Fold Cross-Validation: 0.7832593958013313\n"
     ]
    }
   ],
   "source": [
    "rfc_score = cross_val_score(rfc, Xtrain, ytrain, cv = 5)\n",
    "print(\"Mean Accuracy Using Five-Fold Cross-Validation: {0}\".format(rfc_score.mean()))"
   ]
  },
  {
   "cell_type": "markdown",
   "metadata": {},
   "source": [
    "For our base model of Random Forest Classification, we are getting a five-fold cross-validation accuracy score of about .783. While this is good for a base model, I believe this can be improved by utilizing parameter tuning."
   ]
  },
  {
   "cell_type": "code",
   "execution_count": 115,
   "metadata": {},
   "outputs": [
    {
     "name": "stdout",
     "output_type": "stream",
     "text": [
      "Fitting 5 folds for each of 50 candidates, totalling 250 fits\n",
      "[Parallel(n_jobs=-1)]: Using backend LokyBackend with 8 concurrent workers.\n",
      "[Parallel(n_jobs=-1)]: Done   1 tasks      | elapsed:    3.4s\n",
      "[Parallel(n_jobs=-1)]: Done   2 tasks      | elapsed:    3.5s\n",
      "[Parallel(n_jobs=-1)]: Done   3 tasks      | elapsed:    3.6s\n",
      "[Parallel(n_jobs=-1)]: Done   4 tasks      | elapsed:    3.9s\n",
      "[Parallel(n_jobs=-1)]: Done   5 tasks      | elapsed:    3.9s\n",
      "[Parallel(n_jobs=-1)]: Done   6 tasks      | elapsed:    4.0s\n",
      "[Parallel(n_jobs=-1)]: Done   7 tasks      | elapsed:    4.0s\n",
      "[Parallel(n_jobs=-1)]: Done   8 tasks      | elapsed:    4.0s\n",
      "[Parallel(n_jobs=-1)]: Done   9 tasks      | elapsed:    4.0s\n",
      "[Parallel(n_jobs=-1)]: Done  10 tasks      | elapsed:    4.0s\n",
      "[Parallel(n_jobs=-1)]: Done  11 tasks      | elapsed:    5.5s\n",
      "[Parallel(n_jobs=-1)]: Done  12 tasks      | elapsed:    5.8s\n",
      "[Parallel(n_jobs=-1)]: Done  13 tasks      | elapsed:    6.0s\n",
      "[Parallel(n_jobs=-1)]: Done  14 tasks      | elapsed:    6.0s\n",
      "[Parallel(n_jobs=-1)]: Done  15 tasks      | elapsed:    6.1s\n",
      "[Parallel(n_jobs=-1)]: Done  16 tasks      | elapsed:    6.2s\n",
      "[Parallel(n_jobs=-1)]: Done  17 tasks      | elapsed:    6.3s\n",
      "[Parallel(n_jobs=-1)]: Done  18 tasks      | elapsed:    6.5s\n",
      "[Parallel(n_jobs=-1)]: Done  19 tasks      | elapsed:    6.5s\n",
      "[Parallel(n_jobs=-1)]: Done  20 tasks      | elapsed:    6.6s\n",
      "[Parallel(n_jobs=-1)]: Done  21 tasks      | elapsed:    6.7s\n",
      "[Parallel(n_jobs=-1)]: Done  22 tasks      | elapsed:    6.8s\n",
      "[Parallel(n_jobs=-1)]: Done  23 tasks      | elapsed:    6.9s\n",
      "[Parallel(n_jobs=-1)]: Done  24 tasks      | elapsed:    7.0s\n",
      "[Parallel(n_jobs=-1)]: Done  25 tasks      | elapsed:    7.2s\n",
      "[Parallel(n_jobs=-1)]: Done  26 tasks      | elapsed:    7.4s\n",
      "[Parallel(n_jobs=-1)]: Done  27 tasks      | elapsed:    7.6s\n",
      "[Parallel(n_jobs=-1)]: Done  28 tasks      | elapsed:    7.7s\n",
      "[Parallel(n_jobs=-1)]: Done  29 tasks      | elapsed:    7.7s\n",
      "[Parallel(n_jobs=-1)]: Done  30 tasks      | elapsed:    7.7s\n",
      "[Parallel(n_jobs=-1)]: Done  31 tasks      | elapsed:    7.8s\n",
      "[Parallel(n_jobs=-1)]: Done  32 tasks      | elapsed:    7.8s\n",
      "[Parallel(n_jobs=-1)]: Done  33 tasks      | elapsed:    7.9s\n",
      "[Parallel(n_jobs=-1)]: Done  34 tasks      | elapsed:    7.9s\n",
      "[Parallel(n_jobs=-1)]: Done  35 tasks      | elapsed:    8.0s\n",
      "[Parallel(n_jobs=-1)]: Done  36 tasks      | elapsed:    8.9s\n",
      "[Parallel(n_jobs=-1)]: Done  37 tasks      | elapsed:    9.1s\n",
      "[Parallel(n_jobs=-1)]: Done  38 tasks      | elapsed:    9.1s\n",
      "[Parallel(n_jobs=-1)]: Done  39 tasks      | elapsed:    9.1s\n",
      "[Parallel(n_jobs=-1)]: Done  40 tasks      | elapsed:    9.1s\n",
      "[Parallel(n_jobs=-1)]: Done  41 tasks      | elapsed:    9.2s\n",
      "[Parallel(n_jobs=-1)]: Done  42 tasks      | elapsed:    9.2s\n",
      "[Parallel(n_jobs=-1)]: Done  43 tasks      | elapsed:    9.2s\n",
      "[Parallel(n_jobs=-1)]: Done  44 tasks      | elapsed:    9.4s\n",
      "[Parallel(n_jobs=-1)]: Done  45 tasks      | elapsed:    9.7s\n",
      "[Parallel(n_jobs=-1)]: Done  46 tasks      | elapsed:    9.9s\n",
      "[Parallel(n_jobs=-1)]: Done  47 tasks      | elapsed:   10.1s\n",
      "[Parallel(n_jobs=-1)]: Done  48 tasks      | elapsed:   10.1s\n",
      "[Parallel(n_jobs=-1)]: Done  49 tasks      | elapsed:   10.1s\n",
      "[Parallel(n_jobs=-1)]: Done  50 tasks      | elapsed:   10.2s\n",
      "[Parallel(n_jobs=-1)]: Done  51 tasks      | elapsed:   10.2s\n",
      "[Parallel(n_jobs=-1)]: Done  52 tasks      | elapsed:   10.3s\n",
      "[Parallel(n_jobs=-1)]: Done  53 tasks      | elapsed:   10.3s\n",
      "[Parallel(n_jobs=-1)]: Done  54 tasks      | elapsed:   10.3s\n",
      "[Parallel(n_jobs=-1)]: Done  55 tasks      | elapsed:   10.3s\n",
      "[Parallel(n_jobs=-1)]: Done  56 tasks      | elapsed:   10.9s\n",
      "[Parallel(n_jobs=-1)]: Done  57 tasks      | elapsed:   10.9s\n",
      "[Parallel(n_jobs=-1)]: Done  58 tasks      | elapsed:   10.9s\n",
      "[Parallel(n_jobs=-1)]: Done  59 tasks      | elapsed:   11.5s\n",
      "[Parallel(n_jobs=-1)]: Done  60 tasks      | elapsed:   11.6s\n",
      "[Parallel(n_jobs=-1)]: Done  61 tasks      | elapsed:   11.6s\n",
      "[Parallel(n_jobs=-1)]: Done  62 tasks      | elapsed:   11.7s\n",
      "[Parallel(n_jobs=-1)]: Done  63 tasks      | elapsed:   11.7s\n",
      "[Parallel(n_jobs=-1)]: Done  64 tasks      | elapsed:   11.8s\n",
      "[Parallel(n_jobs=-1)]: Done  65 tasks      | elapsed:   11.8s\n",
      "[Parallel(n_jobs=-1)]: Done  66 tasks      | elapsed:   12.4s\n",
      "[Parallel(n_jobs=-1)]: Done  67 tasks      | elapsed:   12.5s\n",
      "[Parallel(n_jobs=-1)]: Done  68 tasks      | elapsed:   12.6s\n",
      "[Parallel(n_jobs=-1)]: Done  69 tasks      | elapsed:   12.7s\n",
      "[Parallel(n_jobs=-1)]: Done  70 tasks      | elapsed:   13.0s\n",
      "[Parallel(n_jobs=-1)]: Done  71 tasks      | elapsed:   13.0s\n",
      "[Parallel(n_jobs=-1)]: Done  72 tasks      | elapsed:   13.0s\n",
      "[Parallel(n_jobs=-1)]: Done  73 tasks      | elapsed:   13.0s\n",
      "[Parallel(n_jobs=-1)]: Done  74 tasks      | elapsed:   13.3s\n",
      "[Parallel(n_jobs=-1)]: Done  75 tasks      | elapsed:   13.3s\n",
      "[Parallel(n_jobs=-1)]: Done  76 tasks      | elapsed:   13.5s\n",
      "[Parallel(n_jobs=-1)]: Done  77 tasks      | elapsed:   13.8s\n",
      "[Parallel(n_jobs=-1)]: Done  78 tasks      | elapsed:   13.8s\n",
      "[Parallel(n_jobs=-1)]: Done  79 tasks      | elapsed:   13.9s\n",
      "[Parallel(n_jobs=-1)]: Done  80 tasks      | elapsed:   14.1s\n",
      "[Parallel(n_jobs=-1)]: Done  81 tasks      | elapsed:   14.1s\n",
      "[Parallel(n_jobs=-1)]: Done  82 tasks      | elapsed:   14.3s\n",
      "[Parallel(n_jobs=-1)]: Done  83 tasks      | elapsed:   14.3s\n",
      "[Parallel(n_jobs=-1)]: Done  84 tasks      | elapsed:   14.4s\n",
      "[Parallel(n_jobs=-1)]: Done  85 tasks      | elapsed:   14.4s\n",
      "[Parallel(n_jobs=-1)]: Done  86 tasks      | elapsed:   14.4s\n",
      "[Parallel(n_jobs=-1)]: Done  87 tasks      | elapsed:   14.4s\n",
      "[Parallel(n_jobs=-1)]: Done  88 tasks      | elapsed:   14.6s\n",
      "[Parallel(n_jobs=-1)]: Done  89 tasks      | elapsed:   14.6s\n",
      "[Parallel(n_jobs=-1)]: Done  90 tasks      | elapsed:   14.8s\n",
      "[Parallel(n_jobs=-1)]: Done  91 tasks      | elapsed:   15.9s\n",
      "[Parallel(n_jobs=-1)]: Done  92 tasks      | elapsed:   15.9s\n",
      "[Parallel(n_jobs=-1)]: Done  93 tasks      | elapsed:   16.0s\n",
      "[Parallel(n_jobs=-1)]: Done  94 tasks      | elapsed:   16.0s\n",
      "[Parallel(n_jobs=-1)]: Done  95 tasks      | elapsed:   16.0s\n",
      "[Parallel(n_jobs=-1)]: Done  96 tasks      | elapsed:   16.1s\n",
      "[Parallel(n_jobs=-1)]: Done  97 tasks      | elapsed:   16.1s\n",
      "[Parallel(n_jobs=-1)]: Done  98 tasks      | elapsed:   16.2s\n",
      "[Parallel(n_jobs=-1)]: Done  99 tasks      | elapsed:   16.4s\n",
      "[Parallel(n_jobs=-1)]: Done 100 tasks      | elapsed:   16.6s\n",
      "[Parallel(n_jobs=-1)]: Done 101 tasks      | elapsed:   16.8s\n",
      "[Parallel(n_jobs=-1)]: Done 102 tasks      | elapsed:   17.0s\n",
      "[Parallel(n_jobs=-1)]: Done 103 tasks      | elapsed:   17.2s\n",
      "[Parallel(n_jobs=-1)]: Done 104 tasks      | elapsed:   17.3s\n",
      "[Parallel(n_jobs=-1)]: Done 105 tasks      | elapsed:   17.4s\n",
      "[Parallel(n_jobs=-1)]: Done 106 tasks      | elapsed:   17.5s\n",
      "[Parallel(n_jobs=-1)]: Done 107 tasks      | elapsed:   17.6s\n",
      "[Parallel(n_jobs=-1)]: Done 108 tasks      | elapsed:   17.6s\n",
      "[Parallel(n_jobs=-1)]: Done 109 tasks      | elapsed:   17.7s\n",
      "[Parallel(n_jobs=-1)]: Done 110 tasks      | elapsed:   17.8s\n",
      "[Parallel(n_jobs=-1)]: Done 111 tasks      | elapsed:   17.8s\n",
      "[Parallel(n_jobs=-1)]: Done 112 tasks      | elapsed:   17.9s\n",
      "[Parallel(n_jobs=-1)]: Done 113 tasks      | elapsed:   17.9s\n",
      "[Parallel(n_jobs=-1)]: Done 114 tasks      | elapsed:   18.0s\n",
      "[Parallel(n_jobs=-1)]: Done 115 tasks      | elapsed:   18.0s\n",
      "[Parallel(n_jobs=-1)]: Done 116 tasks      | elapsed:   18.1s\n",
      "[Parallel(n_jobs=-1)]: Done 117 tasks      | elapsed:   18.1s\n",
      "[Parallel(n_jobs=-1)]: Done 118 tasks      | elapsed:   18.1s\n",
      "[Parallel(n_jobs=-1)]: Done 119 tasks      | elapsed:   18.2s\n",
      "[Parallel(n_jobs=-1)]: Done 120 tasks      | elapsed:   18.2s\n",
      "[Parallel(n_jobs=-1)]: Done 121 tasks      | elapsed:   19.2s\n",
      "[Parallel(n_jobs=-1)]: Done 122 tasks      | elapsed:   19.2s\n",
      "[Parallel(n_jobs=-1)]: Done 123 tasks      | elapsed:   19.3s\n",
      "[Parallel(n_jobs=-1)]: Done 124 tasks      | elapsed:   19.3s\n",
      "[Parallel(n_jobs=-1)]: Done 125 tasks      | elapsed:   19.4s\n",
      "[Parallel(n_jobs=-1)]: Done 126 tasks      | elapsed:   19.4s\n",
      "[Parallel(n_jobs=-1)]: Done 127 tasks      | elapsed:   19.5s\n",
      "[Parallel(n_jobs=-1)]: Done 128 tasks      | elapsed:   19.5s\n",
      "[Parallel(n_jobs=-1)]: Done 129 tasks      | elapsed:   19.5s\n",
      "[Parallel(n_jobs=-1)]: Done 130 tasks      | elapsed:   19.6s\n",
      "[Parallel(n_jobs=-1)]: Done 131 tasks      | elapsed:   19.6s\n"
     ]
    },
    {
     "name": "stdout",
     "output_type": "stream",
     "text": [
      "[Parallel(n_jobs=-1)]: Done 132 tasks      | elapsed:   19.6s\n",
      "[Parallel(n_jobs=-1)]: Done 133 tasks      | elapsed:   19.7s\n",
      "[Parallel(n_jobs=-1)]: Done 134 tasks      | elapsed:   20.0s\n",
      "[Parallel(n_jobs=-1)]: Done 135 tasks      | elapsed:   20.0s\n",
      "[Parallel(n_jobs=-1)]: Done 136 tasks      | elapsed:   20.1s\n",
      "[Parallel(n_jobs=-1)]: Done 137 tasks      | elapsed:   20.1s\n",
      "[Parallel(n_jobs=-1)]: Done 138 tasks      | elapsed:   20.1s\n",
      "[Parallel(n_jobs=-1)]: Done 139 tasks      | elapsed:   20.4s\n",
      "[Parallel(n_jobs=-1)]: Done 140 tasks      | elapsed:   20.5s\n",
      "[Parallel(n_jobs=-1)]: Done 141 tasks      | elapsed:   21.2s\n",
      "[Parallel(n_jobs=-1)]: Done 142 tasks      | elapsed:   21.4s\n",
      "[Parallel(n_jobs=-1)]: Done 143 tasks      | elapsed:   21.5s\n",
      "[Parallel(n_jobs=-1)]: Done 144 tasks      | elapsed:   21.6s\n",
      "[Parallel(n_jobs=-1)]: Done 145 tasks      | elapsed:   21.8s\n",
      "[Parallel(n_jobs=-1)]: Done 146 tasks      | elapsed:   22.2s\n",
      "[Parallel(n_jobs=-1)]: Done 147 tasks      | elapsed:   22.4s\n",
      "[Parallel(n_jobs=-1)]: Done 148 tasks      | elapsed:   22.4s\n",
      "[Parallel(n_jobs=-1)]: Done 149 tasks      | elapsed:   22.5s\n",
      "[Parallel(n_jobs=-1)]: Done 150 tasks      | elapsed:   22.6s\n",
      "[Parallel(n_jobs=-1)]: Done 151 tasks      | elapsed:   23.0s\n",
      "[Parallel(n_jobs=-1)]: Done 152 tasks      | elapsed:   23.0s\n",
      "[Parallel(n_jobs=-1)]: Done 153 tasks      | elapsed:   23.3s\n",
      "[Parallel(n_jobs=-1)]: Done 154 tasks      | elapsed:   23.4s\n",
      "[Parallel(n_jobs=-1)]: Done 155 tasks      | elapsed:   23.4s\n",
      "[Parallel(n_jobs=-1)]: Done 156 tasks      | elapsed:   23.5s\n",
      "[Parallel(n_jobs=-1)]: Done 157 tasks      | elapsed:   23.5s\n",
      "[Parallel(n_jobs=-1)]: Done 158 tasks      | elapsed:   23.6s\n",
      "[Parallel(n_jobs=-1)]: Done 159 tasks      | elapsed:   24.0s\n",
      "[Parallel(n_jobs=-1)]: Done 160 tasks      | elapsed:   24.0s\n",
      "[Parallel(n_jobs=-1)]: Done 161 tasks      | elapsed:   24.0s\n",
      "[Parallel(n_jobs=-1)]: Done 162 tasks      | elapsed:   24.2s\n",
      "[Parallel(n_jobs=-1)]: Done 163 tasks      | elapsed:   24.2s\n",
      "[Parallel(n_jobs=-1)]: Done 164 tasks      | elapsed:   24.3s\n",
      "[Parallel(n_jobs=-1)]: Done 165 tasks      | elapsed:   24.4s\n",
      "[Parallel(n_jobs=-1)]: Done 166 tasks      | elapsed:   24.4s\n",
      "[Parallel(n_jobs=-1)]: Done 167 tasks      | elapsed:   24.4s\n",
      "[Parallel(n_jobs=-1)]: Done 168 tasks      | elapsed:   24.4s\n",
      "[Parallel(n_jobs=-1)]: Done 169 tasks      | elapsed:   24.4s\n",
      "[Parallel(n_jobs=-1)]: Done 170 tasks      | elapsed:   24.5s\n",
      "[Parallel(n_jobs=-1)]: Done 171 tasks      | elapsed:   24.5s\n",
      "[Parallel(n_jobs=-1)]: Done 172 tasks      | elapsed:   24.6s\n",
      "[Parallel(n_jobs=-1)]: Done 173 tasks      | elapsed:   24.6s\n",
      "[Parallel(n_jobs=-1)]: Done 174 tasks      | elapsed:   24.6s\n",
      "[Parallel(n_jobs=-1)]: Done 175 tasks      | elapsed:   24.6s\n",
      "[Parallel(n_jobs=-1)]: Done 176 tasks      | elapsed:   25.3s\n",
      "[Parallel(n_jobs=-1)]: Done 177 tasks      | elapsed:   25.4s\n",
      "[Parallel(n_jobs=-1)]: Done 178 tasks      | elapsed:   25.4s\n",
      "[Parallel(n_jobs=-1)]: Done 179 tasks      | elapsed:   26.1s\n",
      "[Parallel(n_jobs=-1)]: Done 180 tasks      | elapsed:   26.2s\n",
      "[Parallel(n_jobs=-1)]: Done 181 tasks      | elapsed:   26.2s\n",
      "[Parallel(n_jobs=-1)]: Done 182 tasks      | elapsed:   26.2s\n",
      "[Parallel(n_jobs=-1)]: Done 183 tasks      | elapsed:   26.3s\n",
      "[Parallel(n_jobs=-1)]: Done 184 tasks      | elapsed:   26.3s\n",
      "[Parallel(n_jobs=-1)]: Done 185 tasks      | elapsed:   26.3s\n",
      "[Parallel(n_jobs=-1)]: Done 186 tasks      | elapsed:   26.4s\n",
      "[Parallel(n_jobs=-1)]: Done 187 tasks      | elapsed:   26.7s\n",
      "[Parallel(n_jobs=-1)]: Done 188 tasks      | elapsed:   26.8s\n",
      "[Parallel(n_jobs=-1)]: Done 189 tasks      | elapsed:   26.8s\n",
      "[Parallel(n_jobs=-1)]: Done 190 tasks      | elapsed:   26.9s\n",
      "[Parallel(n_jobs=-1)]: Done 191 tasks      | elapsed:   26.9s\n",
      "[Parallel(n_jobs=-1)]: Done 192 tasks      | elapsed:   27.0s\n",
      "[Parallel(n_jobs=-1)]: Done 193 tasks      | elapsed:   27.0s\n",
      "[Parallel(n_jobs=-1)]: Done 194 tasks      | elapsed:   27.1s\n",
      "[Parallel(n_jobs=-1)]: Done 195 tasks      | elapsed:   27.2s\n",
      "[Parallel(n_jobs=-1)]: Done 196 tasks      | elapsed:   28.0s\n",
      "[Parallel(n_jobs=-1)]: Done 197 tasks      | elapsed:   28.1s\n",
      "[Parallel(n_jobs=-1)]: Done 198 tasks      | elapsed:   28.1s\n",
      "[Parallel(n_jobs=-1)]: Done 199 tasks      | elapsed:   28.1s\n",
      "[Parallel(n_jobs=-1)]: Done 200 tasks      | elapsed:   28.1s\n",
      "[Parallel(n_jobs=-1)]: Done 201 tasks      | elapsed:   28.1s\n",
      "[Parallel(n_jobs=-1)]: Done 202 tasks      | elapsed:   28.2s\n",
      "[Parallel(n_jobs=-1)]: Done 203 tasks      | elapsed:   28.2s\n",
      "[Parallel(n_jobs=-1)]: Done 204 tasks      | elapsed:   28.3s\n",
      "[Parallel(n_jobs=-1)]: Done 205 tasks      | elapsed:   28.3s\n",
      "[Parallel(n_jobs=-1)]: Done 206 tasks      | elapsed:   28.3s\n",
      "[Parallel(n_jobs=-1)]: Done 207 tasks      | elapsed:   28.3s\n",
      "[Parallel(n_jobs=-1)]: Done 208 tasks      | elapsed:   28.3s\n",
      "[Parallel(n_jobs=-1)]: Done 209 tasks      | elapsed:   28.4s\n",
      "[Parallel(n_jobs=-1)]: Done 210 tasks      | elapsed:   28.5s\n",
      "[Parallel(n_jobs=-1)]: Done 211 tasks      | elapsed:   28.5s\n",
      "[Parallel(n_jobs=-1)]: Done 212 tasks      | elapsed:   28.5s\n",
      "[Parallel(n_jobs=-1)]: Done 213 tasks      | elapsed:   28.5s\n",
      "[Parallel(n_jobs=-1)]: Done 214 tasks      | elapsed:   29.0s\n",
      "[Parallel(n_jobs=-1)]: Done 215 tasks      | elapsed:   29.1s\n",
      "[Parallel(n_jobs=-1)]: Done 216 tasks      | elapsed:   29.1s\n",
      "[Parallel(n_jobs=-1)]: Done 217 tasks      | elapsed:   29.1s\n",
      "[Parallel(n_jobs=-1)]: Done 218 tasks      | elapsed:   29.3s\n",
      "[Parallel(n_jobs=-1)]: Done 219 tasks      | elapsed:   29.3s\n",
      "[Parallel(n_jobs=-1)]: Done 220 tasks      | elapsed:   29.3s\n",
      "[Parallel(n_jobs=-1)]: Done 221 tasks      | elapsed:   29.4s\n",
      "[Parallel(n_jobs=-1)]: Done 222 tasks      | elapsed:   29.8s\n",
      "[Parallel(n_jobs=-1)]: Done 223 tasks      | elapsed:   29.9s\n",
      "[Parallel(n_jobs=-1)]: Done 224 tasks      | elapsed:   29.9s\n",
      "[Parallel(n_jobs=-1)]: Done 225 tasks      | elapsed:   30.0s\n",
      "[Parallel(n_jobs=-1)]: Done 226 tasks      | elapsed:   30.2s\n",
      "[Parallel(n_jobs=-1)]: Done 227 tasks      | elapsed:   30.3s\n",
      "[Parallel(n_jobs=-1)]: Done 228 tasks      | elapsed:   30.3s\n",
      "[Parallel(n_jobs=-1)]: Done 229 tasks      | elapsed:   30.4s\n",
      "[Parallel(n_jobs=-1)]: Done 230 tasks      | elapsed:   30.7s\n",
      "[Parallel(n_jobs=-1)]: Done 231 tasks      | elapsed:   31.4s\n",
      "[Parallel(n_jobs=-1)]: Done 232 tasks      | elapsed:   31.5s\n",
      "[Parallel(n_jobs=-1)]: Done 233 tasks      | elapsed:   31.5s\n",
      "[Parallel(n_jobs=-1)]: Done 234 tasks      | elapsed:   31.6s\n",
      "[Parallel(n_jobs=-1)]: Done 235 tasks      | elapsed:   31.6s\n",
      "[Parallel(n_jobs=-1)]: Done 241 out of 250 | elapsed:   32.6s remaining:    1.1s\n",
      "[Parallel(n_jobs=-1)]: Done 247 out of 250 | elapsed:   33.1s remaining:    0.3s\n",
      "[Parallel(n_jobs=-1)]: Done 250 out of 250 | elapsed:   33.2s finished\n"
     ]
    },
    {
     "data": {
      "text/plain": [
       "RandomizedSearchCV(cv=5, error_score='raise-deprecating',\n",
       "          estimator=RandomForestClassifier(bootstrap=True, class_weight=None, criterion='gini',\n",
       "            max_depth=None, max_features='auto', max_leaf_nodes=None,\n",
       "            min_impurity_decrease=0.0, min_impurity_split=None,\n",
       "            min_samples_leaf=1, min_samples_split=2,\n",
       "            min_weight_fraction_leaf=0.0, n_estimators='warn', n_jobs=None,\n",
       "            oob_score=False, random_state=None, verbose=0,\n",
       "            warm_start=False),\n",
       "          fit_params=None, iid='warn', n_iter=50, n_jobs=-1,\n",
       "          param_distributions={'n_estimators': [100, 250, 500, 750, 1000], 'criterion': ['gini', 'entropy'], 'max_depth': [4, 16, 32, 64], 'min_samples_leaf': <scipy.stats._distn_infrastructure.rv_frozen object at 0x0000029459C81D68>, 'bootstrap': [True, False]},\n",
       "          pre_dispatch='2*n_jobs', random_state=42, refit=True,\n",
       "          return_train_score='warn', scoring='accuracy', verbose=50)"
      ]
     },
     "execution_count": 115,
     "metadata": {},
     "output_type": "execute_result"
    }
   ],
   "source": [
    "\"\"\"rfc_search_params = {\n",
    "                        \"n_estimators\": [100, 250, 500, 750, 1000],\n",
    "                        \"criterion\": [\"gini\", \"entropy\"],\n",
    "                        \"max_depth\": [4, 16, 32, 64],\n",
    "                        \"min_samples_leaf\": randint(1, 4),\n",
    "                        \"bootstrap\": [True, False]\n",
    "                    }\n",
    "\n",
    "rfc_randsearch = RandomizedSearchCV(RandomForestClassifier(),\n",
    "                                    param_distributions = rfc_search_params,\n",
    "                                    n_iter = 50,\n",
    "                                    scoring = \"accuracy\",\n",
    "                                    n_jobs = -1,\n",
    "                                    cv = 5,\n",
    "                                    random_state = 42,\n",
    "                                    verbose = 50\n",
    "                                   )\n",
    "rfc_randsearch.fit(Xtrain, ytrain)\n",
    "\n",
    "jbl.dump(rfc_randsearch, \"rfc_randsearch.gz\")\n",
    "\n",
    "Commented out due to fitted once, then dumped job for reloading.\n",
    "\"\"\""
   ]
  },
  {
   "cell_type": "markdown",
   "metadata": {},
   "source": [
    "Let's take a look at all of the models our randomized search created."
   ]
  },
  {
   "cell_type": "code",
   "execution_count": 117,
   "metadata": {},
   "outputs": [
    {
     "name": "stdout",
     "output_type": "stream",
     "text": [
      "Mean Accuracy : 0.8170144462279294   Params: {'bootstrap': True, 'criterion': 'entropy', 'max_depth': 4, 'min_samples_leaf': 3, 'n_estimators': 500}\n",
      "Mean Accuracy : 0.8154093097913323   Params: {'bootstrap': False, 'criterion': 'gini', 'max_depth': 4, 'min_samples_leaf': 3, 'n_estimators': 250}\n",
      "Mean Accuracy : 0.8170144462279294   Params: {'bootstrap': True, 'criterion': 'gini', 'max_depth': 32, 'min_samples_leaf': 3, 'n_estimators': 1000}\n",
      "Mean Accuracy : 0.8105939004815409   Params: {'bootstrap': False, 'criterion': 'entropy', 'max_depth': 64, 'min_samples_leaf': 3, 'n_estimators': 1000}\n",
      "Mean Accuracy : 0.8025682182985554   Params: {'bootstrap': False, 'criterion': 'entropy', 'max_depth': 64, 'min_samples_leaf': 2, 'n_estimators': 250}\n",
      "Mean Accuracy : 0.8186195826645265   Params: {'bootstrap': False, 'criterion': 'entropy', 'max_depth': 4, 'min_samples_leaf': 1, 'n_estimators': 750}\n",
      "Mean Accuracy : 0.8170144462279294   Params: {'bootstrap': False, 'criterion': 'entropy', 'max_depth': 4, 'min_samples_leaf': 1, 'n_estimators': 100}\n",
      "Mean Accuracy : 0.8154093097913323   Params: {'bootstrap': True, 'criterion': 'gini', 'max_depth': 32, 'min_samples_leaf': 2, 'n_estimators': 750}\n",
      "Mean Accuracy : 0.8025682182985554   Params: {'bootstrap': False, 'criterion': 'entropy', 'max_depth': 32, 'min_samples_leaf': 2, 'n_estimators': 500}\n",
      "Mean Accuracy : 0.7736757624398074   Params: {'bootstrap': False, 'criterion': 'gini', 'max_depth': 64, 'min_samples_leaf': 1, 'n_estimators': 500}\n",
      "Mean Accuracy : 0.7897271268057785   Params: {'bootstrap': True, 'criterion': 'gini', 'max_depth': 32, 'min_samples_leaf': 1, 'n_estimators': 100}\n",
      "Mean Accuracy : 0.7897271268057785   Params: {'bootstrap': True, 'criterion': 'entropy', 'max_depth': 64, 'min_samples_leaf': 1, 'n_estimators': 750}\n",
      "Mean Accuracy : 0.7897271268057785   Params: {'bootstrap': False, 'criterion': 'entropy', 'max_depth': 16, 'min_samples_leaf': 1, 'n_estimators': 250}\n",
      "Mean Accuracy : 0.8186195826645265   Params: {'bootstrap': True, 'criterion': 'entropy', 'max_depth': 64, 'min_samples_leaf': 3, 'n_estimators': 750}\n",
      "Mean Accuracy : 0.8170144462279294   Params: {'bootstrap': True, 'criterion': 'entropy', 'max_depth': 4, 'min_samples_leaf': 3, 'n_estimators': 500}\n",
      "Mean Accuracy : 0.8025682182985554   Params: {'bootstrap': False, 'criterion': 'gini', 'max_depth': 64, 'min_samples_leaf': 2, 'n_estimators': 750}\n",
      "Mean Accuracy : 0.8105939004815409   Params: {'bootstrap': False, 'criterion': 'entropy', 'max_depth': 16, 'min_samples_leaf': 2, 'n_estimators': 250}\n",
      "Mean Accuracy : 0.826645264847512   Params: {'bootstrap': False, 'criterion': 'entropy', 'max_depth': 4, 'min_samples_leaf': 3, 'n_estimators': 250}\n",
      "Mean Accuracy : 0.8073836276083467   Params: {'bootstrap': False, 'criterion': 'entropy', 'max_depth': 16, 'min_samples_leaf': 2, 'n_estimators': 750}\n",
      "Mean Accuracy : 0.8089887640449438   Params: {'bootstrap': False, 'criterion': 'gini', 'max_depth': 64, 'min_samples_leaf': 3, 'n_estimators': 750}\n",
      "Mean Accuracy : 0.7945425361155698   Params: {'bootstrap': True, 'criterion': 'entropy', 'max_depth': 64, 'min_samples_leaf': 1, 'n_estimators': 1000}\n",
      "Mean Accuracy : 0.8057784911717496   Params: {'bootstrap': False, 'criterion': 'gini', 'max_depth': 4, 'min_samples_leaf': 2, 'n_estimators': 100}\n",
      "Mean Accuracy : 0.7865168539325843   Params: {'bootstrap': False, 'criterion': 'entropy', 'max_depth': 64, 'min_samples_leaf': 1, 'n_estimators': 100}\n",
      "Mean Accuracy : 0.8202247191011236   Params: {'bootstrap': True, 'criterion': 'gini', 'max_depth': 4, 'min_samples_leaf': 1, 'n_estimators': 100}\n",
      "Mean Accuracy : 0.7865168539325843   Params: {'bootstrap': True, 'criterion': 'gini', 'max_depth': 64, 'min_samples_leaf': 1, 'n_estimators': 750}\n",
      "Mean Accuracy : 0.8138041733547352   Params: {'bootstrap': False, 'criterion': 'entropy', 'max_depth': 32, 'min_samples_leaf': 3, 'n_estimators': 500}\n",
      "Mean Accuracy : 0.8202247191011236   Params: {'bootstrap': True, 'criterion': 'entropy', 'max_depth': 32, 'min_samples_leaf': 3, 'n_estimators': 100}\n",
      "Mean Accuracy : 0.826645264847512   Params: {'bootstrap': True, 'criterion': 'gini', 'max_depth': 16, 'min_samples_leaf': 3, 'n_estimators': 250}\n",
      "Mean Accuracy : 0.797752808988764   Params: {'bootstrap': True, 'criterion': 'entropy', 'max_depth': 32, 'min_samples_leaf': 1, 'n_estimators': 750}\n",
      "Mean Accuracy : 0.812199036918138   Params: {'bootstrap': False, 'criterion': 'gini', 'max_depth': 64, 'min_samples_leaf': 3, 'n_estimators': 1000}\n",
      "Mean Accuracy : 0.812199036918138   Params: {'bootstrap': True, 'criterion': 'entropy', 'max_depth': 64, 'min_samples_leaf': 2, 'n_estimators': 500}\n",
      "Mean Accuracy : 0.7897271268057785   Params: {'bootstrap': True, 'criterion': 'gini', 'max_depth': 32, 'min_samples_leaf': 1, 'n_estimators': 500}\n",
      "Mean Accuracy : 0.8170144462279294   Params: {'bootstrap': True, 'criterion': 'gini', 'max_depth': 16, 'min_samples_leaf': 3, 'n_estimators': 500}\n",
      "Mean Accuracy : 0.8202247191011236   Params: {'bootstrap': True, 'criterion': 'gini', 'max_depth': 32, 'min_samples_leaf': 2, 'n_estimators': 250}\n",
      "Mean Accuracy : 0.8138041733547352   Params: {'bootstrap': False, 'criterion': 'gini', 'max_depth': 32, 'min_samples_leaf': 3, 'n_estimators': 100}\n",
      "Mean Accuracy : 0.8025682182985554   Params: {'bootstrap': False, 'criterion': 'gini', 'max_depth': 64, 'min_samples_leaf': 2, 'n_estimators': 1000}\n",
      "Mean Accuracy : 0.8154093097913323   Params: {'bootstrap': True, 'criterion': 'gini', 'max_depth': 4, 'min_samples_leaf': 3, 'n_estimators': 500}\n",
      "Mean Accuracy : 0.8170144462279294   Params: {'bootstrap': True, 'criterion': 'entropy', 'max_depth': 4, 'min_samples_leaf': 3, 'n_estimators': 500}\n",
      "Mean Accuracy : 0.8170144462279294   Params: {'bootstrap': True, 'criterion': 'entropy', 'max_depth': 64, 'min_samples_leaf': 2, 'n_estimators': 250}\n",
      "Mean Accuracy : 0.8138041733547352   Params: {'bootstrap': True, 'criterion': 'entropy', 'max_depth': 4, 'min_samples_leaf': 1, 'n_estimators': 750}\n",
      "Mean Accuracy : 0.8025682182985554   Params: {'bootstrap': False, 'criterion': 'entropy', 'max_depth': 64, 'min_samples_leaf': 2, 'n_estimators': 500}\n",
      "Mean Accuracy : 0.7817014446227929   Params: {'bootstrap': False, 'criterion': 'entropy', 'max_depth': 32, 'min_samples_leaf': 1, 'n_estimators': 100}\n",
      "Mean Accuracy : 0.8170144462279294   Params: {'bootstrap': True, 'criterion': 'gini', 'max_depth': 32, 'min_samples_leaf': 2, 'n_estimators': 100}\n",
      "Mean Accuracy : 0.812199036918138   Params: {'bootstrap': False, 'criterion': 'gini', 'max_depth': 4, 'min_samples_leaf': 3, 'n_estimators': 500}\n",
      "Mean Accuracy : 0.8170144462279294   Params: {'bootstrap': True, 'criterion': 'entropy', 'max_depth': 4, 'min_samples_leaf': 1, 'n_estimators': 500}\n",
      "Mean Accuracy : 0.8073836276083467   Params: {'bootstrap': False, 'criterion': 'entropy', 'max_depth': 64, 'min_samples_leaf': 3, 'n_estimators': 500}\n",
      "Mean Accuracy : 0.7784911717495987   Params: {'bootstrap': False, 'criterion': 'entropy', 'max_depth': 64, 'min_samples_leaf': 1, 'n_estimators': 750}\n",
      "Mean Accuracy : 0.8186195826645265   Params: {'bootstrap': True, 'criterion': 'entropy', 'max_depth': 4, 'min_samples_leaf': 2, 'n_estimators': 750}\n",
      "Mean Accuracy : 0.8009630818619583   Params: {'bootstrap': False, 'criterion': 'entropy', 'max_depth': 32, 'min_samples_leaf': 2, 'n_estimators': 500}\n",
      "Mean Accuracy : 0.826645264847512   Params: {'bootstrap': True, 'criterion': 'gini', 'max_depth': 4, 'min_samples_leaf': 1, 'n_estimators': 500}\n"
     ]
    }
   ],
   "source": [
    "rfc_randsearch = jbl.load(\"rfc_randsearch.gz\")\n",
    "rfc_results = rfc_randsearch.cv_results_\n",
    "\n",
    "for mean_test_score, params in zip(rfc_results[\"mean_test_score\"], rfc_results[\"params\"]):\n",
    "    print(\"Mean Accuracy : {0}   Params: {1}\".format(mean_test_score, params))"
   ]
  },
  {
   "cell_type": "markdown",
   "metadata": {},
   "source": [
    "Now, let's take a look at the best model our search came up with."
   ]
  },
  {
   "cell_type": "code",
   "execution_count": 122,
   "metadata": {},
   "outputs": [
    {
     "name": "stdout",
     "output_type": "stream",
     "text": [
      "Best Parameters: {'bootstrap': False, 'criterion': 'entropy', 'max_depth': 4, 'min_samples_leaf': 3, 'n_estimators': 250}\n",
      "Accuracy Score: 0.826645264847512\n"
     ]
    }
   ],
   "source": [
    "rfc_best_model = rfc_randsearch.best_estimator_\n",
    "rfc_best_params = rfc_randsearch.best_params_\n",
    "rfc_best_score = rfc_randsearch.best_score_\n",
    "print(\"Best Parameters: {0}\\nAccuracy Score: {1}\".format(rfc_best_params, rfc_best_score))"
   ]
  },
  {
   "cell_type": "markdown",
   "metadata": {},
   "source": [
    "Our Randomized Search found that the best model has parameters 'bootstrap' = False, criterion = \"entropy\", \"max_depth\" = 4, \"min_samples_leaf\" = 3, and \"n_estimators\" = 250. This model gave a mean accuracy score of about .8266. I will consider this model the best model currently of the Random Forest Classification models built."
   ]
  },
  {
   "cell_type": "markdown",
   "metadata": {},
   "source": [
    "**XGBoost Classifier**\n",
    "\n",
    "The XGBoost classification algorithm is an implentation of gradient boosted decision trees, and is designed for speed and performance. This Algorithm utilizes boosting, which combines less favorable performing models into a model that performs very well by predicting errors of prior models. Once again, we will use five-fold cross-validation for performance measurement of this algorithm. We will also create a base model to get an idea of performance and then use RandomizedSearchCV for parameter tuning."
   ]
  },
  {
   "cell_type": "code",
   "execution_count": 125,
   "metadata": {},
   "outputs": [
    {
     "data": {
      "text/plain": [
       "XGBClassifier(base_score=0.5, booster='gbtree', colsample_bylevel=1,\n",
       "       colsample_bynode=1, colsample_bytree=1, gamma=0, learning_rate=0.1,\n",
       "       max_delta_step=0, max_depth=3, min_child_weight=1, missing=None,\n",
       "       n_estimators=100, n_jobs=1, nthread=None,\n",
       "       objective='binary:logistic', random_state=42, reg_alpha=0,\n",
       "       reg_lambda=1, scale_pos_weight=1, seed=None, silent=None,\n",
       "       subsample=1, verbosity=1)"
      ]
     },
     "execution_count": 125,
     "metadata": {},
     "output_type": "execute_result"
    }
   ],
   "source": [
    "xgb_model = xgb.XGBClassifier(random_state = 42)\n",
    "xgb_model.fit(Xtrain, ytrain)"
   ]
  },
  {
   "cell_type": "code",
   "execution_count": 126,
   "metadata": {},
   "outputs": [
    {
     "name": "stdout",
     "output_type": "stream",
     "text": [
      "Mean Accuracy Using Five-Fold Cross-Validation: 0.8249630312339991\n"
     ]
    }
   ],
   "source": [
    "xgb_score = cross_val_score(xgb_model, Xtrain, ytrain, cv = 5)\n",
    "print(\"Mean Accuracy Using Five-Fold Cross-Validation: {0}\".format(xgb_score.mean()))"
   ]
  },
  {
   "cell_type": "markdown",
   "metadata": {},
   "source": [
    "For our base model of XGBoost Classification, we get a five-fold cross-validation score of about .825. This is better performing already than our base Random Forest Classification model, and is not far behind our best Random Forest Classification model. We will now utilize RandomizedSearchCV to do parameter tuning."
   ]
  },
  {
   "cell_type": "code",
   "execution_count": 137,
   "metadata": {},
   "outputs": [
    {
     "name": "stdout",
     "output_type": "stream",
     "text": [
      "Fitting 5 folds for each of 50 candidates, totalling 250 fits\n",
      "[Parallel(n_jobs=-1)]: Using backend LokyBackend with 8 concurrent workers.\n",
      "[Parallel(n_jobs=-1)]: Done   1 tasks      | elapsed:    4.8s\n",
      "[Parallel(n_jobs=-1)]: Done   2 tasks      | elapsed:    4.9s\n",
      "[Parallel(n_jobs=-1)]: Done   3 tasks      | elapsed:    5.1s\n",
      "[Parallel(n_jobs=-1)]: Done   4 tasks      | elapsed:    5.3s\n",
      "[Parallel(n_jobs=-1)]: Done   5 tasks      | elapsed:    5.3s\n",
      "[Parallel(n_jobs=-1)]: Done   6 tasks      | elapsed:    5.9s\n",
      "[Parallel(n_jobs=-1)]: Done   7 tasks      | elapsed:    6.1s\n",
      "[Parallel(n_jobs=-1)]: Done   8 tasks      | elapsed:    6.3s\n",
      "[Parallel(n_jobs=-1)]: Done   9 tasks      | elapsed:    6.6s\n",
      "[Parallel(n_jobs=-1)]: Done  10 tasks      | elapsed:    6.8s\n",
      "[Parallel(n_jobs=-1)]: Done  11 tasks      | elapsed:    7.0s\n",
      "[Parallel(n_jobs=-1)]: Done  12 tasks      | elapsed:    7.0s\n",
      "[Parallel(n_jobs=-1)]: Done  13 tasks      | elapsed:    7.1s\n",
      "[Parallel(n_jobs=-1)]: Done  14 tasks      | elapsed:    7.3s\n",
      "[Parallel(n_jobs=-1)]: Done  15 tasks      | elapsed:    7.3s\n",
      "[Parallel(n_jobs=-1)]: Done  16 tasks      | elapsed:   13.8s\n",
      "[Parallel(n_jobs=-1)]: Done  17 tasks      | elapsed:   14.3s\n",
      "[Parallel(n_jobs=-1)]: Done  18 tasks      | elapsed:   14.5s\n",
      "[Parallel(n_jobs=-1)]: Done  19 tasks      | elapsed:   15.3s\n",
      "[Parallel(n_jobs=-1)]: Done  20 tasks      | elapsed:   15.9s\n",
      "[Parallel(n_jobs=-1)]: Done  21 tasks      | elapsed:   16.6s\n",
      "[Parallel(n_jobs=-1)]: Done  22 tasks      | elapsed:   17.2s\n",
      "[Parallel(n_jobs=-1)]: Done  23 tasks      | elapsed:   17.9s\n",
      "[Parallel(n_jobs=-1)]: Done  24 tasks      | elapsed:   18.5s\n",
      "[Parallel(n_jobs=-1)]: Done  25 tasks      | elapsed:   19.2s\n",
      "[Parallel(n_jobs=-1)]: Done  26 tasks      | elapsed:   19.8s\n",
      "[Parallel(n_jobs=-1)]: Done  27 tasks      | elapsed:   20.4s\n",
      "[Parallel(n_jobs=-1)]: Done  28 tasks      | elapsed:   20.5s\n",
      "[Parallel(n_jobs=-1)]: Done  29 tasks      | elapsed:   20.8s\n",
      "[Parallel(n_jobs=-1)]: Done  30 tasks      | elapsed:   20.8s\n",
      "[Parallel(n_jobs=-1)]: Done  31 tasks      | elapsed:   21.0s\n",
      "[Parallel(n_jobs=-1)]: Done  32 tasks      | elapsed:   21.1s\n",
      "[Parallel(n_jobs=-1)]: Done  33 tasks      | elapsed:   21.1s\n",
      "[Parallel(n_jobs=-1)]: Done  34 tasks      | elapsed:   21.3s\n",
      "[Parallel(n_jobs=-1)]: Done  35 tasks      | elapsed:   21.4s\n",
      "[Parallel(n_jobs=-1)]: Done  36 tasks      | elapsed:   21.5s\n",
      "[Parallel(n_jobs=-1)]: Done  37 tasks      | elapsed:   22.3s\n",
      "[Parallel(n_jobs=-1)]: Done  38 tasks      | elapsed:   22.5s\n",
      "[Parallel(n_jobs=-1)]: Done  39 tasks      | elapsed:   22.5s\n",
      "[Parallel(n_jobs=-1)]: Done  40 tasks      | elapsed:   22.6s\n",
      "[Parallel(n_jobs=-1)]: Done  41 tasks      | elapsed:   22.7s\n",
      "[Parallel(n_jobs=-1)]: Done  42 tasks      | elapsed:   23.0s\n",
      "[Parallel(n_jobs=-1)]: Done  43 tasks      | elapsed:   23.1s\n",
      "[Parallel(n_jobs=-1)]: Done  44 tasks      | elapsed:   23.6s\n",
      "[Parallel(n_jobs=-1)]: Done  45 tasks      | elapsed:   23.7s\n",
      "[Parallel(n_jobs=-1)]: Done  46 tasks      | elapsed:   23.8s\n",
      "[Parallel(n_jobs=-1)]: Done  47 tasks      | elapsed:   23.8s\n",
      "[Parallel(n_jobs=-1)]: Done  48 tasks      | elapsed:   23.9s\n",
      "[Parallel(n_jobs=-1)]: Done  49 tasks      | elapsed:   24.0s\n",
      "[Parallel(n_jobs=-1)]: Done  50 tasks      | elapsed:   24.0s\n",
      "[Parallel(n_jobs=-1)]: Done  51 tasks      | elapsed:   24.0s\n",
      "[Parallel(n_jobs=-1)]: Done  52 tasks      | elapsed:   24.1s\n",
      "[Parallel(n_jobs=-1)]: Done  53 tasks      | elapsed:   24.2s\n",
      "[Parallel(n_jobs=-1)]: Done  54 tasks      | elapsed:   24.2s\n",
      "[Parallel(n_jobs=-1)]: Done  55 tasks      | elapsed:   24.2s\n",
      "[Parallel(n_jobs=-1)]: Done  56 tasks      | elapsed:   24.2s\n",
      "[Parallel(n_jobs=-1)]: Done  57 tasks      | elapsed:   24.2s\n",
      "[Parallel(n_jobs=-1)]: Done  58 tasks      | elapsed:   24.3s\n",
      "[Parallel(n_jobs=-1)]: Done  59 tasks      | elapsed:   24.4s\n",
      "[Parallel(n_jobs=-1)]: Done  60 tasks      | elapsed:   24.5s\n",
      "[Parallel(n_jobs=-1)]: Done  61 tasks      | elapsed:   24.5s\n",
      "[Parallel(n_jobs=-1)]: Done  62 tasks      | elapsed:   24.5s\n",
      "[Parallel(n_jobs=-1)]: Done  63 tasks      | elapsed:   24.6s\n",
      "[Parallel(n_jobs=-1)]: Done  64 tasks      | elapsed:   24.7s\n",
      "[Parallel(n_jobs=-1)]: Done  65 tasks      | elapsed:   24.7s\n",
      "[Parallel(n_jobs=-1)]: Done  66 tasks      | elapsed:   25.3s\n",
      "[Parallel(n_jobs=-1)]: Done  67 tasks      | elapsed:   25.6s\n",
      "[Parallel(n_jobs=-1)]: Done  68 tasks      | elapsed:   25.6s\n",
      "[Parallel(n_jobs=-1)]: Done  69 tasks      | elapsed:   25.8s\n",
      "[Parallel(n_jobs=-1)]: Done  70 tasks      | elapsed:   25.8s\n",
      "[Parallel(n_jobs=-1)]: Done  71 tasks      | elapsed:   26.3s\n",
      "[Parallel(n_jobs=-1)]: Done  72 tasks      | elapsed:   26.6s\n",
      "[Parallel(n_jobs=-1)]: Done  73 tasks      | elapsed:   26.6s\n",
      "[Parallel(n_jobs=-1)]: Done  74 tasks      | elapsed:   27.1s\n",
      "[Parallel(n_jobs=-1)]: Done  75 tasks      | elapsed:   27.6s\n",
      "[Parallel(n_jobs=-1)]: Done  76 tasks      | elapsed:   27.7s\n",
      "[Parallel(n_jobs=-1)]: Done  77 tasks      | elapsed:   27.9s\n",
      "[Parallel(n_jobs=-1)]: Done  78 tasks      | elapsed:   28.6s\n",
      "[Parallel(n_jobs=-1)]: Done  79 tasks      | elapsed:   28.6s\n",
      "[Parallel(n_jobs=-1)]: Done  80 tasks      | elapsed:   28.7s\n",
      "[Parallel(n_jobs=-1)]: Done  81 tasks      | elapsed:   28.7s\n",
      "[Parallel(n_jobs=-1)]: Done  82 tasks      | elapsed:   29.1s\n",
      "[Parallel(n_jobs=-1)]: Done  83 tasks      | elapsed:   29.5s\n",
      "[Parallel(n_jobs=-1)]: Done  84 tasks      | elapsed:   29.5s\n",
      "[Parallel(n_jobs=-1)]: Done  85 tasks      | elapsed:   29.8s\n",
      "[Parallel(n_jobs=-1)]: Done  86 tasks      | elapsed:   36.3s\n",
      "[Parallel(n_jobs=-1)]: Done  87 tasks      | elapsed:   36.6s\n",
      "[Parallel(n_jobs=-1)]: Done  88 tasks      | elapsed:   36.7s\n",
      "[Parallel(n_jobs=-1)]: Done  89 tasks      | elapsed:   36.9s\n",
      "[Parallel(n_jobs=-1)]: Done  90 tasks      | elapsed:   37.1s\n",
      "[Parallel(n_jobs=-1)]: Done  91 tasks      | elapsed:   37.2s\n",
      "[Parallel(n_jobs=-1)]: Done  92 tasks      | elapsed:   37.3s\n",
      "[Parallel(n_jobs=-1)]: Done  93 tasks      | elapsed:   37.4s\n",
      "[Parallel(n_jobs=-1)]: Done  94 tasks      | elapsed:   37.5s\n",
      "[Parallel(n_jobs=-1)]: Done  95 tasks      | elapsed:   37.5s\n",
      "[Parallel(n_jobs=-1)]: Done  96 tasks      | elapsed:   37.5s\n",
      "[Parallel(n_jobs=-1)]: Done  97 tasks      | elapsed:   37.6s\n",
      "[Parallel(n_jobs=-1)]: Done  98 tasks      | elapsed:   37.6s\n",
      "[Parallel(n_jobs=-1)]: Done  99 tasks      | elapsed:   37.6s\n",
      "[Parallel(n_jobs=-1)]: Done 100 tasks      | elapsed:   37.8s\n",
      "[Parallel(n_jobs=-1)]: Done 101 tasks      | elapsed:   38.9s\n",
      "[Parallel(n_jobs=-1)]: Done 102 tasks      | elapsed:   39.8s\n",
      "[Parallel(n_jobs=-1)]: Done 103 tasks      | elapsed:   39.9s\n",
      "[Parallel(n_jobs=-1)]: Done 104 tasks      | elapsed:   40.1s\n",
      "[Parallel(n_jobs=-1)]: Done 105 tasks      | elapsed:   40.2s\n",
      "[Parallel(n_jobs=-1)]: Done 106 tasks      | elapsed:   40.2s\n",
      "[Parallel(n_jobs=-1)]: Done 107 tasks      | elapsed:   40.3s\n",
      "[Parallel(n_jobs=-1)]: Done 108 tasks      | elapsed:   40.3s\n",
      "[Parallel(n_jobs=-1)]: Done 109 tasks      | elapsed:   40.4s\n",
      "[Parallel(n_jobs=-1)]: Done 110 tasks      | elapsed:   40.5s\n",
      "[Parallel(n_jobs=-1)]: Done 111 tasks      | elapsed:   40.6s\n",
      "[Parallel(n_jobs=-1)]: Done 112 tasks      | elapsed:   40.6s\n",
      "[Parallel(n_jobs=-1)]: Done 113 tasks      | elapsed:   40.8s\n",
      "[Parallel(n_jobs=-1)]: Done 114 tasks      | elapsed:   40.9s\n",
      "[Parallel(n_jobs=-1)]: Done 115 tasks      | elapsed:   40.9s\n",
      "[Parallel(n_jobs=-1)]: Done 116 tasks      | elapsed:   41.0s\n",
      "[Parallel(n_jobs=-1)]: Done 117 tasks      | elapsed:   41.2s\n",
      "[Parallel(n_jobs=-1)]: Done 118 tasks      | elapsed:   41.2s\n",
      "[Parallel(n_jobs=-1)]: Done 119 tasks      | elapsed:   41.3s\n",
      "[Parallel(n_jobs=-1)]: Done 120 tasks      | elapsed:   41.3s\n",
      "[Parallel(n_jobs=-1)]: Done 121 tasks      | elapsed:   41.3s\n",
      "[Parallel(n_jobs=-1)]: Done 122 tasks      | elapsed:   41.5s\n",
      "[Parallel(n_jobs=-1)]: Done 123 tasks      | elapsed:   42.3s\n",
      "[Parallel(n_jobs=-1)]: Done 124 tasks      | elapsed:   42.4s\n",
      "[Parallel(n_jobs=-1)]: Done 125 tasks      | elapsed:   42.7s\n",
      "[Parallel(n_jobs=-1)]: Done 126 tasks      | elapsed:   42.7s\n",
      "[Parallel(n_jobs=-1)]: Done 127 tasks      | elapsed:   42.7s\n",
      "[Parallel(n_jobs=-1)]: Done 128 tasks      | elapsed:   42.8s\n",
      "[Parallel(n_jobs=-1)]: Done 129 tasks      | elapsed:   42.8s\n",
      "[Parallel(n_jobs=-1)]: Done 130 tasks      | elapsed:   43.0s\n"
     ]
    },
    {
     "name": "stdout",
     "output_type": "stream",
     "text": [
      "[Parallel(n_jobs=-1)]: Done 131 tasks      | elapsed:   43.5s\n",
      "[Parallel(n_jobs=-1)]: Done 132 tasks      | elapsed:   43.5s\n",
      "[Parallel(n_jobs=-1)]: Done 133 tasks      | elapsed:   43.6s\n",
      "[Parallel(n_jobs=-1)]: Done 134 tasks      | elapsed:   43.6s\n",
      "[Parallel(n_jobs=-1)]: Done 135 tasks      | elapsed:   43.8s\n",
      "[Parallel(n_jobs=-1)]: Done 136 tasks      | elapsed:   44.0s\n",
      "[Parallel(n_jobs=-1)]: Done 137 tasks      | elapsed:   44.5s\n",
      "[Parallel(n_jobs=-1)]: Done 138 tasks      | elapsed:   44.6s\n",
      "[Parallel(n_jobs=-1)]: Done 139 tasks      | elapsed:   44.6s\n",
      "[Parallel(n_jobs=-1)]: Done 140 tasks      | elapsed:   44.8s\n",
      "[Parallel(n_jobs=-1)]: Done 141 tasks      | elapsed:   44.8s\n",
      "[Parallel(n_jobs=-1)]: Done 142 tasks      | elapsed:   45.2s\n",
      "[Parallel(n_jobs=-1)]: Done 143 tasks      | elapsed:   45.6s\n",
      "[Parallel(n_jobs=-1)]: Done 144 tasks      | elapsed:   45.9s\n",
      "[Parallel(n_jobs=-1)]: Done 145 tasks      | elapsed:   46.0s\n",
      "[Parallel(n_jobs=-1)]: Done 146 tasks      | elapsed:   46.2s\n",
      "[Parallel(n_jobs=-1)]: Done 147 tasks      | elapsed:   46.3s\n",
      "[Parallel(n_jobs=-1)]: Done 148 tasks      | elapsed:   46.4s\n",
      "[Parallel(n_jobs=-1)]: Done 149 tasks      | elapsed:   46.6s\n",
      "[Parallel(n_jobs=-1)]: Done 150 tasks      | elapsed:   46.7s\n",
      "[Parallel(n_jobs=-1)]: Done 151 tasks      | elapsed:   47.7s\n",
      "[Parallel(n_jobs=-1)]: Done 152 tasks      | elapsed:   47.9s\n",
      "[Parallel(n_jobs=-1)]: Done 153 tasks      | elapsed:   47.9s\n",
      "[Parallel(n_jobs=-1)]: Done 154 tasks      | elapsed:   48.8s\n",
      "[Parallel(n_jobs=-1)]: Done 155 tasks      | elapsed:   49.0s\n",
      "[Parallel(n_jobs=-1)]: Done 156 tasks      | elapsed:   49.4s\n",
      "[Parallel(n_jobs=-1)]: Done 157 tasks      | elapsed:   50.2s\n",
      "[Parallel(n_jobs=-1)]: Done 158 tasks      | elapsed:   50.4s\n",
      "[Parallel(n_jobs=-1)]: Done 159 tasks      | elapsed:   50.6s\n",
      "[Parallel(n_jobs=-1)]: Done 160 tasks      | elapsed:   50.9s\n",
      "[Parallel(n_jobs=-1)]: Done 161 tasks      | elapsed:   51.0s\n",
      "[Parallel(n_jobs=-1)]: Done 162 tasks      | elapsed:   51.2s\n",
      "[Parallel(n_jobs=-1)]: Done 163 tasks      | elapsed:   51.3s\n",
      "[Parallel(n_jobs=-1)]: Done 164 tasks      | elapsed:   51.5s\n",
      "[Parallel(n_jobs=-1)]: Done 165 tasks      | elapsed:   51.7s\n",
      "[Parallel(n_jobs=-1)]: Done 166 tasks      | elapsed:   52.4s\n",
      "[Parallel(n_jobs=-1)]: Done 167 tasks      | elapsed:   52.6s\n",
      "[Parallel(n_jobs=-1)]: Done 168 tasks      | elapsed:   53.0s\n",
      "[Parallel(n_jobs=-1)]: Done 169 tasks      | elapsed:   53.0s\n",
      "[Parallel(n_jobs=-1)]: Done 170 tasks      | elapsed:   53.5s\n",
      "[Parallel(n_jobs=-1)]: Done 171 tasks      | elapsed:   53.5s\n",
      "[Parallel(n_jobs=-1)]: Done 172 tasks      | elapsed:   53.8s\n",
      "[Parallel(n_jobs=-1)]: Done 173 tasks      | elapsed:   53.9s\n",
      "[Parallel(n_jobs=-1)]: Done 174 tasks      | elapsed:   54.0s\n",
      "[Parallel(n_jobs=-1)]: Done 175 tasks      | elapsed:   54.4s\n",
      "[Parallel(n_jobs=-1)]: Done 176 tasks      | elapsed:   55.3s\n",
      "[Parallel(n_jobs=-1)]: Done 177 tasks      | elapsed:   55.3s\n",
      "[Parallel(n_jobs=-1)]: Done 178 tasks      | elapsed:   55.3s\n",
      "[Parallel(n_jobs=-1)]: Done 179 tasks      | elapsed:   55.4s\n",
      "[Parallel(n_jobs=-1)]: Done 180 tasks      | elapsed:   55.7s\n",
      "[Parallel(n_jobs=-1)]: Done 181 tasks      | elapsed:   55.8s\n",
      "[Parallel(n_jobs=-1)]: Done 182 tasks      | elapsed:   56.2s\n",
      "[Parallel(n_jobs=-1)]: Done 183 tasks      | elapsed:   56.3s\n",
      "[Parallel(n_jobs=-1)]: Done 184 tasks      | elapsed:   56.4s\n",
      "[Parallel(n_jobs=-1)]: Done 185 tasks      | elapsed:   56.6s\n",
      "[Parallel(n_jobs=-1)]: Done 186 tasks      | elapsed:   56.9s\n",
      "[Parallel(n_jobs=-1)]: Done 187 tasks      | elapsed:   57.0s\n",
      "[Parallel(n_jobs=-1)]: Done 188 tasks      | elapsed:   57.3s\n",
      "[Parallel(n_jobs=-1)]: Done 189 tasks      | elapsed:   57.4s\n",
      "[Parallel(n_jobs=-1)]: Done 190 tasks      | elapsed:   57.5s\n",
      "[Parallel(n_jobs=-1)]: Done 191 tasks      | elapsed:   58.2s\n",
      "[Parallel(n_jobs=-1)]: Done 192 tasks      | elapsed:   58.3s\n",
      "[Parallel(n_jobs=-1)]: Done 193 tasks      | elapsed:   58.3s\n",
      "[Parallel(n_jobs=-1)]: Done 194 tasks      | elapsed:   59.0s\n",
      "[Parallel(n_jobs=-1)]: Done 195 tasks      | elapsed:   59.2s\n",
      "[Parallel(n_jobs=-1)]: Done 196 tasks      | elapsed:   59.3s\n",
      "[Parallel(n_jobs=-1)]: Done 197 tasks      | elapsed:  1.0min\n",
      "[Parallel(n_jobs=-1)]: Done 198 tasks      | elapsed:  1.0min\n",
      "[Parallel(n_jobs=-1)]: Done 199 tasks      | elapsed:  1.0min\n",
      "[Parallel(n_jobs=-1)]: Done 200 tasks      | elapsed:  1.0min\n",
      "[Parallel(n_jobs=-1)]: Done 201 tasks      | elapsed:  1.0min\n",
      "[Parallel(n_jobs=-1)]: Done 202 tasks      | elapsed:  1.0min\n",
      "[Parallel(n_jobs=-1)]: Done 203 tasks      | elapsed:  1.0min\n",
      "[Parallel(n_jobs=-1)]: Done 204 tasks      | elapsed:  1.1min\n",
      "[Parallel(n_jobs=-1)]: Done 205 tasks      | elapsed:  1.1min\n",
      "[Parallel(n_jobs=-1)]: Done 206 tasks      | elapsed:  1.1min\n",
      "[Parallel(n_jobs=-1)]: Done 207 tasks      | elapsed:  1.1min\n",
      "[Parallel(n_jobs=-1)]: Done 208 tasks      | elapsed:  1.1min\n",
      "[Parallel(n_jobs=-1)]: Done 209 tasks      | elapsed:  1.1min\n",
      "[Parallel(n_jobs=-1)]: Done 210 tasks      | elapsed:  1.1min\n",
      "[Parallel(n_jobs=-1)]: Done 211 tasks      | elapsed:  1.1min\n",
      "[Parallel(n_jobs=-1)]: Done 212 tasks      | elapsed:  1.1min\n",
      "[Parallel(n_jobs=-1)]: Done 213 tasks      | elapsed:  1.1min\n",
      "[Parallel(n_jobs=-1)]: Done 214 tasks      | elapsed:  1.1min\n",
      "[Parallel(n_jobs=-1)]: Done 215 tasks      | elapsed:  1.1min\n",
      "[Parallel(n_jobs=-1)]: Done 216 tasks      | elapsed:  1.1min\n",
      "[Parallel(n_jobs=-1)]: Done 217 tasks      | elapsed:  1.1min\n",
      "[Parallel(n_jobs=-1)]: Done 218 tasks      | elapsed:  1.1min\n",
      "[Parallel(n_jobs=-1)]: Done 219 tasks      | elapsed:  1.1min\n",
      "[Parallel(n_jobs=-1)]: Done 220 tasks      | elapsed:  1.1min\n",
      "[Parallel(n_jobs=-1)]: Done 221 tasks      | elapsed:  1.1min\n",
      "[Parallel(n_jobs=-1)]: Done 222 tasks      | elapsed:  1.1min\n",
      "[Parallel(n_jobs=-1)]: Done 223 tasks      | elapsed:  1.1min\n",
      "[Parallel(n_jobs=-1)]: Done 224 tasks      | elapsed:  1.1min\n",
      "[Parallel(n_jobs=-1)]: Done 225 tasks      | elapsed:  1.1min\n",
      "[Parallel(n_jobs=-1)]: Done 226 tasks      | elapsed:  1.1min\n",
      "[Parallel(n_jobs=-1)]: Done 227 tasks      | elapsed:  1.1min\n",
      "[Parallel(n_jobs=-1)]: Done 228 tasks      | elapsed:  1.1min\n",
      "[Parallel(n_jobs=-1)]: Done 229 tasks      | elapsed:  1.1min\n",
      "[Parallel(n_jobs=-1)]: Done 230 tasks      | elapsed:  1.1min\n",
      "[Parallel(n_jobs=-1)]: Done 231 tasks      | elapsed:  1.1min\n",
      "[Parallel(n_jobs=-1)]: Done 232 tasks      | elapsed:  1.1min\n",
      "[Parallel(n_jobs=-1)]: Done 233 tasks      | elapsed:  1.1min\n",
      "[Parallel(n_jobs=-1)]: Done 234 tasks      | elapsed:  1.1min\n",
      "[Parallel(n_jobs=-1)]: Done 235 tasks      | elapsed:  1.1min\n",
      "[Parallel(n_jobs=-1)]: Done 241 out of 250 | elapsed:  1.1min remaining:    2.4s\n",
      "[Parallel(n_jobs=-1)]: Done 247 out of 250 | elapsed:  1.1min remaining:    0.7s\n",
      "[Parallel(n_jobs=-1)]: Done 250 out of 250 | elapsed:  1.1min finished\n"
     ]
    },
    {
     "data": {
      "text/plain": [
       "['xgb_randsearch.gz']"
      ]
     },
     "execution_count": 137,
     "metadata": {},
     "output_type": "execute_result"
    }
   ],
   "source": [
    "\"\"\"b_search_params = {\n",
    "                        \"n_estimators\": [100, 250, 500, 750, 1000],\n",
    "                        \"learning_rate\": uniform(0.01, 0.60),\n",
    "                        \"subsample\": uniform(0.30, 0.60),\n",
    "                        \"max_depth\": [2, 4, 16, 32, 64, 128],\n",
    "                        \"colsample_bytree\": uniform(0.50, 0.40),\n",
    "                        \"min_child_weight\": [1, 2, 3, 4],\n",
    "                        \"booster\": [\"gbtree\", \"gblinear\", \"dart\"]\n",
    "                    }\n",
    "\n",
    "xgb_randsearch = RandomizedSearchCV(xgb.XGBClassifier(),\n",
    "                                    param_distributions = xgb_search_params,\n",
    "                                    n_iter = 50,\n",
    "                                    scoring = \"accuracy\",\n",
    "                                    n_jobs = -1,\n",
    "                                    cv = 5,\n",
    "                                    random_state = 42,\n",
    "                                    verbose = 50\n",
    "                                   )\n",
    "xgb_randsearch.fit(Xtrain, ytrain)\n",
    "\n",
    "jbl.dump(xgb_randsearch, \"xgb_randsearch.gz\")\n",
    "\n",
    "Commented out due to fitted once, then dumped job for reloading.\n",
    "\"\"\""
   ]
  },
  {
   "cell_type": "markdown",
   "metadata": {},
   "source": [
    "Let's take a look at all of the models our randomized search created."
   ]
  },
  {
   "cell_type": "code",
   "execution_count": 138,
   "metadata": {},
   "outputs": [
    {
     "name": "stdout",
     "output_type": "stream",
     "text": [
      "Mean Accuracy : 0.8250401284109149   Params: {'booster': 'dart', 'colsample_bytree': 0.8186171947440932, 'learning_rate': 0.12006087391969827, 'max_depth': 64, 'min_child_weight': 1, 'n_estimators': 250, 'subsample': 0.39359671220172154}\n",
      "Mean Accuracy : 0.7913322632423756   Params: {'booster': 'dart', 'colsample_bytree': 0.6836995567863469, 'learning_rate': 0.2102251666834131, 'max_depth': 16, 'min_child_weight': 2, 'n_estimators': 1000, 'subsample': 0.8819459112971966}\n",
      "Mean Accuracy : 0.6869983948635634   Params: {'booster': 'gblinear', 'colsample_bytree': 0.5849356442713105, 'learning_rate': 0.11909498032426036, 'max_depth': 64, 'min_child_weight': 1, 'n_estimators': 750, 'subsample': 0.6669918962929685}\n",
      "Mean Accuracy : 0.826645264847512   Params: {'booster': 'gbtree', 'colsample_bytree': 0.6727780074568463, 'learning_rate': 0.18473748411882515, 'max_depth': 16, 'min_child_weight': 3, 'n_estimators': 250, 'subsample': 0.32799939792816923}\n",
      "Mean Accuracy : 0.7961476725521669   Params: {'booster': 'dart', 'colsample_bytree': 0.6824279936868144, 'learning_rate': 0.4811055768358081, 'max_depth': 16, 'min_child_weight': 4, 'n_estimators': 750, 'subsample': 0.6554487413172254}\n",
      "Mean Accuracy : 0.8186195826645265   Params: {'booster': 'dart', 'colsample_bytree': 0.8439761626945282, 'learning_rate': 0.4181845231526678, 'max_depth': 2, 'min_child_weight': 3, 'n_estimators': 250, 'subsample': 0.8693313223519998}\n",
      "Mean Accuracy : 0.6869983948635634   Params: {'booster': 'gblinear', 'colsample_bytree': 0.8233589392465845, 'learning_rate': 0.1927682615040224, 'max_depth': 64, 'min_child_weight': 2, 'n_estimators': 750, 'subsample': 0.444615279615607}\n",
      "Mean Accuracy : 0.8041733547351525   Params: {'booster': 'dart', 'colsample_bytree': 0.7439986631130484, 'learning_rate': 0.5099169470416985, 'max_depth': 16, 'min_child_weight': 2, 'n_estimators': 100, 'subsample': 0.45526798896001014}\n",
      "Mean Accuracy : 0.6869983948635634   Params: {'booster': 'gblinear', 'colsample_bytree': 0.6700623497964979, 'learning_rate': 0.1347649977209133, 'max_depth': 32, 'min_child_weight': 2, 'n_estimators': 1000, 'subsample': 0.8817507766587351}\n",
      "Mean Accuracy : 0.6869983948635634   Params: {'booster': 'gblinear', 'colsample_bytree': 0.6799016533479063, 'learning_rate': 0.24709014160108866, 'max_depth': 32, 'min_child_weight': 2, 'n_estimators': 750, 'subsample': 0.32713637334632284}\n",
      "Mean Accuracy : 0.8186195826645265   Params: {'booster': 'gbtree', 'colsample_bytree': 0.6554709158757928, 'learning_rate': 0.17280941906433755, 'max_depth': 64, 'min_child_weight': 4, 'n_estimators': 250, 'subsample': 0.8791531843584828}\n",
      "Mean Accuracy : 0.8009630818619583   Params: {'booster': 'gbtree', 'colsample_bytree': 0.5563696899899051, 'learning_rate': 0.4913181884524238, 'max_depth': 2, 'min_child_weight': 1, 'n_estimators': 100, 'subsample': 0.7633468615779944}\n",
      "Mean Accuracy : 0.8218298555377207   Params: {'booster': 'dart', 'colsample_bytree': 0.8261845713819337, 'learning_rate': 0.4341144063085703, 'max_depth': 16, 'min_child_weight': 3, 'n_estimators': 100, 'subsample': 0.6635759848686068}\n",
      "Mean Accuracy : 0.6869983948635634   Params: {'booster': 'gblinear', 'colsample_bytree': 0.6433862914177091, 'learning_rate': 0.07952143571507782, 'max_depth': 2, 'min_child_weight': 4, 'n_estimators': 750, 'subsample': 0.49853881491158947}\n",
      "Mean Accuracy : 0.812199036918138   Params: {'booster': 'dart', 'colsample_bytree': 0.6243929286862648, 'learning_rate': 0.20510999321604823, 'max_depth': 16, 'min_child_weight': 4, 'n_estimators': 500, 'subsample': 0.6367460555086206}\n",
      "Mean Accuracy : 0.8186195826645265   Params: {'booster': 'dart', 'colsample_bytree': 0.5478376983753207, 'learning_rate': 0.437946872333797, 'max_depth': 2, 'min_child_weight': 1, 'n_estimators': 250, 'subsample': 0.44159095184937347}\n",
      "Mean Accuracy : 0.6869983948635634   Params: {'booster': 'gblinear', 'colsample_bytree': 0.6975182385457563, 'learning_rate': 0.3236396976291964, 'max_depth': 4, 'min_child_weight': 2, 'n_estimators': 750, 'subsample': 0.36473485619598267}\n",
      "Mean Accuracy : 0.8073836276083467   Params: {'booster': 'dart', 'colsample_bytree': 0.8583054382694077, 'learning_rate': 0.29522213390926705, 'max_depth': 64, 'min_child_weight': 4, 'n_estimators': 750, 'subsample': 0.8445398843556557}\n",
      "Mean Accuracy : 0.8138041733547352   Params: {'booster': 'dart', 'colsample_bytree': 0.7417669517111269, 'learning_rate': 0.3339046547810039, 'max_depth': 64, 'min_child_weight': 4, 'n_estimators': 1000, 'subsample': 0.3461879458972758}\n",
      "Mean Accuracy : 0.78330658105939   Params: {'booster': 'dart', 'colsample_bytree': 0.7779139732158818, 'learning_rate': 0.5382807034091546, 'max_depth': 4, 'min_child_weight': 1, 'n_estimators': 100, 'subsample': 0.36329655589816234}\n",
      "Mean Accuracy : 0.6886035313001605   Params: {'booster': 'gblinear', 'colsample_bytree': 0.8533121035675473, 'learning_rate': 0.20460701260316438, 'max_depth': 32, 'min_child_weight': 1, 'n_estimators': 100, 'subsample': 0.4632793496307812}\n",
      "Mean Accuracy : 0.7993579454253612   Params: {'booster': 'dart', 'colsample_bytree': 0.6708431154505026, 'learning_rate': 0.5008088595534959, 'max_depth': 2, 'min_child_weight': 3, 'n_estimators': 500, 'subsample': 0.5504466018892673}\n",
      "Mean Accuracy : 0.8298555377207063   Params: {'booster': 'gbtree', 'colsample_bytree': 0.7769744131561082, 'learning_rate': 0.17164740027911288, 'max_depth': 16, 'min_child_weight': 2, 'n_estimators': 100, 'subsample': 0.5423017026348245}\n",
      "Mean Accuracy : 0.6869983948635634   Params: {'booster': 'gblinear', 'colsample_bytree': 0.8887128330883842, 'learning_rate': 0.5874683769652668, 'max_depth': 128, 'min_child_weight': 3, 'n_estimators': 250, 'subsample': 0.7273623539546652}\n",
      "Mean Accuracy : 0.8314606741573034   Params: {'booster': 'gbtree', 'colsample_bytree': 0.6139361977509871, 'learning_rate': 0.032132168412719674, 'max_depth': 2, 'min_child_weight': 2, 'n_estimators': 250, 'subsample': 0.5466222079909387}\n",
      "Mean Accuracy : 0.7752808988764045   Params: {'booster': 'dart', 'colsample_bytree': 0.6114585856946446, 'learning_rate': 0.5549595315799922, 'max_depth': 16, 'min_child_weight': 2, 'n_estimators': 250, 'subsample': 0.6185607499902819}\n",
      "Mean Accuracy : 0.6869983948635634   Params: {'booster': 'gblinear', 'colsample_bytree': 0.8942601816442404, 'learning_rate': 0.15523316290690026, 'max_depth': 32, 'min_child_weight': 3, 'n_estimators': 500, 'subsample': 0.5217926736368427}\n",
      "Mean Accuracy : 0.7913322632423756   Params: {'booster': 'gbtree', 'colsample_bytree': 0.7912865394447439, 'learning_rate': 0.23066987963155194, 'max_depth': 32, 'min_child_weight': 2, 'n_estimators': 500, 'subsample': 0.7898591239316304}\n",
      "Mean Accuracy : 0.8025682182985554   Params: {'booster': 'gbtree', 'colsample_bytree': 0.5602870175861718, 'learning_rate': 0.3149192660444312, 'max_depth': 64, 'min_child_weight': 3, 'n_estimators': 750, 'subsample': 0.49557534312113083}\n",
      "Mean Accuracy : 0.7961476725521669   Params: {'booster': 'dart', 'colsample_bytree': 0.7844598129752072, 'learning_rate': 0.4957006276838292, 'max_depth': 32, 'min_child_weight': 4, 'n_estimators': 750, 'subsample': 0.8643139586937623}\n",
      "Mean Accuracy : 0.8330658105939005   Params: {'booster': 'dart', 'colsample_bytree': 0.8746919954946939, 'learning_rate': 0.09251256648759594, 'max_depth': 32, 'min_child_weight': 1, 'n_estimators': 100, 'subsample': 0.4254429724426282}\n",
      "Mean Accuracy : 0.8202247191011236   Params: {'booster': 'dart', 'colsample_bytree': 0.8509357413523924, 'learning_rate': 0.16476497662909337, 'max_depth': 32, 'min_child_weight': 4, 'n_estimators': 250, 'subsample': 0.8893010059976614}\n",
      "Mean Accuracy : 0.7929373996789727   Params: {'booster': 'gbtree', 'colsample_bytree': 0.5967409163601807, 'learning_rate': 0.06586166068353952, 'max_depth': 32, 'min_child_weight': 1, 'n_estimators': 1000, 'subsample': 0.8295818059136038}\n",
      "Mean Accuracy : 0.8346709470304976   Params: {'booster': 'dart', 'colsample_bytree': 0.6356119164194802, 'learning_rate': 0.21952574476759654, 'max_depth': 16, 'min_child_weight': 4, 'n_estimators': 100, 'subsample': 0.6852189876925726}\n",
      "Mean Accuracy : 0.7784911717495987   Params: {'booster': 'dart', 'colsample_bytree': 0.874253997688379, 'learning_rate': 0.4812043906683661, 'max_depth': 32, 'min_child_weight': 2, 'n_estimators': 500, 'subsample': 0.5233696599370459}\n",
      "Mean Accuracy : 0.8362760834670947   Params: {'booster': 'gbtree', 'colsample_bytree': 0.7654007076432223, 'learning_rate': 0.013036950307731212, 'max_depth': 128, 'min_child_weight': 2, 'n_estimators': 250, 'subsample': 0.7151371186156159}\n",
      "Mean Accuracy : 0.7881219903691814   Params: {'booster': 'gbtree', 'colsample_bytree': 0.5897077237842239, 'learning_rate': 0.4373075328085215, 'max_depth': 2, 'min_child_weight': 2, 'n_estimators': 1000, 'subsample': 0.40729362553279724}\n",
      "Mean Accuracy : 0.8138041733547352   Params: {'booster': 'dart', 'colsample_bytree': 0.7883759697008517, 'learning_rate': 0.19483647511143354, 'max_depth': 32, 'min_child_weight': 3, 'n_estimators': 500, 'subsample': 0.6817995709115372}\n",
      "Mean Accuracy : 0.6869983948635634   Params: {'booster': 'gblinear', 'colsample_bytree': 0.5975958573516335, 'learning_rate': 0.5938063328514673, 'max_depth': 64, 'min_child_weight': 3, 'n_estimators': 500, 'subsample': 0.5606366193062572}\n",
      "Mean Accuracy : 0.7945425361155698   Params: {'booster': 'gbtree', 'colsample_bytree': 0.7010548372420768, 'learning_rate': 0.3561423307758155, 'max_depth': 2, 'min_child_weight': 1, 'n_estimators': 750, 'subsample': 0.7334712691569032}\n",
      "Mean Accuracy : 0.812199036918138   Params: {'booster': 'dart', 'colsample_bytree': 0.7288016796836733, 'learning_rate': 0.47113240858378536, 'max_depth': 2, 'min_child_weight': 4, 'n_estimators': 750, 'subsample': 0.5819667083945658}\n",
      "Mean Accuracy : 0.6869983948635634   Params: {'booster': 'gblinear', 'colsample_bytree': 0.8659457560881794, 'learning_rate': 0.23209522015326664, 'max_depth': 2, 'min_child_weight': 1, 'n_estimators': 1000, 'subsample': 0.5569104889903886}\n",
      "Mean Accuracy : 0.797752808988764   Params: {'booster': 'gbtree', 'colsample_bytree': 0.7289169876683353, 'learning_rate': 0.5981989502296274, 'max_depth': 32, 'min_child_weight': 3, 'n_estimators': 1000, 'subsample': 0.5310586371611552}\n",
      "Mean Accuracy : 0.7945425361155698   Params: {'booster': 'dart', 'colsample_bytree': 0.6073899427560627, 'learning_rate': 0.3011679245657894, 'max_depth': 4, 'min_child_weight': 1, 'n_estimators': 250, 'subsample': 0.8616928644964685}\n",
      "Mean Accuracy : 0.6869983948635634   Params: {'booster': 'gblinear', 'colsample_bytree': 0.8720067339243327, 'learning_rate': 0.05224967850972634, 'max_depth': 4, 'min_child_weight': 4, 'n_estimators': 250, 'subsample': 0.4524981894418433}\n",
      "Mean Accuracy : 0.6869983948635634   Params: {'booster': 'gblinear', 'colsample_bytree': 0.8509492287711822, 'learning_rate': 0.4544611706525227, 'max_depth': 2, 'min_child_weight': 1, 'n_estimators': 500, 'subsample': 0.7253465981460712}\n",
      "Mean Accuracy : 0.7800963081861958   Params: {'booster': 'dart', 'colsample_bytree': 0.6174367377057973, 'learning_rate': 0.49561669328710817, 'max_depth': 16, 'min_child_weight': 2, 'n_estimators': 100, 'subsample': 0.6669082265194083}\n",
      "Mean Accuracy : 0.6869983948635634   Params: {'booster': 'gblinear', 'colsample_bytree': 0.5020739451095947, 'learning_rate': 0.38673664896918164, 'max_depth': 32, 'min_child_weight': 1, 'n_estimators': 750, 'subsample': 0.831970289370396}\n",
      "Mean Accuracy : 0.826645264847512   Params: {'booster': 'dart', 'colsample_bytree': 0.6502331810559776, 'learning_rate': 0.06638916390452139, 'max_depth': 128, 'min_child_weight': 3, 'n_estimators': 100, 'subsample': 0.3930249700366465}\n",
      "Mean Accuracy : 0.6869983948635634   Params: {'booster': 'gblinear', 'colsample_bytree': 0.6146165008513138, 'learning_rate': 0.3644999563414065, 'max_depth': 128, 'min_child_weight': 1, 'n_estimators': 750, 'subsample': 0.3233008406576539}\n"
     ]
    }
   ],
   "source": [
    "xgb_randsearch = jbl.load(\"xgb_randsearch.gz\")\n",
    "xgb_results = xgb_randsearch.cv_results_\n",
    "\n",
    "for mean_test_score, params in zip(xgb_results[\"mean_test_score\"], xgb_results[\"params\"]):\n",
    "    print(\"Mean Accuracy : {0}   Params: {1}\".format(mean_test_score, params))"
   ]
  },
  {
   "cell_type": "markdown",
   "metadata": {},
   "source": [
    "Now, let's take a look at the best model our search came up with."
   ]
  },
  {
   "cell_type": "code",
   "execution_count": 139,
   "metadata": {},
   "outputs": [
    {
     "name": "stdout",
     "output_type": "stream",
     "text": [
      "Best Parameters: {'booster': 'gbtree', 'colsample_bytree': 0.7654007076432223, 'learning_rate': 0.013036950307731212, 'max_depth': 128, 'min_child_weight': 2, 'n_estimators': 250, 'subsample': 0.7151371186156159}\n",
      "Accuracy Score: 0.8362760834670947\n"
     ]
    }
   ],
   "source": [
    "xgb_best_model = xgb_randsearch.best_estimator_\n",
    "xgb_best_params = xgb_randsearch.best_params_\n",
    "xgb_best_score = xgb_randsearch.best_score_\n",
    "print(\"Best Parameters: {0}\\nAccuracy Score: {1}\".format(xgb_best_params, xgb_best_score))"
   ]
  },
  {
   "cell_type": "markdown",
   "metadata": {},
   "source": [
    "Our Randomized Search found that the best model has parameters 'booster' = 'gbtree', colsample_bytree = .765, 'learning_rate' = .013, 'max_depth' = 128, 'min_child_weight' = 2, 'n_estimators' = 250, and 'subsample' = .715. This model gave a mean accuracy score of about .8363. I will consider this model the best model currently of the XGBoost Classification models built. It also currently outperforms our best Random Forest Classification model through cross-validation. With our models built, we will move onto final model selection using validation data."
   ]
  },
  {
   "cell_type": "markdown",
   "metadata": {},
   "source": [
    "## Final Model Selection and Evaluation\n",
    "\n",
    "**Selecting Final Model Through Validation Data**\n",
    "\n",
    "With our two best models set aside, we will now utilize our validation dataset to choose our final model to be evaluated on the test data and ultimately be used for our Kaggle.com predictions."
   ]
  },
  {
   "cell_type": "code",
   "execution_count": 144,
   "metadata": {},
   "outputs": [
    {
     "name": "stdout",
     "output_type": "stream",
     "text": [
      "Accuracy on Validation Data for best Random Forest Classification Model: 0.7910447761194029\n",
      "Accuracy on Validation Data for best XGBoost Classification Model: 0.835820895522388\n"
     ]
    }
   ],
   "source": [
    "rfc_val_predictions = rfc_best_model.predict(Xval)\n",
    "rfc_val_score = accuracy_score(rfc_val_predictions, yval)\n",
    "\n",
    "xgb_val_predictions = xgb_best_model.predict(Xval)\n",
    "xgb_val_score = accuracy_score(xgb_val_predictions, yval)\n",
    "\n",
    "print(\"Accuracy on Validation Data for best Random Forest Classification Model: {0}\\n\\\n",
    "Accuracy on Validation Data for best XGBoost Classification Model: {1}\".format(rfc_val_score, xgb_val_score))"
   ]
  },
  {
   "cell_type": "markdown",
   "metadata": {},
   "source": [
    "Looking at our model accuracies using both of our best models, we can see that the Random Forest Classification model takes a loss when predicting on unseen data (about .827 down to .791). On the other hand, the XGBoost Classification model performs very similar on the validation data compared to the training data which the model was fit on. So, through our validation data scores we will conclude that our final and best model will be our best XGBoost Classification model. We will now move onto making predictions on the test dataset, and looking at the confusion matrix."
   ]
  },
  {
   "cell_type": "markdown",
   "metadata": {},
   "source": [
    "**Test Predictions and Misclassification Visualization**\n",
    "\n",
    "Let's start out by making predictions on the test dataset and seeing how our model performs on this data."
   ]
  },
  {
   "cell_type": "code",
   "execution_count": 146,
   "metadata": {},
   "outputs": [
    {
     "name": "stdout",
     "output_type": "stream",
     "text": [
      "Accuracy on Test Data for Final Model: 0.8134328358208955\n"
     ]
    }
   ],
   "source": [
    "xgb_test_predictions = xgb_best_model.predict(Xtest)\n",
    "xgb_test_score = accuracy_score(xgb_test_predictions, ytest)\n",
    "\n",
    "print(\"Accuracy on Test Data for Final Model: {0}\".format(xgb_test_score))"
   ]
  },
  {
   "cell_type": "markdown",
   "metadata": {},
   "source": [
    "As we can see from above, our model performs very similar on the the test data compared to the validation data and training data. Let's now take a look at our confusion matrix to see get a visualization of misclassifications."
   ]
  },
  {
   "cell_type": "code",
   "execution_count": 166,
   "metadata": {},
   "outputs": [
    {
     "data": {
      "image/png": "[encoded data removed]",
      "text/plain": [
       "<Figure size 864x576 with 2 Axes>"
      ]
     },
     "metadata": {
      "needs_background": "light"
     },
     "output_type": "display_data"
    }
   ],
   "source": [
    "conf_matrx = confusion_matrix(ytest, xgb_test_predictions)\n",
    "conf_matrx_df = pd.DataFrame(conf_matrx, index = [i for i in [0, 1]],\n",
    "                  columns = [i for i in [0, 1]])\n",
    "plt.figure(figsize = (12, 8))\n",
    "sb.heatmap(conf_matrx_df, cmap = \"viridis\", annot = True)\n",
    "plt.title(\"Non-Normalized Confusion Matrix\")\n",
    "plt.show()"
   ]
  },
  {
   "cell_type": "markdown",
   "metadata": {},
   "source": [
    "Looking at the confusion matrix for our predictions on the test dataset, we can see that overall we have correctly classified 109 of the rows, and misclassified 25. Fourteen of our misclassifications are predicting that a passenger survived when they actually died, and eleven of the misclassifications are from predicting that a passenger did not survive when they actually did."
   ]
  },
  {
   "cell_type": "markdown",
   "metadata": {},
   "source": [
    "## Predict on Kaggle Test Set\n",
    "\n",
    "[The Titanic Kaggle competition](https://www.kaggle.com/c/titanic/overview) provided a test data set to make predictions on and then submit to their website. I will be utilizing my final model to make these predictions and then submit to the competition by writing the predictions to a CSV file. First, I will need to clean the data as we have done in the beginning of the project."
   ]
  },
  {
   "cell_type": "code",
   "execution_count": 169,
   "metadata": {},
   "outputs": [],
   "source": [
    "kaggle_test = pd.read_csv(\"test.csv\")\n",
    "\n",
    "kaggle_test.Age.fillna(titanic.Age.mean(), inplace = True)#we want to fill NA values with same values as original data..\n",
    "kaggle_test[\"Cabin_or_not\"] = np.where(kaggle_test.Cabin.isnull(), 0, 1)\n",
    "encoder = OneHotEncoder(sparse=False, dtype = np.int)\n",
    "kaggle_test[\"Sex\"] = encoder.fit_transform(kaggle_test[\"Sex\"].values.reshape(-1, 1))\n",
    "kaggle_test[\"Total_family_members\"] = kaggle_test.SibSp + kaggle_test.Parch\n",
    "kaggle_test.drop([\"Cabin\", \"SibSp\", \"Parch\", \"Name\", \"Ticket\", \"PassengerId\", \"Embarked\"], axis = 1, inplace = True)"
   ]
  },
  {
   "cell_type": "markdown",
   "metadata": {},
   "source": [
    "Let's take a look at the first 10 rows of our Kaggle test set to make sure the data looks the same as our original data we cleaned."
   ]
  },
  {
   "cell_type": "code",
   "execution_count": 170,
   "metadata": {},
   "outputs": [
    {
     "data": {
      "text/html": [
       "<div>\n",
       "<style scoped>\n",
       "    .dataframe tbody tr th:only-of-type {\n",
       "        vertical-align: middle;\n",
       "    }\n",
       "\n",
       "    .dataframe tbody tr th {\n",
       "        vertical-align: top;\n",
       "    }\n",
       "\n",
       "    .dataframe thead th {\n",
       "        text-align: right;\n",
       "    }\n",
       "</style>\n",
       "<table border=\"1\" class=\"dataframe\">\n",
       "  <thead>\n",
       "    <tr style=\"text-align: right;\">\n",
       "      <th></th>\n",
       "      <th>Pclass</th>\n",
       "      <th>Sex</th>\n",
       "      <th>Age</th>\n",
       "      <th>Fare</th>\n",
       "      <th>Cabin_or_not</th>\n",
       "      <th>Total_family_members</th>\n",
       "    </tr>\n",
       "  </thead>\n",
       "  <tbody>\n",
       "    <tr>\n",
       "      <th>0</th>\n",
       "      <td>3</td>\n",
       "      <td>0</td>\n",
       "      <td>34.5</td>\n",
       "      <td>7.8292</td>\n",
       "      <td>0</td>\n",
       "      <td>0</td>\n",
       "    </tr>\n",
       "    <tr>\n",
       "      <th>1</th>\n",
       "      <td>3</td>\n",
       "      <td>1</td>\n",
       "      <td>47.0</td>\n",
       "      <td>7.0000</td>\n",
       "      <td>0</td>\n",
       "      <td>1</td>\n",
       "    </tr>\n",
       "    <tr>\n",
       "      <th>2</th>\n",
       "      <td>2</td>\n",
       "      <td>0</td>\n",
       "      <td>62.0</td>\n",
       "      <td>9.6875</td>\n",
       "      <td>0</td>\n",
       "      <td>0</td>\n",
       "    </tr>\n",
       "    <tr>\n",
       "      <th>3</th>\n",
       "      <td>3</td>\n",
       "      <td>0</td>\n",
       "      <td>27.0</td>\n",
       "      <td>8.6625</td>\n",
       "      <td>0</td>\n",
       "      <td>0</td>\n",
       "    </tr>\n",
       "    <tr>\n",
       "      <th>4</th>\n",
       "      <td>3</td>\n",
       "      <td>1</td>\n",
       "      <td>22.0</td>\n",
       "      <td>12.2875</td>\n",
       "      <td>0</td>\n",
       "      <td>2</td>\n",
       "    </tr>\n",
       "    <tr>\n",
       "      <th>5</th>\n",
       "      <td>3</td>\n",
       "      <td>0</td>\n",
       "      <td>14.0</td>\n",
       "      <td>9.2250</td>\n",
       "      <td>0</td>\n",
       "      <td>0</td>\n",
       "    </tr>\n",
       "    <tr>\n",
       "      <th>6</th>\n",
       "      <td>3</td>\n",
       "      <td>1</td>\n",
       "      <td>30.0</td>\n",
       "      <td>7.6292</td>\n",
       "      <td>0</td>\n",
       "      <td>0</td>\n",
       "    </tr>\n",
       "    <tr>\n",
       "      <th>7</th>\n",
       "      <td>2</td>\n",
       "      <td>0</td>\n",
       "      <td>26.0</td>\n",
       "      <td>29.0000</td>\n",
       "      <td>0</td>\n",
       "      <td>2</td>\n",
       "    </tr>\n",
       "    <tr>\n",
       "      <th>8</th>\n",
       "      <td>3</td>\n",
       "      <td>1</td>\n",
       "      <td>18.0</td>\n",
       "      <td>7.2292</td>\n",
       "      <td>0</td>\n",
       "      <td>0</td>\n",
       "    </tr>\n",
       "    <tr>\n",
       "      <th>9</th>\n",
       "      <td>3</td>\n",
       "      <td>0</td>\n",
       "      <td>21.0</td>\n",
       "      <td>24.1500</td>\n",
       "      <td>0</td>\n",
       "      <td>2</td>\n",
       "    </tr>\n",
       "  </tbody>\n",
       "</table>\n",
       "</div>"
      ],
      "text/plain": [
       "   Pclass  Sex   Age     Fare  Cabin_or_not  Total_family_members\n",
       "0       3    0  34.5   7.8292             0                     0\n",
       "1       3    1  47.0   7.0000             0                     1\n",
       "2       2    0  62.0   9.6875             0                     0\n",
       "3       3    0  27.0   8.6625             0                     0\n",
       "4       3    1  22.0  12.2875             0                     2\n",
       "5       3    0  14.0   9.2250             0                     0\n",
       "6       3    1  30.0   7.6292             0                     0\n",
       "7       2    0  26.0  29.0000             0                     2\n",
       "8       3    1  18.0   7.2292             0                     0\n",
       "9       3    0  21.0  24.1500             0                     2"
      ]
     },
     "execution_count": 170,
     "metadata": {},
     "output_type": "execute_result"
    }
   ],
   "source": [
    "kaggle_test.head(10)"
   ]
  },
  {
   "cell_type": "markdown",
   "metadata": {},
   "source": [
    "Now that the data is cleaned, let's go ahead and make predictions and write them to a CSV file."
   ]
  },
  {
   "cell_type": "code",
   "execution_count": 174,
   "metadata": {},
   "outputs": [
    {
     "name": "stdout",
     "output_type": "stream",
     "text": [
      "First few predictions:\n",
      "   PassengerId  Survived\n",
      "0          892         0\n",
      "1          893         0\n",
      "2          894         0\n",
      "3          895         0\n",
      "4          896         1\n",
      "5          897         0\n",
      "6          898         1\n",
      "7          899         0\n",
      "8          900         1\n",
      "9          901         0\n"
     ]
    }
   ],
   "source": [
    "kaggle_predictions = xgb_best_model.predict(kaggle_test)\n",
    "\n",
    "kaggle_output = pd.DataFrame()\n",
    "kaggle_output[\"PassengerId\"] = range(892, 1310)\n",
    "kaggle_output[\"Survived\"] = kaggle_predictions\n",
    "\n",
    "kaggle_output.to_csv(\"KaggleTestPredictions.csv\", index = False)\n",
    "print(\"First few predictions:\\n{0}\".format(kaggle_output[:10]))"
   ]
  },
  {
   "cell_type": "markdown",
   "metadata": {},
   "source": [
    "## Conclusion\n",
    "\n",
    "To recap our project, we have visualized and described the data, took a deeper dive into the features and created new features for our data as well as imputed values for missing data. We then split the data into training, validation, and test sets. After splitting our data, we trained and utilized cross-validation and RandomizedSearchCV to find our best models of the Random Forest Classification and XGBoost Classification Algorithms. With our best models in mind, we scored these models on the validation data and chose our final model to be the best performing on validation data. We then made our final predictions on our test data, scored those predictions and took a look at the misclassifications through the confusion matrix. Lastly, we cleaned and predicted on the test data given by the Kaggle competition for submission.\n",
    "\n",
    "Our best model was with the XGBoost Classification Algorithm, and gave us a final accuracy of about .8134."
   ]
  }
 ],
 "metadata": {
  "kernelspec": {
   "display_name": "Python 3",
   "language": "python",
   "name": "python3"
  },
  "language_info": {
   "codemirror_mode": {
    "name": "ipython",
    "version": 3
   },
   "file_extension": ".py",
   "mimetype": "text/x-python",
   "name": "python",
   "nbconvert_exporter": "python",
   "pygments_lexer": "ipython3",
   "version": "3.7.1"
  }
 },
 "nbformat": 4,
 "nbformat_minor": 2
}
