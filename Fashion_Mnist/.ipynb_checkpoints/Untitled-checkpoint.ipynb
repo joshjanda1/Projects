{
 "cells": [
  {
   "cell_type": "markdown",
   "metadata": {},
   "source": [
    "<h1><center>Utilizing Artificial and Convolutional Neural Networks for Image Recognition</center></h1>\n",
    "\n",
    "<h2><center><a href = \"https://github.com/joshjanda1\">Josh Janda</a></center></h2>\n",
    "\n",
    "- [Introduction](#intro)\n",
    "- [Methods](#methods)\n",
    "- [Numpy Neural Network Implementation](#np_nn_impl)\n",
    "    - [Numpy Neural Network Modeling](#np_nn_model)\n",
    "    - [Numpy Neural Network Evaluation](#np_val_eval)\n",
    "- [Keras Neural Network](#keras_nn)\n",
    "    - [Keras ANN Modeling](#keras_ann_model)\n",
    "    - [Keras ANN Evaluation](#keras_ann_eval)\n",
    "    - [Keras CNN Modeling](#keras_cnn_model)\n",
    "    - [Keras CNN Evaluation](#keras_cnn_eval)\n",
    "\n",
    "<a id = 'intro'>\n",
    "    \n",
    "# Introduction\n",
    "\n",
    "</a>\n",
    "\n",
    "The goal behind this project is to:\n",
    "\n",
    "1. Create and implement an Artificial Neural Network (ANN) utilizing Numpy\n",
    "2. Implement an ANN utilizing Keras\n",
    "3. Implement a Convolutional Neural Network (CNN) utilizing Keras\n",
    "\n",
    "These models will be trained on the Fashion Mnist Data, which can be found [here](https://https://www.kaggle.com/zalando-research/fashionmnist).\n",
    "\n",
    "The purpose of this project is to further create models for performance and classification on images. A previous project of mine, which can be found [here](https://github.com/joshjanda1/projects/Mnist) focuses on image recognition on the original Mnist dataset and also included a Shiny application for predicting users' own handwritten digits. Also, it is to implement and optimize a custom built Neural Network, and test its performance compared to an identical ANN built on Keras. For the convolutional neural network, I will be basing it's architecture on the LeNet-5 CNN. The paper behind the LeNet-5 CNN can be found [here](http://yann.lecun.com/exdb/publis/pdf/lecun-01a.pdf).\n",
    "\n",
    "Data will first be analyzed and viewed to get a statistical and visual idea of what I am working with, I will then utilize algorithms mentioned above for statistical modeling.\n",
    "\n",
    "For choosing models, models will be validated on validation data based on various performance metrics such as accuracy or metrics based on the confusion matrix. The highest performing model will then be chosen and benchmarked on further unseen test data.\n",
    "\n",
    "The data can be described as the following:\n",
    "\n",
    "- Each observation is an image that is 28x28 pixels, which totals to 784 pixels\n",
    "- Each image is in grayscale (pixel intensity ranges from 0-255), and only has one channel\n",
    "- The target variable, or class, has 10 unique classes. These classes are:\n",
    "    - 0 T-shirt/top\n",
    "    - 1 Trouser\n",
    "    - 2 Pullover\n",
    "    - 3 Dress\n",
    "    - 4 Coat\n",
    "    - 5 Sandal\n",
    "    - 6 Shirt\n",
    "    - 7 Sneaker\n",
    "    - 8 Bag\n",
    "    - 9 Ankle boot\n",
    "\n",
    "Overall, with the data described, the goal behind this project is to utilize deep learning techniques for accurate classification.\n",
    "\n",
    "<a id = 'methods'>\n",
    "    \n",
    "# Methods\n",
    "\n",
    "</a>\n",
    "\n",
    "The first step of this project is to load in the data. The data comes in two parts, a training and testing set. The testing set will immediately be set aside after performing initial analysis such as verifying and cleaning data. The training set will completely be analyzed and visualized."
   ]
  },
  {
   "cell_type": "code",
   "execution_count": 1,
   "metadata": {},
   "outputs": [],
   "source": [
    "#Begin Imports\n",
    "import pandas as pd\n",
    "import numpy as np\n",
    "import matplotlib.pyplot as plt\n",
    "import seaborn as sns\n",
    "from sklearn.model_selection import StratifiedKFold\n",
    "from sklearn.metrics import confusion_matrix\n",
    "from sklearn.metrics import accuracy_score\n",
    "import tensorflow as tf\n",
    "from tensorflow import keras\n",
    "from sklearn.decomposition import PCA\n",
    "from scipy.special import expit\n",
    "from tqdm import trange\n",
    "%matplotlib inline\n",
    "#End Imports\n",
    "\n",
    "train_mnist = pd.read_csv(\"fashion-mnist_train.csv\")\n",
    "test_mnist = pd.read_csv(\"fashion-mnist_test.csv\")"
   ]
  },
  {
   "cell_type": "code",
   "execution_count": 5,
   "metadata": {},
   "outputs": [
    {
     "data": {
      "text/html": [
       "<div>\n",
       "<style scoped>\n",
       "    .dataframe tbody tr th:only-of-type {\n",
       "        vertical-align: middle;\n",
       "    }\n",
       "\n",
       "    .dataframe tbody tr th {\n",
       "        vertical-align: top;\n",
       "    }\n",
       "\n",
       "    .dataframe thead th {\n",
       "        text-align: right;\n",
       "    }\n",
       "</style>\n",
       "<table border=\"1\" class=\"dataframe\">\n",
       "  <thead>\n",
       "    <tr style=\"text-align: right;\">\n",
       "      <th></th>\n",
       "      <th>Observations</th>\n",
       "      <th>Features</th>\n",
       "    </tr>\n",
       "  </thead>\n",
       "  <tbody>\n",
       "    <tr>\n",
       "      <th>Training Set</th>\n",
       "      <td>60000</td>\n",
       "      <td>785</td>\n",
       "    </tr>\n",
       "    <tr>\n",
       "      <th>Testing Set</th>\n",
       "      <td>10000</td>\n",
       "      <td>785</td>\n",
       "    </tr>\n",
       "  </tbody>\n",
       "</table>\n",
       "</div>"
      ],
      "text/plain": [
       "              Observations  Features\n",
       "Training Set         60000       785\n",
       "Testing Set          10000       785"
      ]
     },
     "execution_count": 5,
     "metadata": {},
     "output_type": "execute_result"
    }
   ],
   "source": [
    "data_sizes = pd.DataFrame(data = [list(train_mnist.shape), list(test_mnist.shape)],\n",
    "                         index = [\"Training Set\", \"Testing Set\"],\n",
    "                         columns = [\"Observations\", \"Features\"])\n",
    "data_sizes"
   ]
  },
  {
   "cell_type": "markdown",
   "metadata": {},
   "source": [
    "Provided by the table above, there are 60,000 observations in the training set and 10,000 observations in the testing set. Both datasets have 785 features, which indicate 784 columns of pixel values for the images and 1 column of the intended target variable.\n",
    "\n",
    "Before setting the testing set aside for now, I will quickly verify the data by checking the number of NA values."
   ]
  },
  {
   "cell_type": "code",
   "execution_count": 6,
   "metadata": {},
   "outputs": [
    {
     "data": {
      "text/html": [
       "<div>\n",
       "<style scoped>\n",
       "    .dataframe tbody tr th:only-of-type {\n",
       "        vertical-align: middle;\n",
       "    }\n",
       "\n",
       "    .dataframe tbody tr th {\n",
       "        vertical-align: top;\n",
       "    }\n",
       "\n",
       "    .dataframe thead th {\n",
       "        text-align: right;\n",
       "    }\n",
       "</style>\n",
       "<table border=\"1\" class=\"dataframe\">\n",
       "  <thead>\n",
       "    <tr style=\"text-align: right;\">\n",
       "      <th></th>\n",
       "      <th>Total NA Values</th>\n",
       "    </tr>\n",
       "  </thead>\n",
       "  <tbody>\n",
       "    <tr>\n",
       "      <th>Training Set</th>\n",
       "      <td>0</td>\n",
       "    </tr>\n",
       "    <tr>\n",
       "      <th>Testing Set</th>\n",
       "      <td>0</td>\n",
       "    </tr>\n",
       "  </tbody>\n",
       "</table>\n",
       "</div>"
      ],
      "text/plain": [
       "              Total NA Values\n",
       "Training Set                0\n",
       "Testing Set                 0"
      ]
     },
     "execution_count": 6,
     "metadata": {},
     "output_type": "execute_result"
    }
   ],
   "source": [
    "training_nas = train_mnist.isna().sum().sum() #sum nas for each column, then sum total nas over each column\n",
    "testing_nas = test_mnist.isna().sum().sum()\n",
    "na_vals = pd.DataFrame(data = [training_nas, testing_nas],\n",
    "                      index = [\"Training Set\", \"Testing Set\"],\n",
    "                      columns = [\"Total NA Values\"])\n",
    "na_vals"
   ]
  },
  {
   "cell_type": "markdown",
   "metadata": {},
   "source": [
    "Looking at the table above, which gives us the total number of NA values in each dataset, I can see that there are no missing values in the data whatsoever. This is expected as the data is images and there should be no missing values, as well as the data being highly used in the machine learning community. However, it is still good to confirm this.\n",
    "\n",
    "With verifying the data aside, I will now move to analyzing the training dataset.\n",
    "\n",
    "I will first display some of the observations in the dataset, to get an idea of what I am working with."
   ]
  },
  {
   "cell_type": "code",
   "execution_count": 7,
   "metadata": {},
   "outputs": [
    {
     "data": {
      "image/png": "[encoded data removed]",
      "text/plain": [
       "<Figure size 432x288 with 1 Axes>"
      ]
     },
     "metadata": {
      "needs_background": "light"
     },
     "output_type": "display_data"
    },
    {
     "name": "stdout",
     "output_type": "stream",
     "text": [
      "Image Label: Pullover\n"
     ]
    },
    {
     "data": {
      "image/png": "[encoded data removed]",
      "text/plain": [
       "<Figure size 432x288 with 1 Axes>"
      ]
     },
     "metadata": {
      "needs_background": "light"
     },
     "output_type": "display_data"
    },
    {
     "name": "stdout",
     "output_type": "stream",
     "text": [
      "Image Label: Ankle Boot\n"
     ]
    },
    {
     "data": {
      "image/png": "[encoded data removed]",
      "text/plain": [
       "<Figure size 432x288 with 1 Axes>"
      ]
     },
     "metadata": {
      "needs_background": "light"
     },
     "output_type": "display_data"
    },
    {
     "name": "stdout",
     "output_type": "stream",
     "text": [
      "Image Label: Shirt\n"
     ]
    },
    {
     "data": {
      "image/png": "[encoded data removed]",
      "text/plain": [
       "<Figure size 432x288 with 1 Axes>"
      ]
     },
     "metadata": {
      "needs_background": "light"
     },
     "output_type": "display_data"
    },
    {
     "name": "stdout",
     "output_type": "stream",
     "text": [
      "Image Label: T-Shirt\n"
     ]
    },
    {
     "data": {
      "image/png": "[encoded data removed]",
      "text/plain": [
       "<Figure size 432x288 with 1 Axes>"
      ]
     },
     "metadata": {
      "needs_background": "light"
     },
     "output_type": "display_data"
    },
    {
     "name": "stdout",
     "output_type": "stream",
     "text": [
      "Image Label: Dress\n"
     ]
    }
   ],
   "source": [
    "def create_image(index, data):\n",
    "    \n",
    "    X = data.drop(\"label\", axis = 1).to_numpy()[index, :] # drop label class and pull observation of given index\n",
    "    y = data[\"label\"].to_numpy()[index] # label class and pull observation of given index\n",
    "    \n",
    "    X = X.reshape(28, 28) #reshape to 28x28 pixel image\n",
    "    \n",
    "    return X, y\n",
    "\n",
    "def label_to_class(label):\n",
    "    \n",
    "    label_dict = {0 : 'T-Shirt', 1 : 'Trouser',\n",
    "                  2 : 'Pullover', 3 : 'Dress',\n",
    "                  4 : 'Coat', 5 : 'Sandal',\n",
    "                  6 : 'Shirt', 7 : 'Sneaker',\n",
    "                  8 : 'Bag', 9 : 'Ankle Boot'}\n",
    "    \n",
    "    return label_dict[label]\n",
    "    \n",
    "\n",
    "for i in range(0, 5): #display first five images of datasets\n",
    "    \n",
    "    x, y = create_image(i, train_mnist)\n",
    "    \n",
    "    plt.imshow(x, cmap = 'gray')\n",
    "    plt.show()\n",
    "    print(\"Image Label: {0}\".format(label_to_class(y)))"
   ]
  },
  {
   "cell_type": "markdown",
   "metadata": {},
   "source": [
    "Looking at the images above, I can see that they are not the best quality (they are 28x28px images afterall), but are easily identifiable for the most part. The backgrounds of the images are black, which correspond to a pixel intensity of 0. The brightest pixel intensity corresponds to 255.\n",
    "\n",
    "Due to this large range (0 to 255), I will be performing grayscale reduction in order to reduce the data to be in the range of (0, 1). This will be done simply by dividing the pixels by 255.0. After doing so, I will once again visualize the data to make sure there is no real loss of information."
   ]
  },
  {
   "cell_type": "code",
   "execution_count": 11,
   "metadata": {},
   "outputs": [
    {
     "data": {
      "image/png": "[encoded data removed]",
      "text/plain": [
       "<Figure size 432x288 with 1 Axes>"
      ]
     },
     "metadata": {
      "needs_background": "light"
     },
     "output_type": "display_data"
    },
    {
     "name": "stdout",
     "output_type": "stream",
     "text": [
      "Image Label: Pullover\n"
     ]
    },
    {
     "data": {
      "image/png": "[encoded data removed]",
      "text/plain": [
       "<Figure size 432x288 with 1 Axes>"
      ]
     },
     "metadata": {
      "needs_background": "light"
     },
     "output_type": "display_data"
    },
    {
     "name": "stdout",
     "output_type": "stream",
     "text": [
      "Image Label: Ankle Boot\n"
     ]
    }
   ],
   "source": [
    "Xtrain_df = (train_mnist.drop('label', axis = 1)) / 255.0 # performs grayscale reduction after dropping label \n",
    "Xtrain_split = Xtrain_df.to_numpy()# will be used later\n",
    "ytrain_df = train_mnist['label'] # class\n",
    "ytrain_split = ytrain_df.to_numpy() # will be used later\n",
    "\n",
    "train_mnist_scaled = pd.concat((ytrain_df,Xtrain_df), axis = 1)\n",
    "\n",
    "for i in range(0, 2): #display first two images of datasets that have been scaled down\n",
    "    \n",
    "    x, y = create_image(i, train_mnist_scaled)\n",
    "    \n",
    "    plt.imshow(x, cmap = 'gray')\n",
    "    plt.show()\n",
    "    print(\"Image Label: {0}\".format(label_to_class(y)))"
   ]
  },
  {
   "cell_type": "markdown",
   "metadata": {},
   "source": [
    "As suspected, there is no apparent visual information loss by scaling the pixels to a range of (0,1).\n",
    "\n",
    "With the data visualized, I will analyze the data some before moving onto modeling. Due to the large number of features, I will be utilizing PCA for looking at explained variance."
   ]
  },
  {
   "cell_type": "code",
   "execution_count": 47,
   "metadata": {},
   "outputs": [
    {
     "data": {
      "image/png": "[encoded data removed]",
      "text/plain": [
       "<Figure size 432x288 with 1 Axes>"
      ]
     },
     "metadata": {
      "needs_background": "light"
     },
     "output_type": "display_data"
    }
   ],
   "source": [
    "pca = PCA()\n",
    "pca.fit(train_mnist.drop('label', axis = 1))\n",
    "train_expl_var = np.cumsum(pca.explained_variance_ratio_)\n",
    "\n",
    "plt.plot(train_expl_var, 'r', label = \"Explained Variance Ratio (EVR)\")\n",
    "plt.axvline(x = np.where(np.isclose(train_expl_var,.95, rtol = .0001)), label = \".95 EVR\")\n",
    "# plot vertical line where EVR is ~ .95\n",
    "plt.legend()\n",
    "plt.xlabel(\"Dimensions\")\n",
    "plt.ylabel(\"Explained Variance\")\n",
    "plt.title(\"Explained Variance vs # of Dimensions\")\n",
    "plt.show()"
   ]
  },
  {
   "cell_type": "markdown",
   "metadata": {},
   "source": [
    "The plot above shows the explained variance ratio through principal component analysis, with a vertical line marked where the explained variance ratio is ~ .950. This EVR of ~ .950 is roughly right before 200 dimensions out of 754. So, the data could actually be reduced by over 500 features while maintaining a very high variance in the data still. However, due to wanting to perform image recognition, as well as use a CNN, I will not be utilizing PCA for dimension reduction as I want to keep my images intact.\n",
    "\n",
    "Overall, however, this plot shows that only ~ 200 features really play an important role in this dataset. This means that most of the features can be considered redundant, or whitespace (blackspace in the case of this data based on the images above).\n",
    "\n",
    "Next, I want to focus on the target variable and visualize the distribution of classes."
   ]
  },
  {
   "cell_type": "code",
   "execution_count": 52,
   "metadata": {},
   "outputs": [
    {
     "data": {
      "image/png": "[encoded data removed]",
      "text/plain": [
       "<Figure size 432x288 with 1 Axes>"
      ]
     },
     "metadata": {
      "needs_background": "light"
     },
     "output_type": "display_data"
    }
   ],
   "source": [
    "sns.countplot(train_mnist['label'])\n",
    "plt.xlabel(\"Class Labels\")\n",
    "plt.ylabel(\"Count of Each Class\")\n",
    "plt.title(\"Count Plot of Class Labels in Training Data\")\n",
    "plt.show()"
   ]
  },
  {
   "cell_type": "markdown",
   "metadata": {},
   "source": [
    "Looking at the plot above, each of the class labels seem to have an equal amount of observations in the dataset (6000 observations of each class). This is great as it means that are target variable distribution is truly equal, and will be able to hopefully help the models correctly classify each observation then within some error.\n",
    "\n",
    "With the data analyzed and visualized, I will now move onto the statistical modeling portion of this project. This consists of creating an implementing an Artifical Neural Network in Numpy as well as Keras, and then implementing a Convolutional Neural Network in Keras based on the LeNet-5 CNN."
   ]
  },
  {
   "cell_type": "markdown",
   "metadata": {},
   "source": [
    "<a id = 'np_nn_impl'>\n",
    "    \n",
    "# Numpy Neural Network Implementation\n",
    "\n",
    "</a>\n",
    "\n",
    "For this section, I will be implementing a custom artificial neural network utilizing Numpy. I will start by creating the layer classes, and then the full neural network class. Each class will be discussed, which includes implementation and/or math behind the implementation. The model will be optimized through stochastic gradient descent and a softmax loss function."
   ]
  },
  {
   "cell_type": "code",
   "execution_count": 64,
   "metadata": {},
   "outputs": [],
   "source": [
    "class Layer:\n",
    "    \n",
    "    def __init__(self):\n",
    "        \n",
    "        pass\n",
    "    \n",
    "    def forward_prop(self, inpt):\n",
    "        \n",
    "        # used for forward propogation\n",
    "        \n",
    "        pass\n",
    "    \n",
    "    def backward_prop(self, inpt, prev_grad_output):\n",
    "        \n",
    "        # used for back propogation\n",
    "        \n",
    "        num_units = inpt.shape[1]\n",
    "        \n",
    "        identity = np.eye(num_units)\n",
    "        \n",
    "        return prev_grad_output @ identity\n",
    "        # returns previous grad output dotted with identity matrix, aka returns prev grad output"
   ]
  },
  {
   "cell_type": "markdown",
   "metadata": {},
   "source": [
    "The code above defines the general structure of the Layer class, which will be used to implement Dense layers next.\n",
    "\n",
    "Forward Propogation (defined as forward_prop in class), takes one input:\n",
    "\n",
    " - inpt: Either weight matrix of the hidden layer, or the data itself for the first layer\n",
    "\n",
    "Backward Propogation (defined as backward_prop in class), takes two inputs:\n",
    "\n",
    " - inpt: Either weight matrix of the hidden layer, or the data itself for the first layer\n",
    " - prev_grad_output: Backward_prop output of the previous hidden layer\n",
    " \n",
    "Before explaining forward and backward propogation, let's focus on a simple neural network with an input layer, one hidden layer, and an output layer with one output (binary classification). It can be visualized as this:\n",
    "\n",
    "![](images/basic_nn.png)\n",
    "\n",
    "In this example, the input layer has two features: $x_1$ and $x_2$. The hidden layer has two hidden nodes: $h_1$ and $h_2$. The output layer has one output (binary classification): $o_1$. There is also a bias built in the model for each hidden layer, which will be a $2x1$ vector in this case:\n",
    "\n",
    "<br>\n",
    "\\begin{align*}\n",
    "  \\left[\n",
    "    \\begin{array}{c}\n",
    "      b_1\\\\\n",
    "      b_2\\\\\n",
    "    \\end{array}\n",
    "  \\right].\n",
    "\\end{align*}\n",
    "<br>\n",
    "\n",
    "Between the input layer and the hidden layer, there are weights that are the parameters of the model. For this basic model, this will be a $2x2$ matrix:\n",
    "\n",
    "<br>\n",
    "\\begin{align*}\n",
    "  \\left[\n",
    "    \\begin{array}{c}\n",
    "      w_1^{(1)} w_1^{(2)}\\\\\n",
    "      w_2^{(1)} w_2^{(2)}\\\\\n",
    "    \\end{array}\n",
    "  \\right].\n",
    "\\end{align*}\n",
    "<br>\n",
    "\n",
    "The goal of these weights is to find the correct values for predicting the output variable accurately. This is done through tweaking the weights by gradient descent, or stochastic gradient descent in my case. This is extremly similar to ordinary logistic regression optimized through gradient descent, where the variable coefficients are tweaked in order to increase performance for the model until optimal performance is found.\n",
    "\n",
    "Forward Propogation can be seen as passing the data forward through the network in order to obtain the intended output. In the general case of this basic neural network, forward propogation can be written as a very simple function. I will write out the function to retrieve the values of the hidden layer matrix:\n",
    "\n",
    "1. Compute Dot Product between $X$ and $W$, where $X$ is the data matrix and $W$ is the weight matrix:\n",
    "    \n",
    "    $$X \\cdot W = \\begin{align*}\n",
    "  \\left[\n",
    "    \\begin{array}{c}\n",
    "      x_1^{(1)}*w_1^{(1)} + x_1^{(2)}*w_2^{(1)}|x_1^{(1)}*w_1^{(2)} + x_1^{(2)}*w_2^{(2)}\\\\\n",
    "      x_2^{(1)}*w_1^{(1)} + x_2^{(2)}*w_2^{(1)}|x_2^{(1)}*w_1^{(2)} + x_2^{(2)}*w_2^{(2)}\\\\\n",
    "    \\end{array}\n",
    "  \\right].\n",
    "\\end{align*}$$\n",
    "\n",
    "2. Add bias to dot product, $(X \\cdot W) + B$. Call this $z$\n",
    "3. Perform some activation function on $z$, ReLU in this models case, and call it $a$\n",
    "4. This will give you $2x2$ matrix, which are the values to be passed onto the output layers activation function.\n",
    "    \n",
    "Note that I mentioned the activation function ReLU. This function is considered to be the \"gate\" between the neurons in the current layer to the output neurons for the next layer. After calculating the neuron values in the current layer, you apply some activation function to these values in order to pass along to the next layer for use. The ReLU activation function has the equation of $max(0, x)$, where $x$ is the calculated values of the current neurons. This function sets all values less than 0 to be zero, otherwise the value is kept the same.\n",
    "\n",
    "Ultimately, forward propogation is used to compute the values for each neuron in each hidden layer until you compute the values for the output layer. It can be seen as one giant function, and can be named as such.\n",
    "\n",
    "Backward Propogation is a little more intense, but is still feasible. This operation, as it is in the title, is the opposite of forward propogation. It is used to determine how gradient descent tweaks the weights of the neural network to appropriate values. The steps of backward propogation can be written as such for this basic neural network:\n",
    "\n",
    "1. Compute the gradient of the output layer, which is the loss derivative (use activated neurons as input). This is the output gradient.\n",
    "2. Compute the input gradient of the hidden layer by computing the dot product between the output gradient (loss derivative), and the transpose of the weight matrix in the current layer. Multiply the input gradient by the derivative of the activation function used, using the $X$ matrix as the input.\n",
    "3. Compute the gradients of the weights by computing the dot product between the current weights and the transpose of the input. The input is the $X$ matrix.\n",
    "4. Compute the bias gradient by computing the mean of the output gradient and multiplying that by the total number of neurons.\n",
    "5. Update the current weights and bias by subtracting the computed gradients multiplied by the learning rate.\n",
    "\n",
    "With those steps, you will have performed back propogation. While it can be confusing, implementation is very straight forward.\n",
    "\n",
    "With forward and backward propogation introduced and discussed, as well as the technicals used inside of the operations, it is now time to implement the Dense class."
   ]
  },
  {
   "cell_type": "code",
   "execution_count": 65,
   "metadata": {},
   "outputs": [],
   "source": [
    "class Dense(Layer):\n",
    "    \n",
    "    def __init__(self, input_units, output_units, activation_func = \"relu\", learning_rate = 0.1):\n",
    "        \n",
    "        #define architecture\n",
    "        self.input_dim = input_units\n",
    "        self.output_dim = output_units\n",
    "        #activation functions\n",
    "        if activation_func == \"relu\":\n",
    "            \n",
    "            self.activation = \"relu\"\n",
    "            self.weights = np.sqrt(2 / (input_units + output_units)) * np.random.randn(input_units, output_units) # initialize relu weights\n",
    "            self.bias = np.zeros(output_units) # initialize bias to be zeros of size output,\n",
    "        \n",
    "        elif activation_func == \"tanh\":\n",
    "            \n",
    "            self.activation = \"tanh\"\n",
    "            self.weights = np.sqrt(1 / (input_units + output_units)) * np.random.randn(input_units, output_units) # initialize tanh weights using xavier initalization\n",
    "            self.bias = np.zeros(output_units) # initialize bias to be zeros of size output,\n",
    "        \n",
    "        elif activation_func == \"sigmoid\":\n",
    "            \n",
    "            self.activation = \"sigmoid\"\n",
    "            self.weights = np.sqrt(2 / (input_units + output_units)) * np.random.randn(input_units, output_units) # initialize sigmoid weights\n",
    "            self.bias = np.zeros(output_units) # initialize bias to be zeros of size output,\n",
    "        \n",
    "        else:\n",
    "            \n",
    "            print(\"Unrecognmized activation function, using ReLU\")\n",
    "            \n",
    "            self.activation = \"relu\"\n",
    "            self.weights = np.sqrt(2 / (input_units + output_units)) * np.random.randn(input_units, output_units) # initialize relu weights\n",
    "            self.bias = np.zeros(output_units) # initialize bias to be zeros of size output,\n",
    "            \n",
    "        # learning params\n",
    "        self.alpha = learning_rate # this will be pulled from learning rate defined in full model class\n",
    "        \n",
    "    def forward(self, inpt):\n",
    "        \n",
    "        z = (inpt @ self.weights) + self.bias\n",
    "        \n",
    "        if self.activation == \"relu\":\n",
    "            \n",
    "            return np.maximum(0, z)\n",
    "        \n",
    "        elif self.activation == \"tanh\":\n",
    "            \n",
    "            return np.tanh(z)\n",
    "        \n",
    "        elif self.activation == \"sigmoid\":\n",
    "            \n",
    "            return expit(z)\n",
    "        \n",
    "    def backward(self, inpt, grad_output):\n",
    "        \n",
    "        if self.activation == \"relu\":\n",
    "            \n",
    "            grad_input = (grad_output @ self.weights.T ) * np.greater(inpt, 0).astype(int)\n",
    "            # compute input gradient by dotting previous gradient output with current weights transposed, multiplied by activation derivative\n",
    "        \n",
    "        elif self.activation == \"tanh\":\n",
    "            \n",
    "            grad_input = (grad_output @ self.weights.T ) * (1 - np.power(np.tanh(inpt), 2))\n",
    "            # compute input gradient by dotting previous gradient output with current weights transposed, multiplied by activation derivative\n",
    "        \n",
    "        elif self.activation == \"sigmoid\":\n",
    "            \n",
    "            grad_input = (grad_output @ self.weights.T ) * (expit(inpt) * (1 - expit(inpt)))\n",
    "            # compute input gradient by dotting previous gradient output with current weights transposed, multiplied by activation derivative\n",
    "        \n",
    "        grad_weights = inpt.T @ grad_output # compute weight gradient for current layer\n",
    "        grad_bias = grad_output.mean(axis = 0) * inpt.shape[0] # compute bias gradient for current layer\n",
    "        \n",
    "        self.weights = self.weights - (self.alpha * grad_weights) # update weights\n",
    "        self.bias = self.bias - (self.alpha * grad_bias) # update \n",
    "        \n",
    "        return grad_input # return grad input for use in next layer update (back propogation)"
   ]
  },
  {
   "cell_type": "markdown",
   "metadata": {},
   "source": [
    "The code above is commented highly in order for the reader to get an understanding of the implementation of the code. Compared to the overview of forward/back propogation above, this is much more complex. However, it is doing the exact same thing except for multiple layers.\n",
    "\n",
    "I will now implement the full Neural Network class, also highly commented for reader understanding."
   ]
  },
  {
   "cell_type": "code",
   "execution_count": 67,
   "metadata": {},
   "outputs": [],
   "source": [
    "class NeuralNetwork(object):\n",
    "    \n",
    "    def __init__(self, learning_rate = 0.1):\n",
    "        \n",
    "        self.alpha = learning_rate # defined learning rate\n",
    "        self.network = []\n",
    "        \n",
    "    def addlayer(self, hidden_layer):\n",
    "        \n",
    "        self.network.append(hidden_layer) # when adding layer, specify learning rate to be object.alpha\n",
    "        \n",
    "    def loss(self, logits, actual):\n",
    "        \n",
    "        # Compute crossentropy from logits[batch,n_classes] and ids of correct answers\n",
    "        logits_for_answers = logits[np.arange(len(logits)), actual]\n",
    "    \n",
    "        crossentropy = - logits_for_answers + np.log(np.sum(np.exp(logits), axis=-1))\n",
    "    \n",
    "        return crossentropy # loss\n",
    "    \n",
    "    def loss_derivative(self, logits, actual):\n",
    "        \n",
    "        # Compute crossentropy gradient from logits[batch,n_classes] and ids of correct answers\n",
    "        ones_for_answers = np.zeros_like(logits) \n",
    "        ones_for_answers[np.arange(len(logits)), actual] = 1\n",
    "    \n",
    "        softmax = np.exp(logits) / np.exp(logits).sum(axis = -1, keepdims = True)\n",
    "    \n",
    "        return (- ones_for_answers + softmax) / logits.shape[0] # loss derivative\n",
    "    \n",
    "    def predict(self, X):\n",
    "        \n",
    "        logits = self.forward(X)[-1] # predict on given x input\n",
    "        return logits.argmax(axis = -1) # return class of max probability\n",
    "    \n",
    "    def accuracy(self, predictions, actual):\n",
    "        \n",
    "        return np.mean(predictions == actual)\n",
    "    \n",
    "    def forward(self, X):\n",
    "        \n",
    "        # perform forward propogation\n",
    "        activations = [] #activations\n",
    "        inpt = X # start with X as first input, then forward propogate\n",
    "        \n",
    "        for l in self.network:\n",
    "            \n",
    "            activations.append(l.forward(inpt)) # append forward propogated values to activation list using previous input\n",
    "            \n",
    "            # set input to previous activation output\n",
    "            inpt = activations[-1]\n",
    "            \n",
    "        return activations\n",
    "    \n",
    "    def iterate_minibatches(self, inputs, targets, batchsize, shuffle = False):\n",
    "        \n",
    "        # used to feed neural network training in batches rather than all data at once. \n",
    "        #Helps prevent overfitting/speeds up training\n",
    "        \n",
    "        if shuffle: # do we want to shuffle data before training?\n",
    "            \n",
    "            indices = np.random.permutation(len(inputs)) # if yes, find a random permutation of the length of the inputs (batchsize)\n",
    "            \n",
    "        t = trange(0, len(inputs) - batchsize + 1, batchsize) # define trange for progress bar during training\n",
    "        \n",
    "        for start_idx in t:\n",
    "            \n",
    "            t.set_description('Epoch {0}'.format(self.epoch)) # describe epoch number before progress bar\n",
    "            \n",
    "            if shuffle: \n",
    "                \n",
    "                excerpt = indices[start_idx: start_idx + batchsize] # if shuffle, uses randomized indices\n",
    "            else:\n",
    "                \n",
    "                excerpt = slice(start_idx, start_idx + batchsize) # else, use standard indices\n",
    "            \n",
    "            yield inputs[excerpt], targets[excerpt] # YIELD current inputs and targets at given indices\n",
    "            ## yield is used in order to maintain the state of the function, rather than to return a value over each minibatch\n",
    "    \n",
    "    def train(self, X, y):\n",
    "        \n",
    "        #compute activations and their outputs\n",
    "        layer_activations = self.forward(X)\n",
    "        layer_inputs = [X] + layer_activations # set inputs to X and the following layers activations\n",
    "        logits = layer_activations[-1] # logits are computed by the final activation\n",
    "        \n",
    "        #compute loss\n",
    "        loss = self.loss(logits, y)\n",
    "        loss_grad = self.loss_derivative(logits, y) # compute loss derivative to bein back propogation\n",
    "        # loss derivative is computed using logits (final layers activated neurons)\n",
    "        \n",
    "        #back prop implementation\n",
    "        for layer_idx in reversed(range(len(self.network))): # backwards, so must reverse range\n",
    "            \n",
    "            layer = self.network[layer_idx] # set layer to current layer index in network list\n",
    "            \n",
    "            loss_grad = layer.backward(layer_inputs[layer_idx], loss_grad) # compute current layer gradient using previous layers gradient\n",
    "            # set loss gradient to the input gradient of the current layers backward propogation.\n",
    "            # input of back prop is current layers activated neurons\n",
    "        \n",
    "        return np.mean(loss) # return the mean loss function, useful due to minibatches\n",
    "    \n",
    "    def fit(self, X, y, batchsize = 32, shuffle = False, epochs = 100, validation_data = None):\n",
    "        \n",
    "        self.epochs = epochs #save for plotting\n",
    "        \n",
    "        self.X = X # save x in class\n",
    "        self.y = y # save y in class\n",
    "        \n",
    "        self.training_loss = [] # define empty list to hold training loss/accuracy\n",
    "        self.training_acc = []\n",
    "        \n",
    "        if validation_data is not None: # using validation data?\n",
    "            \n",
    "            self.Xval, self.yval = validation_data # tuple assignnment\n",
    "            \n",
    "            self.val_loss = [] # define empty list to hold validation loss/accuracy\n",
    "            self.val_acc = []\n",
    "        \n",
    "        for epoch in range(epochs):\n",
    "            \n",
    "            self.epoch = epoch + 1 #save current epoch for progress bar update\n",
    "            \n",
    "            for xbatch, ybatch in self.iterate_minibatches(self.X, self.y, batchsize = batchsize, shuffle = shuffle):\n",
    "                \n",
    "                self.train(xbatch, ybatch) # train data in minibatches using SGD\n",
    "            \n",
    "            train_activations = self.forward(self.X) # compute to save training loss in each epoch\n",
    "            train_logits = train_activations[-1]\n",
    "            train_loss = np.mean(self.loss(train_logits, self.y))\n",
    "            \n",
    "            self.training_loss.append(train_loss)\n",
    "            self.training_acc.append(self.accuracy(self.predict(self.X), self.y)) # compute to save training acc in each epoch\n",
    "            \n",
    "            if validation_data is not None:\n",
    "                \n",
    "                val_activations = self.forward(self.Xval) # compute to save validation loss in each epoch\n",
    "                val_logits = val_activations[-1]\n",
    "                val_loss = np.mean(self.loss(val_logits, self.yval))\n",
    "                \n",
    "                self.val_loss.append(val_loss)\n",
    "                self.val_acc.append(self.accuracy(self.predict(self.Xval), self.yval)) # compute to save validation acc in each epoch\n",
    "    \n",
    "    def plotCost(self, plotvalloss = False):\n",
    "        \n",
    "        #used for plotting loss function\n",
    "        fig, ax = plt.subplots()\n",
    "        ax.plot(np.arange(self.epochs), self.training_loss, color = 'red', label = \"Training Loss\")\n",
    "        if plotvalloss: # used if validation data used\n",
    "            ax.plot(np.arange(self.epochs), self.val_loss, color = 'blue', label = \"Validation Loss\")\n",
    "        ax.legend()\n",
    "        ax.set_xlabel('Number of Iterations')\n",
    "        ax.set_ylabel('Cost')\n",
    "        plt.show()"
   ]
  },
  {
   "cell_type": "markdown",
   "metadata": {},
   "source": [
    "With the full Neural Network structure completely implemented, commented on, and explained at a very high level I will use this model for creating the first Artificial Neural Network on the Fashion Mnist data.\n",
    "\n",
    "<a id = 'np_nn_model'>\n",
    "    \n",
    "### Modeling Using Numpy Neural Network Implementation\n",
    " \n",
    "</a>\n",
    "\n",
    "The first steps for beginning modeling will be to finally split the data. Recall the data has already been scaled, so that step has already been completed for modeling. Also recall that a test set has been already set aside, so I will be splitting the training set into a new training set and a validation set using StratifiedKFold. This method ensures that when splitting the data into two sets that the class distributions remain identically equal between each set within some error. This is useful so no dataset has more of one class than the other."
   ]
  },
  {
   "cell_type": "code",
   "execution_count": 12,
   "metadata": {},
   "outputs": [],
   "source": [
    "skf = StratifiedKFold(n_splits = 5, random_state = 27) # 5 splits since dataset is not large`\n",
    "\n",
    "for trn_idx, val_idx in skf.split(Xtrain_split, ytrain_split):\n",
    "    \n",
    "    Xtrain, Xval = Xtrain_split[trn_idx], Xtrain_split[val_idx]\n",
    "    ytrain, yval = ytrain_split[trn_idx], ytrain_split[val_idx]\n",
    "\n",
    "# just to ensure similar distributions..\n",
    "train_dists = []\n",
    "val_dists = []\n",
    "\n",
    "for i in range(10):\n",
    "    \n",
    "    curr_train_dist = len(ytrain[ytrain == i]) / len(ytrain)\n",
    "    curr_val_dist = len(yval[yval == i]) / len(yval)\n",
    "    \n",
    "    train_dists.append(curr_train_dist)\n",
    "    val_dists.append(curr_val_dist)\n",
    "\n",
    "dist_df = pd.DataFrame(data = [train_dists, val_dists],\n",
    "                      index = [\"Training Class Distribution\", \"Validation Class Distribution\"])"
   ]
  },
  {
   "cell_type": "code",
   "execution_count": 13,
   "metadata": {},
   "outputs": [
    {
     "data": {
      "text/html": [
       "<div>\n",
       "<style scoped>\n",
       "    .dataframe tbody tr th:only-of-type {\n",
       "        vertical-align: middle;\n",
       "    }\n",
       "\n",
       "    .dataframe tbody tr th {\n",
       "        vertical-align: top;\n",
       "    }\n",
       "\n",
       "    .dataframe thead th {\n",
       "        text-align: right;\n",
       "    }\n",
       "</style>\n",
       "<table border=\"1\" class=\"dataframe\">\n",
       "  <thead>\n",
       "    <tr style=\"text-align: right;\">\n",
       "      <th></th>\n",
       "      <th>0</th>\n",
       "      <th>1</th>\n",
       "      <th>2</th>\n",
       "      <th>3</th>\n",
       "      <th>4</th>\n",
       "      <th>5</th>\n",
       "      <th>6</th>\n",
       "      <th>7</th>\n",
       "      <th>8</th>\n",
       "      <th>9</th>\n",
       "    </tr>\n",
       "  </thead>\n",
       "  <tbody>\n",
       "    <tr>\n",
       "      <th>Training Class Distribution</th>\n",
       "      <td>0.1</td>\n",
       "      <td>0.1</td>\n",
       "      <td>0.1</td>\n",
       "      <td>0.1</td>\n",
       "      <td>0.1</td>\n",
       "      <td>0.1</td>\n",
       "      <td>0.1</td>\n",
       "      <td>0.1</td>\n",
       "      <td>0.1</td>\n",
       "      <td>0.1</td>\n",
       "    </tr>\n",
       "    <tr>\n",
       "      <th>Validation Class Distribution</th>\n",
       "      <td>0.1</td>\n",
       "      <td>0.1</td>\n",
       "      <td>0.1</td>\n",
       "      <td>0.1</td>\n",
       "      <td>0.1</td>\n",
       "      <td>0.1</td>\n",
       "      <td>0.1</td>\n",
       "      <td>0.1</td>\n",
       "      <td>0.1</td>\n",
       "      <td>0.1</td>\n",
       "    </tr>\n",
       "  </tbody>\n",
       "</table>\n",
       "</div>"
      ],
      "text/plain": [
       "                                 0    1    2    3    4    5    6    7    8  \\\n",
       "Training Class Distribution    0.1  0.1  0.1  0.1  0.1  0.1  0.1  0.1  0.1   \n",
       "Validation Class Distribution  0.1  0.1  0.1  0.1  0.1  0.1  0.1  0.1  0.1   \n",
       "\n",
       "                                 9  \n",
       "Training Class Distribution    0.1  \n",
       "Validation Class Distribution  0.1  "
      ]
     },
     "execution_count": 13,
     "metadata": {},
     "output_type": "execute_result"
    }
   ],
   "source": [
    "dist_df"
   ]
  },
  {
   "cell_type": "markdown",
   "metadata": {},
   "source": [
    "Looking at the table above to verify the splitting strategy, each class in both the training and validation datasets populate 10% of the data. This will help prevent overfitting and making sure the model has enough available data for each class.\n",
    "\n",
    "It is now time to model the data. For the architecture of the model, I will be using three hidden layers. Each layer will have 380 neurons, as that is approximately the mean of the total number of features between the X and target variables (some insight how I am choosing the number of neurons). Each layer will use the ReLU activation function, as this activation function is an efficient and highly effective non-linear activator.\n",
    "\n",
    "For the learning rate, I will be using a value of 0.1. This is large enough to find the optimal minimum quicker while also not being too large to skip over the minimum. I will be using 50 epochs to ensure minimum is found."
   ]
  },
  {
   "cell_type": "code",
   "execution_count": 158,
   "metadata": {},
   "outputs": [
    {
     "name": "stderr",
     "output_type": "stream",
     "text": [
      "Epoch 1: 100%|██████████| 1500/1500 [00:27<00:00, 56.60it/s]\n",
      "Epoch 2: 100%|██████████| 1500/1500 [00:25<00:00, 58.01it/s]\n",
      "Epoch 3: 100%|██████████| 1500/1500 [00:24<00:00, 60.64it/s]\n",
      "Epoch 4: 100%|██████████| 1500/1500 [00:24<00:00, 60.27it/s]\n",
      "Epoch 5: 100%|██████████| 1500/1500 [00:24<00:00, 60.65it/s]\n",
      "Epoch 6: 100%|██████████| 1500/1500 [00:24<00:00, 60.58it/s]\n",
      "Epoch 7: 100%|██████████| 1500/1500 [00:24<00:00, 59.62it/s]\n",
      "Epoch 8: 100%|██████████| 1500/1500 [00:24<00:00, 60.56it/s]\n",
      "Epoch 9: 100%|██████████| 1500/1500 [00:24<00:00, 60.62it/s]\n",
      "Epoch 10: 100%|██████████| 1500/1500 [00:24<00:00, 60.43it/s]\n",
      "Epoch 11: 100%|██████████| 1500/1500 [00:24<00:00, 60.60it/s]\n",
      "Epoch 12: 100%|██████████| 1500/1500 [00:25<00:00, 59.55it/s]\n",
      "Epoch 13: 100%|██████████| 1500/1500 [00:24<00:00, 60.46it/s]\n",
      "Epoch 14: 100%|██████████| 1500/1500 [00:24<00:00, 60.57it/s]\n",
      "Epoch 15: 100%|██████████| 1500/1500 [00:24<00:00, 60.28it/s]\n",
      "Epoch 16: 100%|██████████| 1500/1500 [00:24<00:00, 60.21it/s]\n",
      "Epoch 17: 100%|██████████| 1500/1500 [00:24<00:00, 60.30it/s]\n",
      "Epoch 18: 100%|██████████| 1500/1500 [00:24<00:00, 60.36it/s]\n",
      "Epoch 19: 100%|██████████| 1500/1500 [00:24<00:00, 60.16it/s]\n",
      "Epoch 20: 100%|██████████| 1500/1500 [00:24<00:00, 60.30it/s]\n",
      "Epoch 21: 100%|██████████| 1500/1500 [00:25<00:00, 59.76it/s]\n",
      "Epoch 22: 100%|██████████| 1500/1500 [00:24<00:00, 60.91it/s]\n",
      "Epoch 23: 100%|██████████| 1500/1500 [00:24<00:00, 60.07it/s]\n",
      "Epoch 24: 100%|██████████| 1500/1500 [00:24<00:00, 59.49it/s]\n",
      "Epoch 25: 100%|██████████| 1500/1500 [00:24<00:00, 60.40it/s]\n",
      "Epoch 26: 100%|██████████| 1500/1500 [00:24<00:00, 60.08it/s]\n",
      "Epoch 27: 100%|██████████| 1500/1500 [00:25<00:00, 59.76it/s]\n",
      "Epoch 28: 100%|██████████| 1500/1500 [00:24<00:00, 60.15it/s]\n",
      "Epoch 29: 100%|██████████| 1500/1500 [00:24<00:00, 60.23it/s]\n",
      "Epoch 30: 100%|██████████| 1500/1500 [00:24<00:00, 60.09it/s]\n",
      "Epoch 31: 100%|██████████| 1500/1500 [00:25<00:00, 59.95it/s]\n",
      "Epoch 32: 100%|██████████| 1500/1500 [00:25<00:00, 58.84it/s]\n",
      "Epoch 33: 100%|██████████| 1500/1500 [00:24<00:00, 60.02it/s]\n",
      "Epoch 34: 100%|██████████| 1500/1500 [00:24<00:00, 60.32it/s]\n",
      "Epoch 35: 100%|██████████| 1500/1500 [00:24<00:00, 60.41it/s]\n",
      "Epoch 36: 100%|██████████| 1500/1500 [00:24<00:00, 60.70it/s]\n",
      "Epoch 37: 100%|██████████| 1500/1500 [00:26<00:00, 57.32it/s]\n",
      "Epoch 38: 100%|██████████| 1500/1500 [00:26<00:00, 56.61it/s]\n",
      "Epoch 39: 100%|██████████| 1500/1500 [00:26<00:00, 55.87it/s]\n",
      "Epoch 40: 100%|██████████| 1500/1500 [00:26<00:00, 55.77it/s]\n",
      "Epoch 41: 100%|██████████| 1500/1500 [00:26<00:00, 56.86it/s]\n",
      "Epoch 42: 100%|██████████| 1500/1500 [00:25<00:00, 57.99it/s]\n",
      "Epoch 43: 100%|██████████| 1500/1500 [00:26<00:00, 55.60it/s]\n",
      "Epoch 44: 100%|██████████| 1500/1500 [00:26<00:00, 55.89it/s]\n",
      "Epoch 45: 100%|██████████| 1500/1500 [00:26<00:00, 55.81it/s]\n",
      "Epoch 46: 100%|██████████| 1500/1500 [00:26<00:00, 55.62it/s]\n",
      "Epoch 47: 100%|██████████| 1500/1500 [00:26<00:00, 56.74it/s]\n",
      "Epoch 48: 100%|██████████| 1500/1500 [00:26<00:00, 57.44it/s]\n",
      "Epoch 49: 100%|██████████| 1500/1500 [00:27<00:00, 54.29it/s]\n",
      "Epoch 50: 100%|██████████| 1500/1500 [00:27<00:00, 55.53it/s]\n"
     ]
    }
   ],
   "source": [
    "alpha = 0.1  # using higher learning rate for this and keras model\n",
    "\n",
    "np_neural_net = NeuralNetwork(learning_rate = alpha)\n",
    "np_neural_net.addlayer(Dense(Xtrain.shape[1], 380, activation_func = \"relu\", learning_rate = alpha)) # dim is 784x380\n",
    "np_neural_net.addlayer(Dense(380, 380, activation_func = \"relu\", learning_rate = alpha)) # dim is 380x380\n",
    "np_neural_net.addlayer(Dense(380, 380, activation_func = \"relu\", learning_rate = alpha)) # dim is 380x380\n",
    "\n",
    "np_neural_net.fit(Xtrain, ytrain, batchsize = 32, shuffle = False, epochs = 50, validation_data = (Xval, yval))"
   ]
  },
  {
   "cell_type": "markdown",
   "metadata": {},
   "source": [
    "<a id = \"np_val_eval\">\n",
    "    \n",
    "### Numpy Model Evaluation on Validation Data \n",
    "    \n",
    "</a>\n",
    "\n",
    "With the model trained, I will now look into it's performance.\n",
    "\n",
    "For starters, I will be plotting both the training and validation loss functions."
   ]
  },
  {
   "cell_type": "code",
   "execution_count": 88,
   "metadata": {},
   "outputs": [
    {
     "data": {
      "image/png": "[encoded data removed]",
      "text/plain": [
       "<Figure size 432x288 with 1 Axes>"
      ]
     },
     "metadata": {
      "needs_background": "light"
     },
     "output_type": "display_data"
    }
   ],
   "source": [
    "np_neural_net.plotCost(plotvalloss = True)"
   ]
  },
  {
   "cell_type": "markdown",
   "metadata": {},
   "source": [
    "Looking at the plot above, I can see that the training loss decreases over the number of iterations which is good. The validation loss also decreases over the number iterations, but begins to flatten out at ~ .50 and then starts to increase again. This plot looks good to me, I will now look at a similar plot but for accuracy rates."
   ]
  },
  {
   "cell_type": "code",
   "execution_count": 160,
   "metadata": {},
   "outputs": [
    {
     "data": {
      "image/png": "[encoded data removed]",
      "text/plain": [
       "<Figure size 432x288 with 1 Axes>"
      ]
     },
     "metadata": {
      "needs_background": "light"
     },
     "output_type": "display_data"
    }
   ],
   "source": [
    "plt.plot(np_neural_net.training_acc, 'r', label = \"Training Accuracy\")\n",
    "plt.plot(np_neural_net.val_acc, 'b', label = \"Validation Accuracy\")\n",
    "plt.legend()\n",
    "plt.xlabel('Number of Epochs')\n",
    "plt.ylabel('Accuracy')\n",
    "plt.show()"
   ]
  },
  {
   "cell_type": "markdown",
   "metadata": {},
   "source": [
    "Looking at the plot above, the training and validationm accuracy share extremely similar patterns. Howevber, the validation accuracy is a small amount lower, which is good as this indicates there is not overfitting occuring. It also shows that this model is more variable, which is better for predicting on unseen data. Once again, this plot indicates that this model is good.\n",
    "\n",
    "I will now move onto performance metrics for the validation data."
   ]
  },
  {
   "cell_type": "code",
   "execution_count": 161,
   "metadata": {},
   "outputs": [
    {
     "data": {
      "text/plain": [
       "0.8794166666666666"
      ]
     },
     "execution_count": 161,
     "metadata": {},
     "output_type": "execute_result"
    }
   ],
   "source": [
    "np_nn_val_predictions = np_neural_net.predict(Xval)\n",
    "np_nn_val_accuracy = np_neural_net.accuracy(np_nn_val_predictions, yval)\n",
    "np_nn_val_conf_mtx = confusion_matrix(yval, np_nn_val_predictions)\n",
    "\n",
    "np_nn_val_accuracy"
   ]
  },
  {
   "cell_type": "markdown",
   "metadata": {},
   "source": [
    "The accuracy of this neural network on the validation data is .879. This is good for unseen data, but not the best of the best. It can definitely use improvement, potentially by more hidden layers / neurons per hidden layer. It could also just be a case of needing more data.\n",
    "\n",
    "I will now take a look at the confusion matrix."
   ]
  },
  {
   "cell_type": "code",
   "execution_count": 23,
   "metadata": {},
   "outputs": [
    {
     "ename": "NameError",
     "evalue": "name 'np_nn_val_conf_mtx' is not defined",
     "output_type": "error",
     "traceback": [
      "\u001b[1;31m---------------------------------------------------------------------------\u001b[0m",
      "\u001b[1;31mNameError\u001b[0m                                 Traceback (most recent call last)",
      "\u001b[1;32m<ipython-input-23-cbbebe21c322>\u001b[0m in \u001b[0;36m<module>\u001b[1;34m\u001b[0m\n\u001b[0;32m      1\u001b[0m \u001b[0mlabels\u001b[0m \u001b[1;33m=\u001b[0m \u001b[1;33m[\u001b[0m\u001b[1;34m\"T-Shirt\"\u001b[0m\u001b[1;33m,\u001b[0m \u001b[1;34m\"Trouser\"\u001b[0m\u001b[1;33m,\u001b[0m \u001b[1;34m\"Pullover\"\u001b[0m\u001b[1;33m,\u001b[0m \u001b[1;34m\"Dress\"\u001b[0m\u001b[1;33m,\u001b[0m \u001b[1;34m\"Coat\"\u001b[0m\u001b[1;33m,\u001b[0m \u001b[1;34m\"Sandal\"\u001b[0m\u001b[1;33m,\u001b[0m \u001b[1;34m\"Shirt\"\u001b[0m\u001b[1;33m,\u001b[0m \u001b[1;34m\"Sneaker\"\u001b[0m\u001b[1;33m,\u001b[0m \u001b[1;34m\"Bag\"\u001b[0m\u001b[1;33m,\u001b[0m \u001b[1;34m\"Ankle Boot\"\u001b[0m\u001b[1;33m]\u001b[0m\u001b[1;33m\u001b[0m\u001b[1;33m\u001b[0m\u001b[0m\n\u001b[0;32m      2\u001b[0m \u001b[1;33m\u001b[0m\u001b[0m\n\u001b[1;32m----> 3\u001b[1;33m np_nn_val_conf_mtx_df = pd.DataFrame(data = np_nn_val_conf_mtx,\n\u001b[0m\u001b[0;32m      4\u001b[0m                                     index = labels, columns = labels)\n\u001b[0;32m      5\u001b[0m \u001b[1;33m\u001b[0m\u001b[0m\n",
      "\u001b[1;31mNameError\u001b[0m: name 'np_nn_val_conf_mtx' is not defined"
     ]
    }
   ],
   "source": [
    "labels = [\"T-Shirt\", \"Trouser\", \"Pullover\", \"Dress\", \"Coat\", \"Sandal\", \"Shirt\", \"Sneaker\", \"Bag\", \"Ankle Boot\"]\n",
    "\n",
    "np_nn_val_conf_mtx_df = pd.DataFrame(data = np_nn_val_conf_mtx,\n",
    "                                    index = labels, columns = labels)\n",
    "\n",
    "plt.figure(figsize = (20, 10))\n",
    "sns.heatmap(np_nn_val_conf_mtx_df, annot = True, fmt = 'g')\n",
    "plt.xlabel(\"Predicted\")\n",
    "plt.ylabel(\"Actual\")\n",
    "plt.title(\"Confusion Matrix of Validation Predictions - Numpy Neural Network\")\n",
    "plt.show()"
   ]
  },
  {
   "cell_type": "markdown",
   "metadata": {},
   "source": [
    "Looking at the confusion matrix above, there is actually a large amount of data that is correctly predicted, with almost every class having over 1000 correct predictions. However, it is obvious where this neural network fails in predictions.\n",
    "\n",
    "It is having a lot of trouble predicting a shirt, for example. It incorrectly classifies 138 'coat' observations as a 'pullover'. This is understandable as these clothing articles have a lot of pixels in common due to their high similarities. Another common misprediction is classifying a t-shirt as a shirt. This model incorrectly classifies a true shirt as a t-shirt 222 times. This is due to a shirt being defined a long sleeve t-shirt, which makes almost all of their pixels very similar. Lastly, 68 observations are incorrectly predicted to be an ankle boot when it is actually a sneaker. Once again, similar clothing items so pixels are very similar.\n",
    "\n",
    "Overall, this model performs good. It does not perform outstanding, just good and definitely has a good amount of room for improvement. With room for improvement in mind, it is time to move onto creating the same model but with the Keras package. Keras allows us to implement deep learning model with highly optimized code and algorithms.\n",
    "\n",
    "<a id = 'keras_nn'>\n",
    "\n",
    "## Keras Neural Network\n",
    "\n",
    "</a>\n",
    "\n",
    "For starters, I will be recreating the same artificial neural network model as above. I will then create a convolutional neural network model based on LeNet-5.\n",
    "\n",
    "<a id = \"keras_ann_model\">\n",
    "\n",
    "### Keras ANN Modeling\n",
    "\n",
    "</a>"
   ]
  },
  {
   "cell_type": "code",
   "execution_count": 152,
   "metadata": {},
   "outputs": [],
   "source": [
    "keras_neural_net = keras.Sequential([\n",
    "    \n",
    "    keras.layers.Dense(380, input_shape = (Xtrain.shape[1], ),\n",
    "            activation = \"relu\", kernel_initializer = 'he_normal', bias_initializer = 'Zeros'),\n",
    "    keras.layers.Dense(380, activation = \"relu\",\n",
    "                      kernel_initializer = 'he_normal', bias_initializer = 'Zeros'),\n",
    "    keras.layers.Dense(380, activation = \"relu\",\n",
    "                      kernel_initializer = 'he_normal', bias_initializer = 'Zeros'),\n",
    "    keras.layers.Dense(10, activation = 'softmax')\n",
    "]) # same architecture\n",
    "\n",
    "sgd = keras.optimizers.SGD(lr = .1) # defines learning rate to be alpha\n",
    "keras_neural_net.compile(loss = 'sparse_categorical_crossentropy',# lets me use vector of class 0-9 rather than matrix of dummy\n",
    "                        optimizer = sgd,\n",
    "                        metrics = ['accuracy'])"
   ]
  },
  {
   "cell_type": "markdown",
   "metadata": {},
   "source": [
    "The model is now created and ready for training. Before, however, I want to quickly look at the architecture of the model. This will give insight on both the architecture of the Keras model and the custom model."
   ]
  },
  {
   "cell_type": "code",
   "execution_count": 153,
   "metadata": {},
   "outputs": [
    {
     "name": "stdout",
     "output_type": "stream",
     "text": [
      "Model: \"sequential_4\"\n",
      "_________________________________________________________________\n",
      "Layer (type)                 Output Shape              Param #   \n",
      "=================================================================\n",
      "dense_16 (Dense)             (None, 380)               298300    \n",
      "_________________________________________________________________\n",
      "dense_17 (Dense)             (None, 380)               144780    \n",
      "_________________________________________________________________\n",
      "dense_18 (Dense)             (None, 380)               144780    \n",
      "_________________________________________________________________\n",
      "dense_19 (Dense)             (None, 10)                3810      \n",
      "=================================================================\n",
      "Total params: 591,670\n",
      "Trainable params: 591,670\n",
      "Non-trainable params: 0\n",
      "_________________________________________________________________\n"
     ]
    }
   ],
   "source": [
    "keras_neural_net.summary()"
   ]
  },
  {
   "cell_type": "markdown",
   "metadata": {},
   "source": [
    "Looking at the summary table above, there are 591,670 trainable parameters for this neural network. Each layer has a weight matrix, and each layer uses the ReLU activation function. \n",
    "\n",
    "I will now train the model."
   ]
  },
  {
   "cell_type": "code",
   "execution_count": 159,
   "metadata": {},
   "outputs": [
    {
     "name": "stdout",
     "output_type": "stream",
     "text": [
      "Train on 48000 samples, validate on 12000 samples\n",
      "Epoch 1/50\n",
      "48000/48000 - 6s - loss: 0.1021 - accuracy: 0.9618 - val_loss: 0.6472 - val_accuracy: 0.8615\n",
      "Epoch 2/50\n",
      "48000/48000 - 6s - loss: 0.0925 - accuracy: 0.9655 - val_loss: 0.6555 - val_accuracy: 0.8608\n",
      "Epoch 3/50\n",
      "48000/48000 - 6s - loss: 0.0986 - accuracy: 0.9640 - val_loss: 0.6051 - val_accuracy: 0.8671\n",
      "Epoch 4/50\n",
      "48000/48000 - 6s - loss: 0.0934 - accuracy: 0.9648 - val_loss: 0.5898 - val_accuracy: 0.8666\n",
      "Epoch 5/50\n",
      "48000/48000 - 6s - loss: 0.0898 - accuracy: 0.9658 - val_loss: 0.5943 - val_accuracy: 0.8700\n",
      "Epoch 6/50\n",
      "48000/48000 - 6s - loss: 0.0865 - accuracy: 0.9673 - val_loss: 0.6655 - val_accuracy: 0.8584\n",
      "Epoch 7/50\n",
      "48000/48000 - 6s - loss: 0.0857 - accuracy: 0.9681 - val_loss: 0.6018 - val_accuracy: 0.8655\n",
      "Epoch 8/50\n",
      "48000/48000 - 7s - loss: 0.0835 - accuracy: 0.9686 - val_loss: 0.6520 - val_accuracy: 0.8596\n",
      "Epoch 9/50\n",
      "48000/48000 - 6s - loss: 0.0835 - accuracy: 0.9688 - val_loss: 0.6242 - val_accuracy: 0.8744\n",
      "Epoch 10/50\n",
      "48000/48000 - 6s - loss: 0.0748 - accuracy: 0.9727 - val_loss: 0.7323 - val_accuracy: 0.8627\n",
      "Epoch 11/50\n",
      "48000/48000 - 7s - loss: 0.0892 - accuracy: 0.9669 - val_loss: 0.6668 - val_accuracy: 0.8591\n",
      "Epoch 12/50\n",
      "48000/48000 - 6s - loss: 0.0735 - accuracy: 0.9726 - val_loss: 0.6178 - val_accuracy: 0.8793\n",
      "Epoch 13/50\n",
      "48000/48000 - 6s - loss: 0.0730 - accuracy: 0.9723 - val_loss: 0.6512 - val_accuracy: 0.8712\n",
      "Epoch 14/50\n",
      "48000/48000 - 6s - loss: 0.0688 - accuracy: 0.9745 - val_loss: 0.7267 - val_accuracy: 0.8619\n",
      "Epoch 15/50\n",
      "48000/48000 - 6s - loss: 0.0713 - accuracy: 0.9734 - val_loss: 0.6755 - val_accuracy: 0.8717\n",
      "Epoch 16/50\n",
      "48000/48000 - 6s - loss: 0.0632 - accuracy: 0.9773 - val_loss: 0.6503 - val_accuracy: 0.8773\n",
      "Epoch 17/50\n",
      "48000/48000 - 6s - loss: 0.0604 - accuracy: 0.9780 - val_loss: 0.6952 - val_accuracy: 0.8762\n",
      "Epoch 18/50\n",
      "48000/48000 - 6s - loss: 0.0648 - accuracy: 0.9760 - val_loss: 0.6915 - val_accuracy: 0.8748\n",
      "Epoch 19/50\n",
      "48000/48000 - 6s - loss: 0.0634 - accuracy: 0.9770 - val_loss: 0.6981 - val_accuracy: 0.8737\n",
      "Epoch 20/50\n",
      "48000/48000 - 7s - loss: 0.0644 - accuracy: 0.9769 - val_loss: 0.7938 - val_accuracy: 0.8648\n",
      "Epoch 21/50\n",
      "48000/48000 - 6s - loss: 0.0689 - accuracy: 0.9753 - val_loss: 0.6773 - val_accuracy: 0.8759\n",
      "Epoch 22/50\n",
      "48000/48000 - 5s - loss: 0.0617 - accuracy: 0.9785 - val_loss: 0.8007 - val_accuracy: 0.8554\n",
      "Epoch 23/50\n",
      "48000/48000 - 5s - loss: 0.0581 - accuracy: 0.9796 - val_loss: 0.7314 - val_accuracy: 0.8788\n",
      "Epoch 24/50\n",
      "48000/48000 - 5s - loss: 0.0570 - accuracy: 0.9793 - val_loss: 0.9057 - val_accuracy: 0.8585\n",
      "Epoch 25/50\n",
      "48000/48000 - 5s - loss: 0.0536 - accuracy: 0.9803 - val_loss: 0.7716 - val_accuracy: 0.8721\n",
      "Epoch 26/50\n",
      "48000/48000 - 5s - loss: 0.0560 - accuracy: 0.9799 - val_loss: 0.7646 - val_accuracy: 0.8719\n",
      "Epoch 27/50\n",
      "48000/48000 - 5s - loss: 0.0535 - accuracy: 0.9803 - val_loss: 0.7457 - val_accuracy: 0.8693\n",
      "Epoch 28/50\n",
      "48000/48000 - 5s - loss: 0.0503 - accuracy: 0.9817 - val_loss: 0.6999 - val_accuracy: 0.8784\n",
      "Epoch 29/50\n",
      "48000/48000 - 5s - loss: 0.0527 - accuracy: 0.9813 - val_loss: 0.7171 - val_accuracy: 0.8733\n",
      "Epoch 30/50\n",
      "48000/48000 - 5s - loss: 0.0550 - accuracy: 0.9811 - val_loss: 0.8262 - val_accuracy: 0.8651\n",
      "Epoch 31/50\n",
      "48000/48000 - 6s - loss: 0.0469 - accuracy: 0.9833 - val_loss: 0.8059 - val_accuracy: 0.8737\n",
      "Epoch 32/50\n",
      "48000/48000 - 5s - loss: 0.0420 - accuracy: 0.9855 - val_loss: 0.7736 - val_accuracy: 0.8756\n",
      "Epoch 33/50\n",
      "48000/48000 - 5s - loss: 0.0437 - accuracy: 0.9846 - val_loss: 0.7823 - val_accuracy: 0.8787\n",
      "Epoch 34/50\n",
      "48000/48000 - 5s - loss: 0.0432 - accuracy: 0.9850 - val_loss: 0.7327 - val_accuracy: 0.8788\n",
      "Epoch 35/50\n",
      "48000/48000 - 5s - loss: 0.0452 - accuracy: 0.9837 - val_loss: 0.7488 - val_accuracy: 0.8798\n",
      "Epoch 36/50\n",
      "48000/48000 - 5s - loss: 0.0405 - accuracy: 0.9858 - val_loss: 0.8136 - val_accuracy: 0.8773\n",
      "Epoch 37/50\n",
      "48000/48000 - 5s - loss: 0.0415 - accuracy: 0.9850 - val_loss: 0.8248 - val_accuracy: 0.8705\n",
      "Epoch 38/50\n",
      "48000/48000 - 6s - loss: 0.0420 - accuracy: 0.9849 - val_loss: 0.8580 - val_accuracy: 0.8808\n",
      "Epoch 39/50\n",
      "48000/48000 - 6s - loss: 0.0437 - accuracy: 0.9849 - val_loss: 0.8079 - val_accuracy: 0.8817\n",
      "Epoch 40/50\n",
      "48000/48000 - 6s - loss: 0.0491 - accuracy: 0.9829 - val_loss: 0.8111 - val_accuracy: 0.8712\n",
      "Epoch 41/50\n",
      "48000/48000 - 7s - loss: 0.0384 - accuracy: 0.9868 - val_loss: 0.8842 - val_accuracy: 0.8639\n",
      "Epoch 42/50\n",
      "48000/48000 - 6s - loss: 0.0401 - accuracy: 0.9863 - val_loss: 0.7648 - val_accuracy: 0.8858\n",
      "Epoch 43/50\n",
      "48000/48000 - 6s - loss: 0.0335 - accuracy: 0.9884 - val_loss: 0.7476 - val_accuracy: 0.8898\n",
      "Epoch 44/50\n",
      "48000/48000 - 5s - loss: 0.0448 - accuracy: 0.9841 - val_loss: 0.7506 - val_accuracy: 0.8815\n",
      "Epoch 45/50\n",
      "48000/48000 - 5s - loss: 0.0356 - accuracy: 0.9872 - val_loss: 0.8132 - val_accuracy: 0.8794\n",
      "Epoch 46/50\n",
      "48000/48000 - 6s - loss: 0.0284 - accuracy: 0.9896 - val_loss: 0.8443 - val_accuracy: 0.8817\n",
      "Epoch 47/50\n",
      "48000/48000 - 5s - loss: 0.0338 - accuracy: 0.9880 - val_loss: 0.8131 - val_accuracy: 0.8795\n",
      "Epoch 48/50\n",
      "48000/48000 - 5s - loss: 0.0342 - accuracy: 0.9886 - val_loss: 0.8518 - val_accuracy: 0.8802\n",
      "Epoch 49/50\n",
      "48000/48000 - 5s - loss: 0.0332 - accuracy: 0.9886 - val_loss: 0.8258 - val_accuracy: 0.8792\n",
      "Epoch 50/50\n",
      "48000/48000 - 5s - loss: 0.0385 - accuracy: 0.9872 - val_loss: 0.8440 - val_accuracy: 0.8777\n"
     ]
    }
   ],
   "source": [
    "keras_neural_net_history = keras_neural_net.fit(Xtrain, ytrain, batch_size = 32, epochs = 50, verbose = 2,\n",
    "                     validation_data = (Xval, yval), shuffle = False) # mostly same setup as numpy nn"
   ]
  },
  {
   "cell_type": "markdown",
   "metadata": {},
   "source": [
    "<a id = \"keras_ann_eval\">\n",
    "    \n",
    "### Keras Model Evaluation on Validation Data \n",
    "    \n",
    "</a>\n",
    "\n",
    "With the model trained, similar to the implemented Neural Network with Numpy, I will now look into it's performance.\n",
    "\n",
    "For starters, I will be plotting both the training and validation loss functions."
   ]
  },
  {
   "cell_type": "code",
   "execution_count": 163,
   "metadata": {},
   "outputs": [
    {
     "data": {
      "image/png": "[encoded data removed]",
      "text/plain": [
       "<Figure size 432x288 with 1 Axes>"
      ]
     },
     "metadata": {
      "needs_background": "light"
     },
     "output_type": "display_data"
    }
   ],
   "source": [
    "plt.plot(keras_neural_net_history.history['loss'], 'r', label = 'Training Loss')\n",
    "plt.plot(keras_neural_net_history.history['val_loss'], 'b', label = 'Validation Loss')\n",
    "plt.legend()\n",
    "plt.xlabel('Number of Epochs')\n",
    "plt.ylabel(\"Loss\")\n",
    "plt.show()"
   ]
  },
  {
   "cell_type": "markdown",
   "metadata": {},
   "source": [
    "Looking at the plot above, we have a decreasing cost function for the training set which is great. For the validation set, it starts to decrease and flatten but then starts to increase. This is good as it shows signs of a model that is not overfit.\n",
    "\n",
    "Overall, the loss function plot looks good. I will now look at the accuracy plot for the validation and training set."
   ]
  },
  {
   "cell_type": "code",
   "execution_count": 165,
   "metadata": {},
   "outputs": [
    {
     "data": {
      "image/png": "[encoded data removed]",
      "text/plain": [
       "<Figure size 432x288 with 1 Axes>"
      ]
     },
     "metadata": {
      "needs_background": "light"
     },
     "output_type": "display_data"
    }
   ],
   "source": [
    "plt.plot(keras_neural_net_history.history['accuracy'], 'r', label = 'Training Accuracy')\n",
    "plt.plot(keras_neural_net_history.history['val_accuracy'], 'b', label = 'Validation Accuracy')\n",
    "plt.legend()\n",
    "plt.xlabel('Number of Epochs')\n",
    "plt.ylabel(\"Accuracy\")\n",
    "plt.show()"
   ]
  },
  {
   "cell_type": "markdown",
   "metadata": {},
   "source": [
    "Looking at the plot above, the Keras ANN achieves upwards of a 98% accuracy rate for the training dataset whereas the Numpy implementation only achieved ~ 95% accuracy on the training set. The validation set accuracy rate is ~ 10% lower than the training set, which is expected and good as it shows the model is not overfitting. Comparing the validation accuracy rate to the Numpy implementation, they are very similar.\n",
    "\n",
    "With the performance plots aside, I will now look at performance metrics on the validation data for this model."
   ]
  },
  {
   "cell_type": "code",
   "execution_count": 167,
   "metadata": {},
   "outputs": [
    {
     "data": {
      "text/plain": [
       "0.8776666666666667"
      ]
     },
     "execution_count": 167,
     "metadata": {},
     "output_type": "execute_result"
    }
   ],
   "source": [
    "keras_nn_val_predictions = keras_neural_net.predict_classes(Xval)\n",
    "keras_nn_val_accuracy = accuracy_score(yval, keras_nn_val_predictions)\n",
    "keras_nn_val_conf_mtx = confusion_matrix(yval, keras_nn_val_predictions)\n",
    "\n",
    "keras_nn_val_accuracy"
   ]
  },
  {
   "cell_type": "markdown",
   "metadata": {},
   "source": [
    "The accuracy rate of the Keras model is .878, which is actually ~.001 lower than the accuracy rate on the validation set from the Numpy implementation. This shows that the custom implementation can perform on-par, and in this case slightly better, than the Keras implementation. \n",
    "\n",
    "Overall,  this accuracy rate is good for the validation set. It is not great, however. I will now look at the confusion matrix for this model."
   ]
  },
  {
   "cell_type": "code",
   "execution_count": 169,
   "metadata": {},
   "outputs": [
    {
     "data": {
      "image/png": "[encoded data removed]",
      "text/plain": [
       "<Figure size 1440x720 with 2 Axes>"
      ]
     },
     "metadata": {
      "needs_background": "light"
     },
     "output_type": "display_data"
    }
   ],
   "source": [
    "keras_nn_val_conf_mtx_df = pd.DataFrame(data = keras_nn_val_conf_mtx,\n",
    "                                    index = labels, columns = labels)\n",
    "\n",
    "plt.figure(figsize = (20, 10))\n",
    "sns.heatmap(keras_nn_val_conf_mtx_df, annot = True, fmt = 'g')\n",
    "plt.xlabel(\"Predicted\")\n",
    "plt.ylabel(\"Actual\")\n",
    "plt.title(\"Confusion Matrix of Validation Predictions - Keras ANN\")\n",
    "plt.show()"
   ]
  },
  {
   "cell_type": "markdown",
   "metadata": {},
   "source": [
    "Looking at the confusion matrix above, it is obvious right away that this Keras model has the exact same downfalls as the Numpy Neural Network implementation. \n",
    "\n",
    "The model is misclassifying similar clothing items, such as a t-shirt mixed with a shirt, and an ankle boot mixed with a sneaker.\n",
    "\n",
    "Ultimately, however, the model is predicting the correct class a great amount of the time. This model proves to be useful for classifying images of clothing items, but definitely has room for improvement.\n",
    "\n",
    "I will now be moving onto a Keras implementation of a model based on LeNet-5, altered for use of 28x28px images given in this dataset."
   ]
  },
  {
   "cell_type": "markdown",
   "metadata": {},
   "source": [
    "<a id = \"keras_cnn_model\">\n",
    "\n",
    "### Keras CNN Modeling\n",
    "\n",
    "</a>\n",
    "\n",
    "For starters, here is a visual representation of the LeNet-5 original model.\n",
    "\n",
    "![](images/lenet.png)\n",
    "\n",
    "This model has five convolutional layers and two fully connected layers (I will be increasing this to three, for two hidden layers and one output layer). For pooling, this model utilizes average pooling layers. However, that is no longer as common in CNN structures so instead I will be using max pooling layers. The output activation function will be softmax, with all other activation functions being ReLU rather than the models used tanh/sigmoid activation functions. I will also be increasing the number of neurons in the fully connected layers to be 380, as used above for given reasons.\n",
    "\n",
    "Here is a summary of the models architecture, but as stated above I will be changing some layers and activation functions.\n",
    "\n",
    "![](images/LeNEt_Summary_Table.jpg)\n",
    "\n",
    "I will now construct the model."
   ]
  },
  {
   "cell_type": "code",
   "execution_count": 14,
   "metadata": {},
   "outputs": [
    {
     "name": "stdout",
     "output_type": "stream",
     "text": [
      "Model: \"sequential_1\"\n",
      "_________________________________________________________________\n",
      "Layer (type)                 Output Shape              Param #   \n",
      "=================================================================\n",
      "conv2d_3 (Conv2D)            (None, 28, 28, 6)         156       \n",
      "_________________________________________________________________\n",
      "max_pooling2d_2 (MaxPooling2 (None, 14, 14, 6)         0         \n",
      "_________________________________________________________________\n",
      "conv2d_4 (Conv2D)            (None, 10, 10, 16)        2416      \n",
      "_________________________________________________________________\n",
      "max_pooling2d_3 (MaxPooling2 (None, 5, 5, 16)          0         \n",
      "_________________________________________________________________\n",
      "conv2d_5 (Conv2D)            (None, 1, 1, 120)         48120     \n",
      "_________________________________________________________________\n",
      "flatten_1 (Flatten)          (None, 120)               0         \n",
      "_________________________________________________________________\n",
      "dense_3 (Dense)              (None, 380)               45980     \n",
      "_________________________________________________________________\n",
      "dropout_2 (Dropout)          (None, 380)               0         \n",
      "_________________________________________________________________\n",
      "dense_4 (Dense)              (None, 380)               144780    \n",
      "_________________________________________________________________\n",
      "dropout_3 (Dropout)          (None, 380)               0         \n",
      "_________________________________________________________________\n",
      "dense_5 (Dense)              (None, 10)                3810      \n",
      "=================================================================\n",
      "Total params: 245,262\n",
      "Trainable params: 245,262\n",
      "Non-trainable params: 0\n",
      "_________________________________________________________________\n"
     ]
    }
   ],
   "source": [
    "keras_cnn = keras.Sequential([\n",
    "    \n",
    "    keras.layers.Conv2D(filters = 6, input_shape = (28, 28, 1),\n",
    "                        kernel_size = 5, strides = (1, 1), padding = 'same', activation = \"relu\"),\n",
    "    #1st conv\n",
    "    keras.layers.MaxPooling2D(pool_size = (2, 2), strides = (2, 2), padding = 'valid'),\n",
    "    #1st pool\n",
    "    keras.layers.Conv2D(filters = 16, kernel_size = (5, 5), strides = (1, 1), padding = 'valid', activation = 'relu'),\n",
    "    #2nd conv\n",
    "    keras.layers.MaxPooling2D(pool_size = (2, 2), strides = (2, 2), padding = 'valid'),\n",
    "    #2nd pool\n",
    "    keras.layers.Conv2D(filters = 120, kernel_size = (5, 5), strides = (1, 1), padding = 'valid', activation = 'relu'),\n",
    "    #3rd conv\n",
    "\n",
    "    #end convolutional/pooling layers\n",
    "    keras.layers.Flatten(),\n",
    "    #flatten for fully connected layers\n",
    "    keras.layers.Dense(380, input_shape = (28*28*1,), activation = 'relu'),\n",
    "    #1st fc layer\n",
    "    keras.layers.Dropout(0.5), #prevent overfitting\n",
    "    keras.layers.Dense(380, activation = 'relu'), #2nd fc layer\n",
    "    keras.layers.Dropout(0.5), #prevent overfitting\n",
    "    keras.layers.Dense(10, activation = 'softmax') #output layer    \n",
    "])\n",
    "keras_cnn.summary()"
   ]
  },
  {
   "cell_type": "markdown",
   "metadata": {},
   "source": [
    "For this model, there are 245,262 trainable parameters which is a little over 300,000 less than the artificial neural networks above. However, my belief is that with this architecture and utilizing convolutions/pooling I will obtain a higher accuracy on the validation data, making this the best model.\n",
    "\n",
    "I will verify this by training and evaluating the model the same as above. I will now fit the model (using smaller learning rate than above - 0.01 vs 0.1)."
   ]
  },
  {
   "cell_type": "code",
   "execution_count": 15,
   "metadata": {},
   "outputs": [
    {
     "name": "stdout",
     "output_type": "stream",
     "text": [
      "Train on 48000 samples, validate on 12000 samples\n",
      "Epoch 1/50\n",
      "48000/48000 - 8s - loss: 1.4177 - accuracy: 0.4785 - val_loss: 0.8108 - val_accuracy: 0.6982\n",
      "Epoch 2/50\n",
      "48000/48000 - 6s - loss: 0.6999 - accuracy: 0.7355 - val_loss: 0.6199 - val_accuracy: 0.7586\n",
      "Epoch 3/50\n",
      "48000/48000 - 6s - loss: 0.5861 - accuracy: 0.7804 - val_loss: 0.5399 - val_accuracy: 0.7931\n",
      "Epoch 4/50\n",
      "48000/48000 - 6s - loss: 0.5312 - accuracy: 0.8047 - val_loss: 0.5312 - val_accuracy: 0.8006\n",
      "Epoch 5/50\n",
      "48000/48000 - 6s - loss: 0.4960 - accuracy: 0.8192 - val_loss: 0.5099 - val_accuracy: 0.8073\n",
      "Epoch 6/50\n",
      "48000/48000 - 6s - loss: 0.4621 - accuracy: 0.8339 - val_loss: 0.4839 - val_accuracy: 0.8226\n",
      "Epoch 7/50\n",
      "48000/48000 - 6s - loss: 0.4395 - accuracy: 0.8434 - val_loss: 0.4864 - val_accuracy: 0.8262\n",
      "Epoch 8/50\n",
      "48000/48000 - 6s - loss: 0.4128 - accuracy: 0.8527 - val_loss: 0.4515 - val_accuracy: 0.8386\n",
      "Epoch 9/50\n",
      "48000/48000 - 6s - loss: 0.3952 - accuracy: 0.8588 - val_loss: 0.4454 - val_accuracy: 0.8429\n",
      "Epoch 10/50\n",
      "48000/48000 - 6s - loss: 0.3855 - accuracy: 0.8621 - val_loss: 0.4462 - val_accuracy: 0.8417\n",
      "Epoch 11/50\n",
      "48000/48000 - 7s - loss: 0.3686 - accuracy: 0.8675 - val_loss: 0.4168 - val_accuracy: 0.8539\n",
      "Epoch 12/50\n",
      "48000/48000 - 7s - loss: 0.3579 - accuracy: 0.8720 - val_loss: 0.4515 - val_accuracy: 0.8435\n",
      "Epoch 13/50\n",
      "48000/48000 - 7s - loss: 0.3472 - accuracy: 0.8744 - val_loss: 0.4231 - val_accuracy: 0.8519\n",
      "Epoch 14/50\n",
      "48000/48000 - 7s - loss: 0.3403 - accuracy: 0.8773 - val_loss: 0.4204 - val_accuracy: 0.8544\n",
      "Epoch 15/50\n",
      "48000/48000 - 6s - loss: 0.3302 - accuracy: 0.8819 - val_loss: 0.4073 - val_accuracy: 0.8590\n",
      "Epoch 16/50\n",
      "48000/48000 - 6s - loss: 0.3249 - accuracy: 0.8828 - val_loss: 0.3800 - val_accuracy: 0.8651\n",
      "Epoch 17/50\n",
      "48000/48000 - 6s - loss: 0.3134 - accuracy: 0.8872 - val_loss: 0.3813 - val_accuracy: 0.8664\n",
      "Epoch 18/50\n",
      "48000/48000 - 6s - loss: 0.3107 - accuracy: 0.8884 - val_loss: 0.3851 - val_accuracy: 0.8656\n",
      "Epoch 19/50\n",
      "48000/48000 - 6s - loss: 0.3070 - accuracy: 0.8890 - val_loss: 0.3861 - val_accuracy: 0.8637\n",
      "Epoch 20/50\n",
      "48000/48000 - 6s - loss: 0.2962 - accuracy: 0.8922 - val_loss: 0.3857 - val_accuracy: 0.8674\n",
      "Epoch 21/50\n",
      "48000/48000 - 6s - loss: 0.2942 - accuracy: 0.8944 - val_loss: 0.3757 - val_accuracy: 0.8706\n",
      "Epoch 22/50\n",
      "48000/48000 - 6s - loss: 0.2884 - accuracy: 0.8956 - val_loss: 0.3673 - val_accuracy: 0.8713\n",
      "Epoch 23/50\n",
      "48000/48000 - 6s - loss: 0.2823 - accuracy: 0.8987 - val_loss: 0.3623 - val_accuracy: 0.8737\n",
      "Epoch 24/50\n",
      "48000/48000 - 6s - loss: 0.2774 - accuracy: 0.9001 - val_loss: 0.3518 - val_accuracy: 0.8774\n",
      "Epoch 25/50\n",
      "48000/48000 - 6s - loss: 0.2727 - accuracy: 0.8998 - val_loss: 0.3600 - val_accuracy: 0.8758\n",
      "Epoch 26/50\n",
      "48000/48000 - 6s - loss: 0.2696 - accuracy: 0.9015 - val_loss: 0.3804 - val_accuracy: 0.8687\n",
      "Epoch 27/50\n",
      "48000/48000 - 6s - loss: 0.2632 - accuracy: 0.9034 - val_loss: 0.3406 - val_accuracy: 0.8817\n",
      "Epoch 28/50\n",
      "48000/48000 - 6s - loss: 0.2584 - accuracy: 0.9056 - val_loss: 0.3588 - val_accuracy: 0.8795\n",
      "Epoch 29/50\n",
      "48000/48000 - 6s - loss: 0.2546 - accuracy: 0.9065 - val_loss: 0.3472 - val_accuracy: 0.8777\n",
      "Epoch 30/50\n",
      "48000/48000 - 6s - loss: 0.2521 - accuracy: 0.9069 - val_loss: 0.3559 - val_accuracy: 0.8784\n",
      "Epoch 31/50\n",
      "48000/48000 - 6s - loss: 0.2488 - accuracy: 0.9078 - val_loss: 0.3315 - val_accuracy: 0.8860\n",
      "Epoch 32/50\n",
      "48000/48000 - 6s - loss: 0.2443 - accuracy: 0.9106 - val_loss: 0.3199 - val_accuracy: 0.8879\n",
      "Epoch 33/50\n",
      "48000/48000 - 6s - loss: 0.2396 - accuracy: 0.9119 - val_loss: 0.3489 - val_accuracy: 0.8808\n",
      "Epoch 34/50\n",
      "48000/48000 - 6s - loss: 0.2349 - accuracy: 0.9125 - val_loss: 0.3442 - val_accuracy: 0.8813\n",
      "Epoch 35/50\n",
      "48000/48000 - 6s - loss: 0.2312 - accuracy: 0.9151 - val_loss: 0.3402 - val_accuracy: 0.8842\n",
      "Epoch 36/50\n",
      "48000/48000 - 6s - loss: 0.2289 - accuracy: 0.9148 - val_loss: 0.3345 - val_accuracy: 0.8873\n",
      "Epoch 37/50\n",
      "48000/48000 - 6s - loss: 0.2263 - accuracy: 0.9151 - val_loss: 0.3287 - val_accuracy: 0.8892\n",
      "Epoch 38/50\n",
      "48000/48000 - 6s - loss: 0.2212 - accuracy: 0.9187 - val_loss: 0.3369 - val_accuracy: 0.8850\n",
      "Epoch 39/50\n",
      "48000/48000 - 6s - loss: 0.2176 - accuracy: 0.9187 - val_loss: 0.3434 - val_accuracy: 0.8882\n",
      "Epoch 40/50\n",
      "48000/48000 - 7s - loss: 0.2157 - accuracy: 0.9194 - val_loss: 0.3423 - val_accuracy: 0.8877\n",
      "Epoch 41/50\n",
      "48000/48000 - 6s - loss: 0.2123 - accuracy: 0.9204 - val_loss: 0.3384 - val_accuracy: 0.8863\n",
      "Epoch 42/50\n",
      "48000/48000 - 6s - loss: 0.2073 - accuracy: 0.9227 - val_loss: 0.3325 - val_accuracy: 0.8928\n",
      "Epoch 43/50\n",
      "48000/48000 - 6s - loss: 0.2074 - accuracy: 0.9222 - val_loss: 0.3379 - val_accuracy: 0.8878\n",
      "Epoch 44/50\n",
      "48000/48000 - 6s - loss: 0.2039 - accuracy: 0.9244 - val_loss: 0.3434 - val_accuracy: 0.8882\n",
      "Epoch 45/50\n",
      "48000/48000 - 6s - loss: 0.2010 - accuracy: 0.9243 - val_loss: 0.3296 - val_accuracy: 0.8926\n",
      "Epoch 46/50\n",
      "48000/48000 - 6s - loss: 0.1990 - accuracy: 0.9258 - val_loss: 0.3313 - val_accuracy: 0.8917\n",
      "Epoch 47/50\n",
      "48000/48000 - 6s - loss: 0.1948 - accuracy: 0.9274 - val_loss: 0.3403 - val_accuracy: 0.8904\n",
      "Epoch 48/50\n",
      "48000/48000 - 6s - loss: 0.1922 - accuracy: 0.9286 - val_loss: 0.3342 - val_accuracy: 0.8911\n",
      "Epoch 49/50\n",
      "48000/48000 - 6s - loss: 0.1877 - accuracy: 0.9300 - val_loss: 0.3328 - val_accuracy: 0.8959\n",
      "Epoch 50/50\n",
      "48000/48000 - 7s - loss: 0.1863 - accuracy: 0.9301 - val_loss: 0.3335 - val_accuracy: 0.8948\n"
     ]
    }
   ],
   "source": [
    "keras_cnn.compile(loss = 'sparse_categorical_crossentropy',\n",
    "                 optimizer = 'sgd',\n",
    "                 metrics = ['accuracy'])\n",
    "Xtrain_cnn = Xtrain.reshape(Xtrain.shape[0], 28, 28, 1)\n",
    "Xval_cnn = Xval.reshape(Xval.shape[0], 28, 28, 1) #reshape to #obs x 28 x 28 x 1 4d array\n",
    "keras_cnn_history = keras_cnn.fit(Xtrain_cnn, ytrain, batch_size = 32, epochs = 50, verbose = 2,\n",
    "                     validation_data = (Xval_cnn, yval), shuffle = False) # mostly same setup as previous nns"
   ]
  },
  {
   "cell_type": "markdown",
   "metadata": {},
   "source": [
    "<a id = \"keras_cnn_eval\">\n",
    "    \n",
    "### Keras Model Evaluation on Validation Data \n",
    "    \n",
    "</a>\n",
    "\n",
    "With the convolutional neural network, based off of LeNet-5, trained, I will now look into its performance.\n",
    "\n",
    "For starters, I will be plotting both the training and validation loss functions."
   ]
  },
  {
   "cell_type": "code",
   "execution_count": 17,
   "metadata": {},
   "outputs": [
    {
     "data": {
      "image/png": "[encoded data removed]",
      "text/plain": [
       "<Figure size 432x288 with 1 Axes>"
      ]
     },
     "metadata": {
      "needs_background": "light"
     },
     "output_type": "display_data"
    }
   ],
   "source": [
    "plt.plot(keras_cnn_history.history['loss'], 'r', label = 'Training Loss')\n",
    "plt.plot(keras_cnn_history.history['val_loss'], 'b', label = 'Validation Loss')\n",
    "plt.legend()\n",
    "plt.xlabel('Number of Epochs')\n",
    "plt.ylabel(\"Loss\")\n",
    "plt.show()"
   ]
  },
  {
   "cell_type": "markdown",
   "metadata": {},
   "source": [
    "Looking at the plot above, the loss functions are much smoother convergence compared to the artificial neural networks. The validation loss function follows a similar pattern to the training loss, but not similar enough to indicate any overfitting.\n",
    "\n",
    "I will now quickly look at the accuracy plot."
   ]
  },
  {
   "cell_type": "code",
   "execution_count": 18,
   "metadata": {},
   "outputs": [
    {
     "data": {
      "image/png": "[encoded data removed]",
      "text/plain": [
       "<Figure size 432x288 with 1 Axes>"
      ]
     },
     "metadata": {
      "needs_background": "light"
     },
     "output_type": "display_data"
    }
   ],
   "source": [
    "plt.plot(keras_cnn_history.history['accuracy'], 'r', label = 'Training Loss')\n",
    "plt.plot(keras_cnn_history.history['val_accuracy'], 'b', label = 'Validation Loss')\n",
    "plt.legend()\n",
    "plt.xlabel('Number of Epochs')\n",
    "plt.ylabel(\"Loss\")\n",
    "plt.show()"
   ]
  },
  {
   "cell_type": "markdown",
   "metadata": {},
   "source": [
    "Once again, the training and validation sets follow a similar pattern - this time with accuracy. The training accuracy reaches over 90%, while the validation accuracy reaches slightly below 90%. Overall, this is similar to the results of the artificial neural networks, except that the training accuracy for this model is slightly lower.\n",
    "\n",
    "With plots aside, I am now going to be evaluating this model based on performance metrics for the validation data."
   ]
  },
  {
   "cell_type": "code",
   "execution_count": 21,
   "metadata": {},
   "outputs": [
    {
     "data": {
      "text/plain": [
       "0.8948333333333334"
      ]
     },
     "execution_count": 21,
     "metadata": {},
     "output_type": "execute_result"
    }
   ],
   "source": [
    "keras_cnn_val_predictions = keras_cnn.predict_classes(Xval_cnn)\n",
    "keras_cnn_val_accuracy = accuracy_score(yval, keras_cnn_val_predictions)\n",
    "keras_cnn_val_conf_mtx = confusion_matrix(yval, keras_cnn_val_predictions)\n",
    "\n",
    "keras_cnn_val_accuracy"
   ]
  },
  {
   "cell_type": "markdown",
   "metadata": {},
   "source": [
    "The Keras convolutional neural network has an accuracy of .895 on the validation set. This is higher than the Keras ANN and the Numpy implemented neural network, which both had an accuracy of ~ .87-.88 on the validation set. This indicates that this CNN is performing best on unseen data, and will be the most useful for classifying more unseen data (recall the held back test set).\n",
    "\n",
    "Before ultimately deciding on the best model to evaluate on the test set, I want to visit the confusion matrix for this CNN."
   ]
  },
  {
   "cell_type": "code",
   "execution_count": 25,
   "metadata": {},
   "outputs": [
    {
     "data": {
      "image/png": "[encoded data removed]",
      "text/plain": [
       "<Figure size 1440x720 with 2 Axes>"
      ]
     },
     "metadata": {
      "needs_background": "light"
     },
     "output_type": "display_data"
    }
   ],
   "source": [
    "keras_cnn_val_conf_mtx_df = pd.DataFrame(data = keras_cnn_val_conf_mtx,\n",
    "                                    index = labels, columns = labels)\n",
    "\n",
    "plt.figure(figsize = (20, 10))\n",
    "sns.heatmap(keras_cnn_val_conf_mtx_df, annot = True, fmt = 'g')\n",
    "plt.xlabel(\"Predicted\")\n",
    "plt.ylabel(\"Actual\")\n",
    "plt.title(\"Confusion Matrix of Validation Predictions - Keras ANN\")\n",
    "plt.show()"
   ]
  },
  {
   "cell_type": "markdown",
   "metadata": {},
   "source": [
    "Looking at the confusion matrix above, this model suffers from the same issues seen before in models. However, this model just makes these mistakes slightly less which offers more favorable performance compared to those models. I believe it is due to the convolution/pooling layers, which add filters to the images to handle the slight differences between the images differences between classes (such as t-shirt vs shirt, ankle boot vs sneaker, etc...). \n",
    "\n",
    "Overall, through the accuracy rate and confusion matrix of the validation dataset, the CNN based on the LeNet-5 architecture proves to be the best performing model created in this project.\n",
    "\n",
    "Next, I will be moving forward to evaluate this model on the held out test data."
   ]
  }
 ],
 "metadata": {
  "kernelspec": {
   "display_name": "Python 3",
   "language": "python",
   "name": "python3"
  },
  "language_info": {
   "codemirror_mode": {
    "name": "ipython",
    "version": 3
   },
   "file_extension": ".py",
   "mimetype": "text/x-python",
   "name": "python",
   "nbconvert_exporter": "python",
   "pygments_lexer": "ipython3",
   "version": "3.7.6"
  }
 },
 "nbformat": 4,
 "nbformat_minor": 2
}
