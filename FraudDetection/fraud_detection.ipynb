{
 "cells": [
  {
   "cell_type": "markdown",
   "metadata": {},
   "source": [
    "<h1><center>Utilizing Minority Sampling for Fraud Detection</center></h1>\n",
    "\n",
    "<h2><a href = \"https://github.com/joshjanda1/\"><center>Josh Janda</center></a></h2>\n",
    "\n",
    "<h2>Introduction</h2>\n",
    "\n",
    "The motivation for this project is from this <a href = \"https://https://www.kaggle.com/mlg-ulb/creditcardfraud\">kaggle dataset</a>, in which the goal of thisx dataset is to ultimately label each transactation as fraudulent or genuine. A fraudlent transaction can be considered a transcaction that was not legitimately made by the card holder. A genuine transaction is a transcation that was made by the card holder.\n",
    "\n",
    "I will be utilizing different techniques for completing this task, which include:\n",
    "\n",
    "- Cross-Validation\n",
    "- Stratified Splitting\n",
    "- Over Sampling (SMOTE)\n",
    "- Fitting Models\n",
    "\n",
    "Cross-Validation will be used when doing the stratification splitting, in order to ensure similar ratios of fraudulent/genuine transactions when splitting the data. The data will then be over-sampled, due to the insufficient amount of data I have, in order to balance the classes to avoid model bias. The over-sampling technique I will be using is SMOTE (Synthetic Minority Over-Sampling Technique).\n",
    "\n",
    "The dataset itself consists of 31 variables. Known variables are:\n",
    "\n",
    "- Time: Number of seconds elapsed between transaction and first transaction in dataset\n",
    "- Amount: Total transaction amount\n",
    "- Class: 1 if fraudulent, 0 if genuine (target variable)\n",
    "\n",
    "For the other features in the dataset (V1-V28), it is assumed that they are 28 principal components of the original dataset due to privacy and security concerns.\n",
    "\n",
    "Overall, the goal of this project is to utilize data imbalancing techniques to create an accurate prediction model for recognizing credit card fraud.\n",
    "\n",
    "<h2>Reading Data</h2>\n",
    "\n",
    "I will now begin the process of reading in the data."
   ]
  },
  {
   "cell_type": "code",
   "execution_count": 64,
   "metadata": {},
   "outputs": [
    {
     "data": {
      "text/html": [
       "<div>\n",
       "<style scoped>\n",
       "    .dataframe tbody tr th:only-of-type {\n",
       "        vertical-align: middle;\n",
       "    }\n",
       "\n",
       "    .dataframe tbody tr th {\n",
       "        vertical-align: top;\n",
       "    }\n",
       "\n",
       "    .dataframe thead th {\n",
       "        text-align: right;\n",
       "    }\n",
       "</style>\n",
       "<table border=\"1\" class=\"dataframe\">\n",
       "  <thead>\n",
       "    <tr style=\"text-align: right;\">\n",
       "      <th></th>\n",
       "      <th>Time</th>\n",
       "      <th>V1</th>\n",
       "      <th>V2</th>\n",
       "      <th>V3</th>\n",
       "      <th>V4</th>\n",
       "      <th>V5</th>\n",
       "      <th>V6</th>\n",
       "      <th>V7</th>\n",
       "      <th>V8</th>\n",
       "      <th>V9</th>\n",
       "      <th>...</th>\n",
       "      <th>V21</th>\n",
       "      <th>V22</th>\n",
       "      <th>V23</th>\n",
       "      <th>V24</th>\n",
       "      <th>V25</th>\n",
       "      <th>V26</th>\n",
       "      <th>V27</th>\n",
       "      <th>V28</th>\n",
       "      <th>Amount</th>\n",
       "      <th>Class</th>\n",
       "    </tr>\n",
       "  </thead>\n",
       "  <tbody>\n",
       "    <tr>\n",
       "      <th>0</th>\n",
       "      <td>0.0</td>\n",
       "      <td>-1.359807</td>\n",
       "      <td>-0.072781</td>\n",
       "      <td>2.536347</td>\n",
       "      <td>1.378155</td>\n",
       "      <td>-0.338321</td>\n",
       "      <td>0.462388</td>\n",
       "      <td>0.239599</td>\n",
       "      <td>0.098698</td>\n",
       "      <td>0.363787</td>\n",
       "      <td>...</td>\n",
       "      <td>-0.018307</td>\n",
       "      <td>0.277838</td>\n",
       "      <td>-0.110474</td>\n",
       "      <td>0.066928</td>\n",
       "      <td>0.128539</td>\n",
       "      <td>-0.189115</td>\n",
       "      <td>0.133558</td>\n",
       "      <td>-0.021053</td>\n",
       "      <td>149.62</td>\n",
       "      <td>0</td>\n",
       "    </tr>\n",
       "    <tr>\n",
       "      <th>1</th>\n",
       "      <td>0.0</td>\n",
       "      <td>1.191857</td>\n",
       "      <td>0.266151</td>\n",
       "      <td>0.166480</td>\n",
       "      <td>0.448154</td>\n",
       "      <td>0.060018</td>\n",
       "      <td>-0.082361</td>\n",
       "      <td>-0.078803</td>\n",
       "      <td>0.085102</td>\n",
       "      <td>-0.255425</td>\n",
       "      <td>...</td>\n",
       "      <td>-0.225775</td>\n",
       "      <td>-0.638672</td>\n",
       "      <td>0.101288</td>\n",
       "      <td>-0.339846</td>\n",
       "      <td>0.167170</td>\n",
       "      <td>0.125895</td>\n",
       "      <td>-0.008983</td>\n",
       "      <td>0.014724</td>\n",
       "      <td>2.69</td>\n",
       "      <td>0</td>\n",
       "    </tr>\n",
       "    <tr>\n",
       "      <th>2</th>\n",
       "      <td>1.0</td>\n",
       "      <td>-1.358354</td>\n",
       "      <td>-1.340163</td>\n",
       "      <td>1.773209</td>\n",
       "      <td>0.379780</td>\n",
       "      <td>-0.503198</td>\n",
       "      <td>1.800499</td>\n",
       "      <td>0.791461</td>\n",
       "      <td>0.247676</td>\n",
       "      <td>-1.514654</td>\n",
       "      <td>...</td>\n",
       "      <td>0.247998</td>\n",
       "      <td>0.771679</td>\n",
       "      <td>0.909412</td>\n",
       "      <td>-0.689281</td>\n",
       "      <td>-0.327642</td>\n",
       "      <td>-0.139097</td>\n",
       "      <td>-0.055353</td>\n",
       "      <td>-0.059752</td>\n",
       "      <td>378.66</td>\n",
       "      <td>0</td>\n",
       "    </tr>\n",
       "    <tr>\n",
       "      <th>3</th>\n",
       "      <td>1.0</td>\n",
       "      <td>-0.966272</td>\n",
       "      <td>-0.185226</td>\n",
       "      <td>1.792993</td>\n",
       "      <td>-0.863291</td>\n",
       "      <td>-0.010309</td>\n",
       "      <td>1.247203</td>\n",
       "      <td>0.237609</td>\n",
       "      <td>0.377436</td>\n",
       "      <td>-1.387024</td>\n",
       "      <td>...</td>\n",
       "      <td>-0.108300</td>\n",
       "      <td>0.005274</td>\n",
       "      <td>-0.190321</td>\n",
       "      <td>-1.175575</td>\n",
       "      <td>0.647376</td>\n",
       "      <td>-0.221929</td>\n",
       "      <td>0.062723</td>\n",
       "      <td>0.061458</td>\n",
       "      <td>123.50</td>\n",
       "      <td>0</td>\n",
       "    </tr>\n",
       "    <tr>\n",
       "      <th>4</th>\n",
       "      <td>2.0</td>\n",
       "      <td>-1.158233</td>\n",
       "      <td>0.877737</td>\n",
       "      <td>1.548718</td>\n",
       "      <td>0.403034</td>\n",
       "      <td>-0.407193</td>\n",
       "      <td>0.095921</td>\n",
       "      <td>0.592941</td>\n",
       "      <td>-0.270533</td>\n",
       "      <td>0.817739</td>\n",
       "      <td>...</td>\n",
       "      <td>-0.009431</td>\n",
       "      <td>0.798278</td>\n",
       "      <td>-0.137458</td>\n",
       "      <td>0.141267</td>\n",
       "      <td>-0.206010</td>\n",
       "      <td>0.502292</td>\n",
       "      <td>0.219422</td>\n",
       "      <td>0.215153</td>\n",
       "      <td>69.99</td>\n",
       "      <td>0</td>\n",
       "    </tr>\n",
       "    <tr>\n",
       "      <th>5</th>\n",
       "      <td>2.0</td>\n",
       "      <td>-0.425966</td>\n",
       "      <td>0.960523</td>\n",
       "      <td>1.141109</td>\n",
       "      <td>-0.168252</td>\n",
       "      <td>0.420987</td>\n",
       "      <td>-0.029728</td>\n",
       "      <td>0.476201</td>\n",
       "      <td>0.260314</td>\n",
       "      <td>-0.568671</td>\n",
       "      <td>...</td>\n",
       "      <td>-0.208254</td>\n",
       "      <td>-0.559825</td>\n",
       "      <td>-0.026398</td>\n",
       "      <td>-0.371427</td>\n",
       "      <td>-0.232794</td>\n",
       "      <td>0.105915</td>\n",
       "      <td>0.253844</td>\n",
       "      <td>0.081080</td>\n",
       "      <td>3.67</td>\n",
       "      <td>0</td>\n",
       "    </tr>\n",
       "    <tr>\n",
       "      <th>6</th>\n",
       "      <td>4.0</td>\n",
       "      <td>1.229658</td>\n",
       "      <td>0.141004</td>\n",
       "      <td>0.045371</td>\n",
       "      <td>1.202613</td>\n",
       "      <td>0.191881</td>\n",
       "      <td>0.272708</td>\n",
       "      <td>-0.005159</td>\n",
       "      <td>0.081213</td>\n",
       "      <td>0.464960</td>\n",
       "      <td>...</td>\n",
       "      <td>-0.167716</td>\n",
       "      <td>-0.270710</td>\n",
       "      <td>-0.154104</td>\n",
       "      <td>-0.780055</td>\n",
       "      <td>0.750137</td>\n",
       "      <td>-0.257237</td>\n",
       "      <td>0.034507</td>\n",
       "      <td>0.005168</td>\n",
       "      <td>4.99</td>\n",
       "      <td>0</td>\n",
       "    </tr>\n",
       "    <tr>\n",
       "      <th>7</th>\n",
       "      <td>7.0</td>\n",
       "      <td>-0.644269</td>\n",
       "      <td>1.417964</td>\n",
       "      <td>1.074380</td>\n",
       "      <td>-0.492199</td>\n",
       "      <td>0.948934</td>\n",
       "      <td>0.428118</td>\n",
       "      <td>1.120631</td>\n",
       "      <td>-3.807864</td>\n",
       "      <td>0.615375</td>\n",
       "      <td>...</td>\n",
       "      <td>1.943465</td>\n",
       "      <td>-1.015455</td>\n",
       "      <td>0.057504</td>\n",
       "      <td>-0.649709</td>\n",
       "      <td>-0.415267</td>\n",
       "      <td>-0.051634</td>\n",
       "      <td>-1.206921</td>\n",
       "      <td>-1.085339</td>\n",
       "      <td>40.80</td>\n",
       "      <td>0</td>\n",
       "    </tr>\n",
       "    <tr>\n",
       "      <th>8</th>\n",
       "      <td>7.0</td>\n",
       "      <td>-0.894286</td>\n",
       "      <td>0.286157</td>\n",
       "      <td>-0.113192</td>\n",
       "      <td>-0.271526</td>\n",
       "      <td>2.669599</td>\n",
       "      <td>3.721818</td>\n",
       "      <td>0.370145</td>\n",
       "      <td>0.851084</td>\n",
       "      <td>-0.392048</td>\n",
       "      <td>...</td>\n",
       "      <td>-0.073425</td>\n",
       "      <td>-0.268092</td>\n",
       "      <td>-0.204233</td>\n",
       "      <td>1.011592</td>\n",
       "      <td>0.373205</td>\n",
       "      <td>-0.384157</td>\n",
       "      <td>0.011747</td>\n",
       "      <td>0.142404</td>\n",
       "      <td>93.20</td>\n",
       "      <td>0</td>\n",
       "    </tr>\n",
       "    <tr>\n",
       "      <th>9</th>\n",
       "      <td>9.0</td>\n",
       "      <td>-0.338262</td>\n",
       "      <td>1.119593</td>\n",
       "      <td>1.044367</td>\n",
       "      <td>-0.222187</td>\n",
       "      <td>0.499361</td>\n",
       "      <td>-0.246761</td>\n",
       "      <td>0.651583</td>\n",
       "      <td>0.069539</td>\n",
       "      <td>-0.736727</td>\n",
       "      <td>...</td>\n",
       "      <td>-0.246914</td>\n",
       "      <td>-0.633753</td>\n",
       "      <td>-0.120794</td>\n",
       "      <td>-0.385050</td>\n",
       "      <td>-0.069733</td>\n",
       "      <td>0.094199</td>\n",
       "      <td>0.246219</td>\n",
       "      <td>0.083076</td>\n",
       "      <td>3.68</td>\n",
       "      <td>0</td>\n",
       "    </tr>\n",
       "  </tbody>\n",
       "</table>\n",
       "<p>10 rows × 31 columns</p>\n",
       "</div>"
      ],
      "text/plain": [
       "   Time        V1        V2        V3        V4        V5        V6        V7  \\\n",
       "0   0.0 -1.359807 -0.072781  2.536347  1.378155 -0.338321  0.462388  0.239599   \n",
       "1   0.0  1.191857  0.266151  0.166480  0.448154  0.060018 -0.082361 -0.078803   \n",
       "2   1.0 -1.358354 -1.340163  1.773209  0.379780 -0.503198  1.800499  0.791461   \n",
       "3   1.0 -0.966272 -0.185226  1.792993 -0.863291 -0.010309  1.247203  0.237609   \n",
       "4   2.0 -1.158233  0.877737  1.548718  0.403034 -0.407193  0.095921  0.592941   \n",
       "5   2.0 -0.425966  0.960523  1.141109 -0.168252  0.420987 -0.029728  0.476201   \n",
       "6   4.0  1.229658  0.141004  0.045371  1.202613  0.191881  0.272708 -0.005159   \n",
       "7   7.0 -0.644269  1.417964  1.074380 -0.492199  0.948934  0.428118  1.120631   \n",
       "8   7.0 -0.894286  0.286157 -0.113192 -0.271526  2.669599  3.721818  0.370145   \n",
       "9   9.0 -0.338262  1.119593  1.044367 -0.222187  0.499361 -0.246761  0.651583   \n",
       "\n",
       "         V8        V9  ...       V21       V22       V23       V24       V25  \\\n",
       "0  0.098698  0.363787  ... -0.018307  0.277838 -0.110474  0.066928  0.128539   \n",
       "1  0.085102 -0.255425  ... -0.225775 -0.638672  0.101288 -0.339846  0.167170   \n",
       "2  0.247676 -1.514654  ...  0.247998  0.771679  0.909412 -0.689281 -0.327642   \n",
       "3  0.377436 -1.387024  ... -0.108300  0.005274 -0.190321 -1.175575  0.647376   \n",
       "4 -0.270533  0.817739  ... -0.009431  0.798278 -0.137458  0.141267 -0.206010   \n",
       "5  0.260314 -0.568671  ... -0.208254 -0.559825 -0.026398 -0.371427 -0.232794   \n",
       "6  0.081213  0.464960  ... -0.167716 -0.270710 -0.154104 -0.780055  0.750137   \n",
       "7 -3.807864  0.615375  ...  1.943465 -1.015455  0.057504 -0.649709 -0.415267   \n",
       "8  0.851084 -0.392048  ... -0.073425 -0.268092 -0.204233  1.011592  0.373205   \n",
       "9  0.069539 -0.736727  ... -0.246914 -0.633753 -0.120794 -0.385050 -0.069733   \n",
       "\n",
       "        V26       V27       V28  Amount  Class  \n",
       "0 -0.189115  0.133558 -0.021053  149.62      0  \n",
       "1  0.125895 -0.008983  0.014724    2.69      0  \n",
       "2 -0.139097 -0.055353 -0.059752  378.66      0  \n",
       "3 -0.221929  0.062723  0.061458  123.50      0  \n",
       "4  0.502292  0.219422  0.215153   69.99      0  \n",
       "5  0.105915  0.253844  0.081080    3.67      0  \n",
       "6 -0.257237  0.034507  0.005168    4.99      0  \n",
       "7 -0.051634 -1.206921 -1.085339   40.80      0  \n",
       "8 -0.384157  0.011747  0.142404   93.20      0  \n",
       "9  0.094199  0.246219  0.083076    3.68      0  \n",
       "\n",
       "[10 rows x 31 columns]"
      ]
     },
     "execution_count": 64,
     "metadata": {},
     "output_type": "execute_result"
    }
   ],
   "source": [
    "#imports\n",
    "import pandas as pd\n",
    "import numpy as np\n",
    "import matplotlib.pyplot as plt\n",
    "import seaborn as sns\n",
    "from imblearn.over_sampling import SMOTE\n",
    "from sklearn.model_selection import StratifiedKFold\n",
    "import xgboost as xgb\n",
    "from sklearn.metrics import confusion_matrix, accuracy_score, roc_auc_score, roc_curve\n",
    "from tensorflow import keras\n",
    "import tensorflow as tf\n",
    "from sklearn.model_selection import RandomizedSearchCV, GridSearchCV\n",
    "from sklearn.preprocessing import StandardScaler\n",
    "from datetime import datetime\n",
    "from sklearn.linear_model import LogisticRegression\n",
    "#end imports\n",
    "\n",
    "credit_data = pd.read_csv(\"creditcard.csv\")\n",
    "\n",
    "credit_data.head(n = 10)"
   ]
  },
  {
   "cell_type": "markdown",
   "metadata": {},
   "source": [
    "Above shows the first 10 observations of the dataset. Looking at the features, I believe scaling the data to mean of 0 and standard deviation of 1 will be appropriate as they are principal components exluding time and amount. Time and amount should be scaled due to the range of the variables."
   ]
  },
  {
   "cell_type": "code",
   "execution_count": 65,
   "metadata": {},
   "outputs": [
    {
     "data": {
      "text/html": [
       "<div>\n",
       "<style scoped>\n",
       "    .dataframe tbody tr th:only-of-type {\n",
       "        vertical-align: middle;\n",
       "    }\n",
       "\n",
       "    .dataframe tbody tr th {\n",
       "        vertical-align: top;\n",
       "    }\n",
       "\n",
       "    .dataframe thead th {\n",
       "        text-align: right;\n",
       "    }\n",
       "</style>\n",
       "<table border=\"1\" class=\"dataframe\">\n",
       "  <thead>\n",
       "    <tr style=\"text-align: right;\">\n",
       "      <th></th>\n",
       "      <th>Time</th>\n",
       "      <th>V1</th>\n",
       "      <th>V2</th>\n",
       "      <th>V3</th>\n",
       "      <th>V4</th>\n",
       "      <th>V5</th>\n",
       "      <th>V6</th>\n",
       "      <th>V7</th>\n",
       "      <th>V8</th>\n",
       "      <th>V9</th>\n",
       "      <th>...</th>\n",
       "      <th>V21</th>\n",
       "      <th>V22</th>\n",
       "      <th>V23</th>\n",
       "      <th>V24</th>\n",
       "      <th>V25</th>\n",
       "      <th>V26</th>\n",
       "      <th>V27</th>\n",
       "      <th>V28</th>\n",
       "      <th>Amount</th>\n",
       "      <th>Class</th>\n",
       "    </tr>\n",
       "  </thead>\n",
       "  <tbody>\n",
       "    <tr>\n",
       "      <th>mean</th>\n",
       "      <td>94813.859575</td>\n",
       "      <td>3.919560e-15</td>\n",
       "      <td>5.688174e-16</td>\n",
       "      <td>-8.769071e-15</td>\n",
       "      <td>2.782312e-15</td>\n",
       "      <td>-1.552563e-15</td>\n",
       "      <td>2.010663e-15</td>\n",
       "      <td>-1.694249e-15</td>\n",
       "      <td>-1.927028e-16</td>\n",
       "      <td>-3.137024e-15</td>\n",
       "      <td>...</td>\n",
       "      <td>1.537294e-16</td>\n",
       "      <td>7.959909e-16</td>\n",
       "      <td>5.367590e-16</td>\n",
       "      <td>4.458112e-15</td>\n",
       "      <td>1.453003e-15</td>\n",
       "      <td>1.699104e-15</td>\n",
       "      <td>-3.660161e-16</td>\n",
       "      <td>-1.206049e-16</td>\n",
       "      <td>88.349619</td>\n",
       "      <td>0.001727</td>\n",
       "    </tr>\n",
       "    <tr>\n",
       "      <th>std</th>\n",
       "      <td>47488.145955</td>\n",
       "      <td>1.958696e+00</td>\n",
       "      <td>1.651309e+00</td>\n",
       "      <td>1.516255e+00</td>\n",
       "      <td>1.415869e+00</td>\n",
       "      <td>1.380247e+00</td>\n",
       "      <td>1.332271e+00</td>\n",
       "      <td>1.237094e+00</td>\n",
       "      <td>1.194353e+00</td>\n",
       "      <td>1.098632e+00</td>\n",
       "      <td>...</td>\n",
       "      <td>7.345240e-01</td>\n",
       "      <td>7.257016e-01</td>\n",
       "      <td>6.244603e-01</td>\n",
       "      <td>6.056471e-01</td>\n",
       "      <td>5.212781e-01</td>\n",
       "      <td>4.822270e-01</td>\n",
       "      <td>4.036325e-01</td>\n",
       "      <td>3.300833e-01</td>\n",
       "      <td>250.120109</td>\n",
       "      <td>0.041527</td>\n",
       "    </tr>\n",
       "    <tr>\n",
       "      <th>min</th>\n",
       "      <td>0.000000</td>\n",
       "      <td>-5.640751e+01</td>\n",
       "      <td>-7.271573e+01</td>\n",
       "      <td>-4.832559e+01</td>\n",
       "      <td>-5.683171e+00</td>\n",
       "      <td>-1.137433e+02</td>\n",
       "      <td>-2.616051e+01</td>\n",
       "      <td>-4.355724e+01</td>\n",
       "      <td>-7.321672e+01</td>\n",
       "      <td>-1.343407e+01</td>\n",
       "      <td>...</td>\n",
       "      <td>-3.483038e+01</td>\n",
       "      <td>-1.093314e+01</td>\n",
       "      <td>-4.480774e+01</td>\n",
       "      <td>-2.836627e+00</td>\n",
       "      <td>-1.029540e+01</td>\n",
       "      <td>-2.604551e+00</td>\n",
       "      <td>-2.256568e+01</td>\n",
       "      <td>-1.543008e+01</td>\n",
       "      <td>0.000000</td>\n",
       "      <td>0.000000</td>\n",
       "    </tr>\n",
       "    <tr>\n",
       "      <th>max</th>\n",
       "      <td>172792.000000</td>\n",
       "      <td>2.454930e+00</td>\n",
       "      <td>2.205773e+01</td>\n",
       "      <td>9.382558e+00</td>\n",
       "      <td>1.687534e+01</td>\n",
       "      <td>3.480167e+01</td>\n",
       "      <td>7.330163e+01</td>\n",
       "      <td>1.205895e+02</td>\n",
       "      <td>2.000721e+01</td>\n",
       "      <td>1.559499e+01</td>\n",
       "      <td>...</td>\n",
       "      <td>2.720284e+01</td>\n",
       "      <td>1.050309e+01</td>\n",
       "      <td>2.252841e+01</td>\n",
       "      <td>4.584549e+00</td>\n",
       "      <td>7.519589e+00</td>\n",
       "      <td>3.517346e+00</td>\n",
       "      <td>3.161220e+01</td>\n",
       "      <td>3.384781e+01</td>\n",
       "      <td>25691.160000</td>\n",
       "      <td>1.000000</td>\n",
       "    </tr>\n",
       "  </tbody>\n",
       "</table>\n",
       "<p>4 rows × 31 columns</p>\n",
       "</div>"
      ],
      "text/plain": [
       "               Time            V1            V2            V3            V4  \\\n",
       "mean   94813.859575  3.919560e-15  5.688174e-16 -8.769071e-15  2.782312e-15   \n",
       "std    47488.145955  1.958696e+00  1.651309e+00  1.516255e+00  1.415869e+00   \n",
       "min        0.000000 -5.640751e+01 -7.271573e+01 -4.832559e+01 -5.683171e+00   \n",
       "max   172792.000000  2.454930e+00  2.205773e+01  9.382558e+00  1.687534e+01   \n",
       "\n",
       "                V5            V6            V7            V8            V9  \\\n",
       "mean -1.552563e-15  2.010663e-15 -1.694249e-15 -1.927028e-16 -3.137024e-15   \n",
       "std   1.380247e+00  1.332271e+00  1.237094e+00  1.194353e+00  1.098632e+00   \n",
       "min  -1.137433e+02 -2.616051e+01 -4.355724e+01 -7.321672e+01 -1.343407e+01   \n",
       "max   3.480167e+01  7.330163e+01  1.205895e+02  2.000721e+01  1.559499e+01   \n",
       "\n",
       "      ...           V21           V22           V23           V24  \\\n",
       "mean  ...  1.537294e-16  7.959909e-16  5.367590e-16  4.458112e-15   \n",
       "std   ...  7.345240e-01  7.257016e-01  6.244603e-01  6.056471e-01   \n",
       "min   ... -3.483038e+01 -1.093314e+01 -4.480774e+01 -2.836627e+00   \n",
       "max   ...  2.720284e+01  1.050309e+01  2.252841e+01  4.584549e+00   \n",
       "\n",
       "               V25           V26           V27           V28        Amount  \\\n",
       "mean  1.453003e-15  1.699104e-15 -3.660161e-16 -1.206049e-16     88.349619   \n",
       "std   5.212781e-01  4.822270e-01  4.036325e-01  3.300833e-01    250.120109   \n",
       "min  -1.029540e+01 -2.604551e+00 -2.256568e+01 -1.543008e+01      0.000000   \n",
       "max   7.519589e+00  3.517346e+00  3.161220e+01  3.384781e+01  25691.160000   \n",
       "\n",
       "         Class  \n",
       "mean  0.001727  \n",
       "std   0.041527  \n",
       "min   0.000000  \n",
       "max   1.000000  \n",
       "\n",
       "[4 rows x 31 columns]"
      ]
     },
     "execution_count": 65,
     "metadata": {},
     "output_type": "execute_result"
    }
   ],
   "source": [
    "credit_data.describe().loc[[\"mean\", \"std\", \"min\", \"max\"]]"
   ]
  },
  {
   "cell_type": "markdown",
   "metadata": {},
   "source": [
    "Looking at the summary statistics above, I can confirm that scaling will be appropriate for the known features as well as the principal components. The principal components do have a mean of zero, but they do not have a standard deviation of one which I would like to have.\n",
    "\n",
    "Since we do not know the true features, analyzing the features themselves will not be a great importance as these features already contain most of the variance in the data and have been deemed important by PCA. I do believe it is important to check the correlations with the target variable, however.\n",
    "\n",
    "I will now verify there are no null values in the variables."
   ]
  },
  {
   "cell_type": "code",
   "execution_count": 66,
   "metadata": {},
   "outputs": [
    {
     "data": {
      "text/plain": [
       "Time      0\n",
       "V1        0\n",
       "V2        0\n",
       "V3        0\n",
       "V4        0\n",
       "V5        0\n",
       "V6        0\n",
       "V7        0\n",
       "V8        0\n",
       "V9        0\n",
       "V10       0\n",
       "V11       0\n",
       "V12       0\n",
       "V13       0\n",
       "V14       0\n",
       "V15       0\n",
       "V16       0\n",
       "V17       0\n",
       "V18       0\n",
       "V19       0\n",
       "V20       0\n",
       "V21       0\n",
       "V22       0\n",
       "V23       0\n",
       "V24       0\n",
       "V25       0\n",
       "V26       0\n",
       "V27       0\n",
       "V28       0\n",
       "Amount    0\n",
       "Class     0\n",
       "dtype: int64"
      ]
     },
     "execution_count": 66,
     "metadata": {},
     "output_type": "execute_result"
    }
   ],
   "source": [
    "credit_data.isna().sum()"
   ]
  },
  {
   "cell_type": "markdown",
   "metadata": {},
   "source": [
    "The above table confirms there are no null values in the data.\n",
    "\n",
    "I will now take a quick look at the correlation between all variables and the target variable."
   ]
  },
  {
   "cell_type": "code",
   "execution_count": 99,
   "metadata": {},
   "outputs": [
    {
     "data": {
      "text/plain": [
       "<matplotlib.axes._subplots.AxesSubplot at 0x24d12334d68>"
      ]
     },
     "execution_count": 99,
     "metadata": {},
     "output_type": "execute_result"
    },
    {
     "data": {
      "image/png": "[encoded data removed]",
      "text/plain": [
       "<Figure size 1440x720 with 1 Axes>"
      ]
     },
     "metadata": {
      "needs_background": "light"
     },
     "output_type": "display_data"
    }
   ],
   "source": [
    "credit_data.corrwith(credit_data.Class).plot.bar(\n",
    "        figsize = (20, 10), title = \"Correlation with class\", fontsize = 15,\n",
    "        rot = 45, grid = True,  color = list('rgbkymc'))"
   ]
  },
  {
   "cell_type": "markdown",
   "metadata": {},
   "source": [
    "Looking at the plot above, all variables have at least a small amount of correlation with the target variable. Due to almost all variables being from PCA, I believe no correlations deem variable removal. This is due to these variables maintaining the variance in the data.\n",
    "\n",
    "Since this data is heavily imbalanced, I believe it is important to analyze the target variable."
   ]
  },
  {
   "cell_type": "code",
   "execution_count": 67,
   "metadata": {},
   "outputs": [
    {
     "data": {
      "text/html": [
       "<div>\n",
       "<style scoped>\n",
       "    .dataframe tbody tr th:only-of-type {\n",
       "        vertical-align: middle;\n",
       "    }\n",
       "\n",
       "    .dataframe tbody tr th {\n",
       "        vertical-align: top;\n",
       "    }\n",
       "\n",
       "    .dataframe thead th {\n",
       "        text-align: right;\n",
       "    }\n",
       "</style>\n",
       "<table border=\"1\" class=\"dataframe\">\n",
       "  <thead>\n",
       "    <tr style=\"text-align: right;\">\n",
       "      <th></th>\n",
       "      <th># Obs</th>\n",
       "      <th>Class Ratio</th>\n",
       "    </tr>\n",
       "  </thead>\n",
       "  <tbody>\n",
       "    <tr>\n",
       "      <th>Fraudulent</th>\n",
       "      <td>492</td>\n",
       "      <td>0.001727</td>\n",
       "    </tr>\n",
       "    <tr>\n",
       "      <th>Genuine</th>\n",
       "      <td>284315</td>\n",
       "      <td>0.998273</td>\n",
       "    </tr>\n",
       "  </tbody>\n",
       "</table>\n",
       "</div>"
      ],
      "text/plain": [
       "             # Obs  Class Ratio\n",
       "Fraudulent     492     0.001727\n",
       "Genuine     284315     0.998273"
      ]
     },
     "execution_count": 67,
     "metadata": {},
     "output_type": "execute_result"
    }
   ],
   "source": [
    "total_fraud = len(credit_data[credit_data[\"Class\"] == 1]) \n",
    "ratio_fraud = total_fraud / len(credit_data)\n",
    "\n",
    "total_genuine = len(credit_data[credit_data[\"Class\"] == 0]) \n",
    "ratio_genuine = total_genuine / len(credit_data)\n",
    "\n",
    "label_distribution = pd.DataFrame([[total_fraud, ratio_fraud], [total_genuine, ratio_genuine]],\n",
    "                                  index = [\"Fraudulent\", \"Genuine\"],\n",
    "                                 columns = [\"# Obs\", \"Class Ratio\"])\n",
    "label_distribution"
   ]
  },
  {
   "cell_type": "markdown",
   "metadata": {},
   "source": [
    "Looking at the table above, right away it is obvious that are data is very heavily imbalanced, with only 492 observations of fraud out of 284807 total observations. That is only .1727% of the data!\n",
    "\n",
    "With our data analyzed and verified, it is time to move onto the modeling phase.\n",
    "\n",
    "<h2>Data Modeling</h2>\n",
    "\n",
    "I will now begin modeling the data. The steps for modeling the data will look like this\n",
    "\n",
    "**Step 0**: Split the data into a training and test set using stratified K Fold. This will ensure equal ratios of fraudulent/genuine observations in each of the training and test datasets. Scale the data to mean 0 and standard deviation 1.\n",
    "\n",
    "**Step 1**: Split the training data using stratified K fold (I will be using 10 splits). This will ensure equal ratios of fraudulent/genuine observations in each of the training and validation datasets.\n",
    "\n",
    "**Step 2**: For each split, create a train and validation set using the stratified index. Set the validation set aside for use later on.\n",
    "\n",
    "**Step 3**: Fit the training dataset to the SMOTE algorithm, in order to balance the data to equal distributions.\n",
    "\n",
    "**Step 4**: Fit a model on the training dataset that has been modified by the SMOTE algorithm.\n",
    "\n",
    "**Step 5**: Measures the model using specified metrics on the held out validation data.\n",
    "\n",
    "Repeat steps 1-5 for each stratified split. This will ensure that the model has been validated numerous times on different data modified by the SMOTE algorithm.\n",
    "\n",
    "**Step 6**: Measure models final performance on test data. This model will be the last model fit on the data in the cross-validated splits.\n",
    "\n",
    "First, I will split the data according to step 0 and then I will create a function that performs steps 1-5."
   ]
  },
  {
   "cell_type": "code",
   "execution_count": 68,
   "metadata": {},
   "outputs": [],
   "source": [
    "X = credit_data.drop(\"Class\", axis = 1).to_numpy()\n",
    "y = credit_data[\"Class\"].to_numpy()#reshape to nx1 vector\n",
    "\n",
    "skf = StratifiedKFold(n_splits = 10, random_state = 27)\n",
    "\n",
    "for trn_idx, tst_idx in skf.split(X, y):\n",
    "    \n",
    "    Xtrain, Xtest = X[trn_idx], X[tst_idx]\n",
    "    ytrain, ytest = y[trn_idx], y[tst_idx]\n",
    "    \n",
    "scaler = StandardScaler()\n",
    "\n",
    "Xtrain = scaler.fit_transform(Xtrain)\n",
    "Xtest = scaler.transform(Xtest)"
   ]
  },
  {
   "cell_type": "markdown",
   "metadata": {},
   "source": [
    "With the data split into an initial training and test set, I will now create a function to perform the other steps."
   ]
  },
  {
   "cell_type": "code",
   "execution_count": 69,
   "metadata": {},
   "outputs": [],
   "source": [
    "def model_data(X, y, model = xgb.XGBClassifier(nthread = 4), splits = 10, seed = 27):\n",
    "    \n",
    "    skf = StratifiedKFold(n_splits = splits, random_state = seed)\n",
    "    \n",
    "    cv_accuracy = np.empty((splits))\n",
    "    cv_roc_score = np.empty((splits))\n",
    "    cv_conf_mtrcs = []\n",
    "    \n",
    "    for fold, (trn_idx, val_idx) in enumerate(skf.split(X, y), 1):\n",
    "        \n",
    "        start_time = datetime.now()\n",
    "        \n",
    "        Xtrain, Xval = X[trn_idx], X[val_idx]\n",
    "        ytrain, yval = y[trn_idx], y[val_idx]\n",
    "        \n",
    "        sm = SMOTE(random_state = seed, n_jobs = -1)#use all cores\n",
    "        #fit training data to smote algorithm\n",
    "        Xtrain_sm, ytrain_sm = sm.fit_sample(Xtrain, ytrain)\n",
    "        \n",
    "        #model data\n",
    "        \n",
    "        model.fit(Xtrain_sm, ytrain_sm)\n",
    "        predictions = model.predict(Xval)\n",
    "        accuracy = accuracy_score(yval, predictions)\n",
    "        roc_score = roc_auc_score(yval, predictions)\n",
    "        conf_mtrx = confusion_matrix(yval, predictions)\n",
    "        \n",
    "        cv_accuracy[fold-1] = accuracy\n",
    "        cv_roc_score[fold-1] = roc_score\n",
    "        cv_conf_mtrcs.append(conf_mtrx)\n",
    "        \n",
    "        end_time = datetime.now()\n",
    "        total_time = end_time - start_time\n",
    "        print(\"Completed Fold {0} - Training & Evaluation Time: {1}\".format(fold, total_time))\n",
    "    \n",
    "    return cv_accuracy, cv_roc_score, cv_conf_mtrcs, model"
   ]
  },
  {
   "cell_type": "code",
   "execution_count": 70,
   "metadata": {},
   "outputs": [
    {
     "name": "stdout",
     "output_type": "stream",
     "text": [
      "Completed Fold 1 - Training & Evaluation Time: 0:00:46.477875\n",
      "Completed Fold 2 - Training & Evaluation Time: 0:00:45.893095\n",
      "Completed Fold 3 - Training & Evaluation Time: 0:00:47.176041\n",
      "Completed Fold 4 - Training & Evaluation Time: 0:00:46.187640\n",
      "Completed Fold 5 - Training & Evaluation Time: 0:00:46.423826\n",
      "Completed Fold 6 - Training & Evaluation Time: 0:00:46.267614\n",
      "Completed Fold 7 - Training & Evaluation Time: 0:00:48.310338\n",
      "Completed Fold 8 - Training & Evaluation Time: 0:00:48.269670\n",
      "Completed Fold 9 - Training & Evaluation Time: 0:00:46.135725\n",
      "Completed Fold 10 - Training & Evaluation Time: 0:00:45.925800\n"
     ]
    }
   ],
   "source": [
    "cv_accuracy, cv_roc_score, cv_conf_mtrcs, final_model = model_data(Xtrain, ytrain)"
   ]
  },
  {
   "cell_type": "markdown",
   "metadata": {},
   "source": [
    "Above we see that each model was fit and evaluated in 45-50 seconds which is fast.\n",
    "\n",
    "I saved the accuracy, roc score, and confusion matrix for each model while fitting. Let's take a look at how these models performed on unseen data for classifying fraud."
   ]
  },
  {
   "cell_type": "code",
   "execution_count": 71,
   "metadata": {},
   "outputs": [
    {
     "data": {
      "text/html": [
       "<style  type=\"text/css\" >\n",
       "</style><table id=\"T_d7fdc53e_2e52_11ea_995b_60a44c5bb846\" ><thead>    <tr>        <th class=\"col_heading level0 col0\" >Fold</th>        <th class=\"col_heading level0 col1\" >Accuracy Score</th>        <th class=\"col_heading level0 col2\" >ROC Score</th>    </tr></thead><tbody>\n",
       "                <tr>\n",
       "                                <td id=\"T_d7fdc53e_2e52_11ea_995b_60a44c5bb846row0_col0\" class=\"data row0 col0\" >1</td>\n",
       "                        <td id=\"T_d7fdc53e_2e52_11ea_995b_60a44c5bb846row0_col1\" class=\"data row0 col1\" >0.981509</td>\n",
       "                        <td id=\"T_d7fdc53e_2e52_11ea_995b_60a44c5bb846row0_col2\" class=\"data row0 col2\" >0.979647</td>\n",
       "            </tr>\n",
       "            <tr>\n",
       "                                <td id=\"T_d7fdc53e_2e52_11ea_995b_60a44c5bb846row1_col0\" class=\"data row1 col0\" >2</td>\n",
       "                        <td id=\"T_d7fdc53e_2e52_11ea_995b_60a44c5bb846row1_col1\" class=\"data row1 col1\" >0.981743</td>\n",
       "                        <td id=\"T_d7fdc53e_2e52_11ea_995b_60a44c5bb846row1_col2\" class=\"data row1 col2\" >0.968672</td>\n",
       "            </tr>\n",
       "            <tr>\n",
       "                                <td id=\"T_d7fdc53e_2e52_11ea_995b_60a44c5bb846row2_col0\" class=\"data row2 col0\" >3</td>\n",
       "                        <td id=\"T_d7fdc53e_2e52_11ea_995b_60a44c5bb846row2_col1\" class=\"data row2 col1\" >0.928845</td>\n",
       "                        <td id=\"T_d7fdc53e_2e52_11ea_995b_60a44c5bb846row2_col2\" class=\"data row2 col2\" >0.953268</td>\n",
       "            </tr>\n",
       "            <tr>\n",
       "                                <td id=\"T_d7fdc53e_2e52_11ea_995b_60a44c5bb846row3_col0\" class=\"data row3 col0\" >4</td>\n",
       "                        <td id=\"T_d7fdc53e_2e52_11ea_995b_60a44c5bb846row3_col1\" class=\"data row3 col1\" >0.970819</td>\n",
       "                        <td id=\"T_d7fdc53e_2e52_11ea_995b_60a44c5bb846row3_col2\" class=\"data row3 col2\" >0.883287</td>\n",
       "            </tr>\n",
       "            <tr>\n",
       "                                <td id=\"T_d7fdc53e_2e52_11ea_995b_60a44c5bb846row4_col0\" class=\"data row4 col0\" >5</td>\n",
       "                        <td id=\"T_d7fdc53e_2e52_11ea_995b_60a44c5bb846row4_col1\" class=\"data row4 col1\" >0.983614</td>\n",
       "                        <td id=\"T_d7fdc53e_2e52_11ea_995b_60a44c5bb846row4_col2\" class=\"data row4 col2\" >0.957761</td>\n",
       "            </tr>\n",
       "            <tr>\n",
       "                                <td id=\"T_d7fdc53e_2e52_11ea_995b_60a44c5bb846row5_col0\" class=\"data row5 col0\" >6</td>\n",
       "                        <td id=\"T_d7fdc53e_2e52_11ea_995b_60a44c5bb846row5_col1\" class=\"data row5 col1\" >0.981468</td>\n",
       "                        <td id=\"T_d7fdc53e_2e52_11ea_995b_60a44c5bb846row5_col2\" class=\"data row5 col2\" >0.888621</td>\n",
       "            </tr>\n",
       "            <tr>\n",
       "                                <td id=\"T_d7fdc53e_2e52_11ea_995b_60a44c5bb846row6_col0\" class=\"data row6 col0\" >7</td>\n",
       "                        <td id=\"T_d7fdc53e_2e52_11ea_995b_60a44c5bb846row6_col1\" class=\"data row6 col1\" >0.972768</td>\n",
       "                        <td id=\"T_d7fdc53e_2e52_11ea_995b_60a44c5bb846row6_col2\" class=\"data row6 col2\" >0.918296</td>\n",
       "            </tr>\n",
       "            <tr>\n",
       "                                <td id=\"T_d7fdc53e_2e52_11ea_995b_60a44c5bb846row7_col0\" class=\"data row7 col0\" >8</td>\n",
       "                        <td id=\"T_d7fdc53e_2e52_11ea_995b_60a44c5bb846row7_col1\" class=\"data row7 col1\" >0.978113</td>\n",
       "                        <td id=\"T_d7fdc53e_2e52_11ea_995b_60a44c5bb846row7_col2\" class=\"data row7 col2\" >0.955006</td>\n",
       "            </tr>\n",
       "            <tr>\n",
       "                                <td id=\"T_d7fdc53e_2e52_11ea_995b_60a44c5bb846row8_col0\" class=\"data row8 col0\" >9</td>\n",
       "                        <td id=\"T_d7fdc53e_2e52_11ea_995b_60a44c5bb846row8_col1\" class=\"data row8 col1\" >0.994811</td>\n",
       "                        <td id=\"T_d7fdc53e_2e52_11ea_995b_60a44c5bb846row8_col2\" class=\"data row8 col2\" >0.906648</td>\n",
       "            </tr>\n",
       "            <tr>\n",
       "                                <td id=\"T_d7fdc53e_2e52_11ea_995b_60a44c5bb846row9_col0\" class=\"data row9 col0\" >10</td>\n",
       "                        <td id=\"T_d7fdc53e_2e52_11ea_995b_60a44c5bb846row9_col1\" class=\"data row9 col1\" >0.998752</td>\n",
       "                        <td id=\"T_d7fdc53e_2e52_11ea_995b_60a44c5bb846row9_col2\" class=\"data row9 col2\" >0.908622</td>\n",
       "            </tr>\n",
       "    </tbody></table>"
      ],
      "text/plain": [
       "<pandas.io.formats.style.Styler at 0x24d06cfe390>"
      ]
     },
     "execution_count": 71,
     "metadata": {},
     "output_type": "execute_result"
    }
   ],
   "source": [
    "cv_performance = pd.DataFrame(data = np.column_stack((np.arange(1, 11).astype(int), cv_accuracy, cv_roc_score)),\n",
    "                             columns = [\"Fold\", \"Accuracy Score\", \"ROC Score\"])\n",
    "\n",
    "cv_performance.style.hide_index()"
   ]
  },
  {
   "cell_type": "markdown",
   "metadata": {},
   "source": [
    "Looking at the table above, our models seemed to perform very well in both accuracy as well as ROC score. On average, each model had an accuracy of ~ .98 (98%) and an ROC score of of ~ .93 (93%). Let's take a look at the actual cross-validated mean and standard deviation for these results."
   ]
  },
  {
   "cell_type": "code",
   "execution_count": 72,
   "metadata": {},
   "outputs": [
    {
     "data": {
      "text/html": [
       "<style  type=\"text/css\" >\n",
       "</style><table id=\"T_d8005ce4_2e52_11ea_a7c3_60a44c5bb846\" ><thead>    <tr>        <th class=\"col_heading level0 col0\" >CV Accuracy Score</th>        <th class=\"col_heading level0 col1\" >CV ROC Score</th>    </tr></thead><tbody>\n",
       "                <tr>\n",
       "                                <td id=\"T_d8005ce4_2e52_11ea_a7c3_60a44c5bb846row0_col0\" class=\"data row0 col0\" >0.977244</td>\n",
       "                        <td id=\"T_d8005ce4_2e52_11ea_a7c3_60a44c5bb846row0_col1\" class=\"data row0 col1\" >0.931983</td>\n",
       "            </tr>\n",
       "    </tbody></table>"
      ],
      "text/plain": [
       "<pandas.io.formats.style.Styler at 0x24d06cfeeb8>"
      ]
     },
     "execution_count": 72,
     "metadata": {},
     "output_type": "execute_result"
    }
   ],
   "source": [
    "cv_performance_melted = pd.DataFrame(data = np.column_stack((cv_accuracy.mean(), cv_roc_score.mean())),\n",
    "                                    columns = [\"CV Accuracy Score\", \"CV ROC Score\"])\n",
    "cv_performance_melted.style.hide_index()"
   ]
  },
  {
   "cell_type": "markdown",
   "metadata": {},
   "source": [
    "The average cross-validated accuracy score is .977 and the average cross-validated ROC score is .932. This is awesome as it shows that the models were correctly classifying fraud/genuine transcations on the over-sampled data.\n",
    "\n",
    "With ROC and Accuracy scores aside, I believe it is important to also take a look at the confusion matrices for each model."
   ]
  },
  {
   "cell_type": "code",
   "execution_count": 106,
   "metadata": {},
   "outputs": [
    {
     "data": {
      "image/png": "[encoded data removed]",
      "text/plain": [
       "<Figure size 432x288 with 2 Axes>"
      ]
     },
     "metadata": {
      "needs_background": "light"
     },
     "output_type": "display_data"
    },
    {
     "name": "stdout",
     "output_type": "stream",
     "text": [
      "TPR: 0.9777777777777777\n",
      "FPR: 0.0184845050607683\n",
      "FNR: 0.022222222222222223\n"
     ]
    },
    {
     "data": {
      "image/png": "[encoded data removed]",
      "text/plain": [
       "<Figure size 432x288 with 2 Axes>"
      ]
     },
     "metadata": {
      "needs_background": "light"
     },
     "output_type": "display_data"
    },
    {
     "name": "stdout",
     "output_type": "stream",
     "text": [
      "TPR: 0.9555555555555556\n",
      "FPR: 0.018210950017585683\n",
      "FNR: 0.044444444444444446\n"
     ]
    },
    {
     "data": {
      "image/png": "[encoded data removed]",
      "text/plain": [
       "<Figure size 432x288 with 2 Axes>"
      ]
     },
     "metadata": {
      "needs_background": "light"
     },
     "output_type": "display_data"
    },
    {
     "name": "stdout",
     "output_type": "stream",
     "text": [
      "TPR: 0.9777777777777777\n",
      "FPR: 0.07124154910313026\n",
      "FNR: 0.022222222222222223\n"
     ]
    },
    {
     "data": {
      "image/png": "[encoded data removed]",
      "text/plain": [
       "<Figure size 432x288 with 2 Axes>"
      ]
     },
     "metadata": {
      "needs_background": "light"
     },
     "output_type": "display_data"
    },
    {
     "name": "stdout",
     "output_type": "stream",
     "text": [
      "TPR: 0.7954545454545454\n",
      "FPR: 0.028879596701707765\n",
      "FNR: 0.20454545454545456\n"
     ]
    },
    {
     "data": {
      "image/png": "[encoded data removed]",
      "text/plain": [
       "<Figure size 432x288 with 2 Axes>"
      ]
     },
     "metadata": {
      "needs_background": "light"
     },
     "output_type": "display_data"
    },
    {
     "name": "stdout",
     "output_type": "stream",
     "text": [
      "TPR: 0.9318181818181818\n",
      "FPR: 0.01629670157886509\n",
      "FNR: 0.06818181818181818\n"
     ]
    },
    {
     "data": {
      "image/png": "[encoded data removed]",
      "text/plain": [
       "<Figure size 432x288 with 2 Axes>"
      ]
     },
     "metadata": {
      "needs_background": "light"
     },
     "output_type": "display_data"
    },
    {
     "name": "stdout",
     "output_type": "stream",
     "text": [
      "TPR: 0.7954545454545454\n",
      "FPR: 0.018211661716429576\n",
      "FNR: 0.20454545454545456\n"
     ]
    },
    {
     "data": {
      "image/png": "[encoded data removed]",
      "text/plain": [
       "<Figure size 432x288 with 2 Axes>"
      ]
     },
     "metadata": {
      "needs_background": "light"
     },
     "output_type": "display_data"
    },
    {
     "name": "stdout",
     "output_type": "stream",
     "text": [
      "TPR: 0.8636363636363636\n",
      "FPR: 0.02704392684070658\n",
      "FNR: 0.13636363636363635\n"
     ]
    },
    {
     "data": {
      "image/png": "[encoded data removed]",
      "text/plain": [
       "<Figure size 432x288 with 2 Axes>"
      ]
     },
     "metadata": {
      "needs_background": "light"
     },
     "output_type": "display_data"
    },
    {
     "name": "stdout",
     "output_type": "stream",
     "text": [
      "TPR: 0.9318181818181818\n",
      "FPR: 0.02180709707675473\n",
      "FNR: 0.06818181818181818\n"
     ]
    },
    {
     "data": {
      "image/png": "[encoded data removed]",
      "text/plain": [
       "<Figure size 432x288 with 2 Axes>"
      ]
     },
     "metadata": {
      "needs_background": "light"
     },
     "output_type": "display_data"
    },
    {
     "name": "stdout",
     "output_type": "stream",
     "text": [
      "TPR: 0.8181818181818182\n",
      "FPR: 0.004885102391746131\n",
      "FNR: 0.18181818181818182\n"
     ]
    },
    {
     "data": {
      "image/png": "[encoded data removed]",
      "text/plain": [
       "<Figure size 432x288 with 2 Axes>"
      ]
     },
     "metadata": {
      "needs_background": "light"
     },
     "output_type": "display_data"
    },
    {
     "name": "stdout",
     "output_type": "stream",
     "text": [
      "TPR: 0.8181818181818182\n",
      "FPR: 0.0009379396592152572\n",
      "FNR: 0.18181818181818182\n"
     ]
    }
   ],
   "source": [
    "for conf_mtrx in cv_conf_mtrcs:\n",
    "    \n",
    "    tpr = conf_mtrx[1, 1] / conf_mtrx[1, :].sum()\n",
    "    fpr = conf_mtrx[0, 1] / conf_mtrx[0, :].sum()\n",
    "    fnr = conf_mtrx[1, 0] / conf_mtrx[1, :].sum()\n",
    "    conf_mtrx_df = pd.DataFrame(conf_mtrx,\n",
    "                               index = [\"Genuine\", \"Fraud\"],\n",
    "                               columns = [\"Genuine\", \"Fraud\"])\n",
    "    sns.heatmap(conf_mtrx_df, annot = True, fmt = 'g')\n",
    "    plt.show()\n",
    "    print(\"TPR: {0}\\nFPR: {1}\\nFNR: {2}\".format(tpr, fpr, fnr))"
   ]
  },
  {
   "cell_type": "markdown",
   "metadata": {},
   "source": [
    "Looking at the confusion matrices above, our models maintain a relatively high true positive rate. The true positive rate (TPR), can be defined as the rate of detecting true fraudulent transactions.\n",
    "\n",
    "Our models also maintain a very low false positive rate (FPR), which can be defined as the rate of classifying transactions as fraudulent when they are truly genuine.\n",
    "\n",
    "Lastly, our models also maintain a very low false negative rate (FNR), which can be defined as the rate of classifying transactions as genuine when they are truly fraud. This rate is important to have very low in our models as we do not want to be missing over these transactions. It is easier to undo a misclassified fraudulent transaction than a misclassified genuine transaction.\n",
    "\n",
    "Overall from the confusion matrices, I can see that the models mostly are not just predicting the larger class on unseen data meaning our models are not overfit. This is great as these models can be seen to be useful when using on unseen data."
   ]
  },
  {
   "cell_type": "markdown",
   "metadata": {},
   "source": [
    "<h2>Neural Network</h2>\n",
    "\n",
    "For this section, I will be using a Neural Network model to detect fraudulent transactions. I will be using Keras to build the neural network. In order to do so, I will be slightly modifying the original function.\n",
    "\n",
    "For the neural network, I will be using three hidden layers with 16 neurons in each (mean of features + target). For the optimization algorithm, I will be utilizing stochastic gradient descent. Stochastic gradient descent is similar to batch gradient descent, but instead of using the sum of the cost gradient of all examples to update our parameters, we are using the cost gradient of 1 example for each iteration to update our parameters. Stochastic gradient descent significantly improves training time. Lastly, the cost function being used will be binary cross-entropy.\n",
    "\n",
    "Let's update the function now and see how neural networks performs for these tasks."
   ]
  },
  {
   "cell_type": "code",
   "execution_count": 74,
   "metadata": {},
   "outputs": [],
   "source": [
    "def model_data_nn(X, y, n_layers, n_neurons = {}, splits = 10, seed = 27):\n",
    "    \n",
    "    skf = StratifiedKFold(n_splits = splits, random_state = seed)\n",
    "    \n",
    "    cv_accuracy = np.empty((splits))\n",
    "    cv_roc_score = np.empty((splits))\n",
    "    cv_conf_mtrcs = []\n",
    "    \n",
    "    m = X.shape[1]\n",
    "    \n",
    "    for fold, (trn_idx, val_idx) in enumerate(skf.split(X, y), 1):\n",
    "        \n",
    "        start_time = datetime.now()\n",
    "        \n",
    "        Xtrain, Xval = X[trn_idx], X[val_idx]\n",
    "        ytrain, yval = y[trn_idx], y[val_idx]\n",
    "        \n",
    "        sm = SMOTE(random_state = seed, n_jobs = -1)#use all cores\n",
    "        #fit training data to smote algorithm\n",
    "        Xtrain_sm, ytrain_sm = sm.fit_sample(Xtrain, ytrain)\n",
    "        \n",
    "        #model data\n",
    "        model = keras.Sequential()\n",
    "        model.add(keras.layers.InputLayer(input_shape = [m]))\n",
    "        \n",
    "        for i in range(n_layers):\n",
    "            \n",
    "            neurons = n_neurons[i][0]\n",
    "            activation = n_neurons[i][1]\n",
    "            model.add(keras.layers.Dense(neurons, activation = activation))\n",
    "        \n",
    "        model.add(keras.layers.Dense(1, activation = \"sigmoid\")) # sigmoid activation for binary\n",
    "        \n",
    "        model.compile(loss = 'binary_crossentropy',\n",
    "                     optimizer = 'sgd',\n",
    "                     metrics = ['accuracy'])\n",
    "                  \n",
    "        history = model.fit(Xtrain_sm, ytrain_sm, epochs = 10,\n",
    "                           validation_data = (Xval, yval),\n",
    "                           verbose = 0) # fit nn\n",
    "        \n",
    "        predictions = model.predict_classes(Xval) #predict on validation data\n",
    "        accuracy = accuracy_score(yval, predictions)\n",
    "        roc_score = roc_auc_score(yval, predictions)\n",
    "        conf_mtrx = confusion_matrix(yval, predictions)\n",
    "        \n",
    "        cv_accuracy[fold-1] = accuracy\n",
    "        cv_roc_score[fold-1] = roc_score\n",
    "        cv_conf_mtrcs.append(conf_mtrx)\n",
    "        \n",
    "        end_time = datetime.now()\n",
    "        total_time = end_time - start_time\n",
    "        print(\"Completed Fold {0} - Training & Evaluation Time: {1}\".format(fold, total_time))\n",
    "    \n",
    "    return cv_accuracy, cv_roc_score, cv_conf_mtrcs, model"
   ]
  },
  {
   "cell_type": "code",
   "execution_count": 75,
   "metadata": {},
   "outputs": [],
   "source": [
    "n_neurons = {0: [16, \"relu\"],\n",
    "             1: [16, \"relu\"],\n",
    "             2: [16, \"relu\"]}"
   ]
  },
  {
   "cell_type": "code",
   "execution_count": 76,
   "metadata": {},
   "outputs": [
    {
     "name": "stdout",
     "output_type": "stream",
     "text": [
      "Completed Fold 1 - Training & Evaluation Time: 0:01:52.497155\n",
      "Completed Fold 2 - Training & Evaluation Time: 0:01:53.222144\n",
      "Completed Fold 3 - Training & Evaluation Time: 0:02:01.631024\n",
      "Completed Fold 4 - Training & Evaluation Time: 0:02:00.609514\n",
      "Completed Fold 5 - Training & Evaluation Time: 0:01:58.774236\n",
      "Completed Fold 6 - Training & Evaluation Time: 0:02:00.167784\n",
      "Completed Fold 7 - Training & Evaluation Time: 0:01:58.453257\n",
      "Completed Fold 8 - Training & Evaluation Time: 0:01:58.419795\n",
      "Completed Fold 9 - Training & Evaluation Time: 0:01:59.937557\n",
      "Completed Fold 10 - Training & Evaluation Time: 0:01:58.483710\n"
     ]
    }
   ],
   "source": [
    "cv_nn_accuracy, cv_nn_roc_score, cv_nn_conf_mtrcs, final_nn_model = model_data_nn(Xtrain, ytrain, n_layers = 3, n_neurons = n_neurons)"
   ]
  },
  {
   "cell_type": "code",
   "execution_count": 77,
   "metadata": {},
   "outputs": [
    {
     "data": {
      "text/html": [
       "<style  type=\"text/css\" >\n",
       "</style><table id=\"T_9985b0a2_2e55_11ea_8966_60a44c5bb846\" ><thead>    <tr>        <th class=\"col_heading level0 col0\" >Fold</th>        <th class=\"col_heading level0 col1\" >Accuracy Score</th>        <th class=\"col_heading level0 col2\" >ROC Score</th>    </tr></thead><tbody>\n",
       "                <tr>\n",
       "                                <td id=\"T_9985b0a2_2e55_11ea_8966_60a44c5bb846row0_col0\" class=\"data row0 col0\" >1</td>\n",
       "                        <td id=\"T_9985b0a2_2e55_11ea_8966_60a44c5bb846row0_col1\" class=\"data row0 col1\" >0.978661</td>\n",
       "                        <td id=\"T_9985b0a2_2e55_11ea_8966_60a44c5bb846row0_col2\" class=\"data row0 col2\" >0.944946</td>\n",
       "            </tr>\n",
       "            <tr>\n",
       "                                <td id=\"T_9985b0a2_2e55_11ea_8966_60a44c5bb846row1_col0\" class=\"data row1 col0\" >2</td>\n",
       "                        <td id=\"T_9985b0a2_2e55_11ea_8966_60a44c5bb846row1_col1\" class=\"data row1 col1\" >0.9803</td>\n",
       "                        <td id=\"T_9985b0a2_2e55_11ea_8966_60a44c5bb846row1_col2\" class=\"data row1 col2\" >0.790484</td>\n",
       "            </tr>\n",
       "            <tr>\n",
       "                                <td id=\"T_9985b0a2_2e55_11ea_8966_60a44c5bb846row2_col0\" class=\"data row2 col0\" >3</td>\n",
       "                        <td id=\"T_9985b0a2_2e55_11ea_8966_60a44c5bb846row2_col1\" class=\"data row2 col1\" >0.981002</td>\n",
       "                        <td id=\"T_9985b0a2_2e55_11ea_8966_60a44c5bb846row2_col2\" class=\"data row2 col2\" >0.990484</td>\n",
       "            </tr>\n",
       "            <tr>\n",
       "                                <td id=\"T_9985b0a2_2e55_11ea_8966_60a44c5bb846row3_col0\" class=\"data row3 col0\" >4</td>\n",
       "                        <td id=\"T_9985b0a2_2e55_11ea_8966_60a44c5bb846row3_col1\" class=\"data row3 col1\" >0.987945</td>\n",
       "                        <td id=\"T_9985b0a2_2e55_11ea_8966_60a44c5bb846row3_col2\" class=\"data row3 col2\" >0.903209</td>\n",
       "            </tr>\n",
       "            <tr>\n",
       "                                <td id=\"T_9985b0a2_2e55_11ea_8966_60a44c5bb846row4_col0\" class=\"data row4 col0\" >5</td>\n",
       "                        <td id=\"T_9985b0a2_2e55_11ea_8966_60a44c5bb846row4_col1\" class=\"data row4 col1\" >0.985565</td>\n",
       "                        <td id=\"T_9985b0a2_2e55_11ea_8966_60a44c5bb846row4_col2\" class=\"data row4 col2\" >0.947394</td>\n",
       "            </tr>\n",
       "            <tr>\n",
       "                                <td id=\"T_9985b0a2_2e55_11ea_8966_60a44c5bb846row5_col0\" class=\"data row5 col0\" >6</td>\n",
       "                        <td id=\"T_9985b0a2_2e55_11ea_8966_60a44c5bb846row5_col1\" class=\"data row5 col1\" >0.984785</td>\n",
       "                        <td id=\"T_9985b0a2_2e55_11ea_8966_60a44c5bb846row5_col2\" class=\"data row5 col2\" >0.890282</td>\n",
       "            </tr>\n",
       "            <tr>\n",
       "                                <td id=\"T_9985b0a2_2e55_11ea_8966_60a44c5bb846row6_col0\" class=\"data row6 col0\" >7</td>\n",
       "                        <td id=\"T_9985b0a2_2e55_11ea_8966_60a44c5bb846row6_col1\" class=\"data row6 col1\" >0.983965</td>\n",
       "                        <td id=\"T_9985b0a2_2e55_11ea_8966_60a44c5bb846row6_col2\" class=\"data row6 col2\" >0.946593</td>\n",
       "            </tr>\n",
       "            <tr>\n",
       "                                <td id=\"T_9985b0a2_2e55_11ea_8966_60a44c5bb846row7_col0\" class=\"data row7 col0\" >8</td>\n",
       "                        <td id=\"T_9985b0a2_2e55_11ea_8966_60a44c5bb846row7_col1\" class=\"data row7 col1\" >0.988998</td>\n",
       "                        <td id=\"T_9985b0a2_2e55_11ea_8966_60a44c5bb846row7_col2\" class=\"data row7 col2\" >0.892393</td>\n",
       "            </tr>\n",
       "            <tr>\n",
       "                                <td id=\"T_9985b0a2_2e55_11ea_8966_60a44c5bb846row8_col0\" class=\"data row8 col0\" >9</td>\n",
       "                        <td id=\"T_9985b0a2_2e55_11ea_8966_60a44c5bb846row8_col1\" class=\"data row8 col1\" >0.990403</td>\n",
       "                        <td id=\"T_9985b0a2_2e55_11ea_8966_60a44c5bb846row8_col2\" class=\"data row8 col2\" >0.881752</td>\n",
       "            </tr>\n",
       "            <tr>\n",
       "                                <td id=\"T_9985b0a2_2e55_11ea_8966_60a44c5bb846row9_col0\" class=\"data row9 col0\" >10</td>\n",
       "                        <td id=\"T_9985b0a2_2e55_11ea_8966_60a44c5bb846row9_col1\" class=\"data row9 col1\" >0.996645</td>\n",
       "                        <td id=\"T_9985b0a2_2e55_11ea_8966_60a44c5bb846row9_col2\" class=\"data row9 col2\" >0.918911</td>\n",
       "            </tr>\n",
       "    </tbody></table>"
      ],
      "text/plain": [
       "<pandas.io.formats.style.Styler at 0x24d0873ac88>"
      ]
     },
     "execution_count": 77,
     "metadata": {},
     "output_type": "execute_result"
    }
   ],
   "source": [
    "cv_nn_performance = pd.DataFrame(data = np.column_stack((np.arange(1, 11).astype(int), cv_nn_accuracy, cv_nn_roc_score)),\n",
    "                             columns = [\"Fold\", \"Accuracy Score\", \"ROC Score\"])\n",
    "cv_nn_performance.style.hide_index()"
   ]
  },
  {
   "cell_type": "markdown",
   "metadata": {},
   "source": [
    "The table above shows the accuracy and ROC scores for each of the neural nets created. Comparing to the previously created XGBoost models, the neural network models have a higher and more consistent accuracy but have a lower and less consistent ROC score."
   ]
  },
  {
   "cell_type": "code",
   "execution_count": 78,
   "metadata": {},
   "outputs": [
    {
     "data": {
      "text/html": [
       "<style  type=\"text/css\" >\n",
       "</style><table id=\"T_99873706_2e55_11ea_8953_60a44c5bb846\" ><thead>    <tr>        <th class=\"col_heading level0 col0\" >CV Accuracy Score</th>        <th class=\"col_heading level0 col1\" >CV ROC Score</th>    </tr></thead><tbody>\n",
       "                <tr>\n",
       "                                <td id=\"T_99873706_2e55_11ea_8953_60a44c5bb846row0_col0\" class=\"data row0 col0\" >0.985827</td>\n",
       "                        <td id=\"T_99873706_2e55_11ea_8953_60a44c5bb846row0_col1\" class=\"data row0 col1\" >0.910645</td>\n",
       "            </tr>\n",
       "    </tbody></table>"
      ],
      "text/plain": [
       "<pandas.io.formats.style.Styler at 0x24d0873a6d8>"
      ]
     },
     "execution_count": 78,
     "metadata": {},
     "output_type": "execute_result"
    }
   ],
   "source": [
    "cv_nn_performance_melted = pd.DataFrame(data = np.column_stack((cv_nn_accuracy.mean(), cv_nn_roc_score.mean())),\n",
    "                                    columns = [\"CV Accuracy Score\", \"CV ROC Score\"])\n",
    "cv_nn_performance_melted.style.hide_index()"
   ]
  },
  {
   "cell_type": "markdown",
   "metadata": {},
   "source": [
    "The average cross-validated accuracy score is .996 and the average cross-validated ROC score is .913. This is awesome as it shows that the models were correctly classifying fraud/genuine transcations on the over-sampled data. The CV accuracy score for the neural nets is slightly higher than the XGBoost models while the CV ROC score is slightly lower than the XGBoost models.\n",
    "\n",
    "With ROC and Accuracy scores aside, I believe it is important to also take a look at the confusion matrices for each model."
   ]
  },
  {
   "cell_type": "code",
   "execution_count": 103,
   "metadata": {},
   "outputs": [
    {
     "data": {
      "image/png": "[encoded data removed]",
      "text/plain": [
       "<Figure size 432x288 with 2 Axes>"
      ]
     },
     "metadata": {
      "needs_background": "light"
     },
     "output_type": "display_data"
    },
    {
     "name": "stdout",
     "output_type": "stream",
     "text": [
      "TPR: 0.9111111111111111\n",
      "FPR: 0.021220055492594474\n",
      "FNR: 0.08888888888888889\n"
     ]
    },
    {
     "data": {
      "image/png": "[encoded data removed]",
      "text/plain": [
       "<Figure size 432x288 with 2 Axes>"
      ]
     },
     "metadata": {
      "needs_background": "light"
     },
     "output_type": "display_data"
    },
    {
     "name": "stdout",
     "output_type": "stream",
     "text": [
      "TPR: 0.6\n",
      "FPR: 0.019031615147133533\n",
      "FNR: 0.4\n"
     ]
    },
    {
     "data": {
      "image/png": "[encoded data removed]",
      "text/plain": [
       "<Figure size 432x288 with 2 Axes>"
      ]
     },
     "metadata": {
      "needs_background": "light"
     },
     "output_type": "display_data"
    },
    {
     "name": "stdout",
     "output_type": "stream",
     "text": [
      "TPR: 1.0\n",
      "FPR: 0.019031615147133533\n",
      "FNR: 0.0\n"
     ]
    },
    {
     "data": {
      "image/png": "[encoded data removed]",
      "text/plain": [
       "<Figure size 432x288 with 2 Axes>"
      ]
     },
     "metadata": {
      "needs_background": "light"
     },
     "output_type": "display_data"
    },
    {
     "name": "stdout",
     "output_type": "stream",
     "text": [
      "TPR: 0.8181818181818182\n",
      "FPR: 0.011762866856852554\n",
      "FNR: 0.18181818181818182\n"
     ]
    },
    {
     "data": {
      "image/png": "[encoded data removed]",
      "text/plain": [
       "<Figure size 432x288 with 2 Axes>"
      ]
     },
     "metadata": {
      "needs_background": "light"
     },
     "output_type": "display_data"
    },
    {
     "name": "stdout",
     "output_type": "stream",
     "text": [
      "TPR: 0.9090909090909091\n",
      "FPR: 0.014303579803032672\n",
      "FNR: 0.09090909090909091\n"
     ]
    },
    {
     "data": {
      "image/png": "[encoded data removed]",
      "text/plain": [
       "<Figure size 432x288 with 2 Axes>"
      ]
     },
     "metadata": {
      "needs_background": "light"
     },
     "output_type": "display_data"
    },
    {
     "name": "stdout",
     "output_type": "stream",
     "text": [
      "TPR: 0.7954545454545454\n",
      "FPR: 0.014889792090042207\n",
      "FNR: 0.20454545454545456\n"
     ]
    },
    {
     "data": {
      "image/png": "[encoded data removed]",
      "text/plain": [
       "<Figure size 432x288 with 2 Axes>"
      ]
     },
     "metadata": {
      "needs_background": "light"
     },
     "output_type": "display_data"
    },
    {
     "name": "stdout",
     "output_type": "stream",
     "text": [
      "TPR: 0.9090909090909091\n",
      "FPR: 0.0159058933875254\n",
      "FNR: 0.09090909090909091\n"
     ]
    },
    {
     "data": {
      "image/png": "[encoded data removed]",
      "text/plain": [
       "<Figure size 432x288 with 2 Axes>"
      ]
     },
     "metadata": {
      "needs_background": "light"
     },
     "output_type": "display_data"
    },
    {
     "name": "stdout",
     "output_type": "stream",
     "text": [
      "TPR: 0.7954545454545454\n",
      "FPR: 0.01066906362357355\n",
      "FNR: 0.20454545454545456\n"
     ]
    },
    {
     "data": {
      "image/png": "[encoded data removed]",
      "text/plain": [
       "<Figure size 432x288 with 2 Axes>"
      ]
     },
     "metadata": {
      "needs_background": "light"
     },
     "output_type": "display_data"
    },
    {
     "name": "stdout",
     "output_type": "stream",
     "text": [
      "TPR: 0.7727272727272727\n",
      "FPR: 0.009223073315616696\n",
      "FNR: 0.22727272727272727\n"
     ]
    },
    {
     "data": {
      "image/png": "[encoded data removed]",
      "text/plain": [
       "<Figure size 432x288 with 2 Axes>"
      ]
     },
     "metadata": {
      "needs_background": "light"
     },
     "output_type": "display_data"
    },
    {
     "name": "stdout",
     "output_type": "stream",
     "text": [
      "TPR: 0.8409090909090909\n",
      "FPR: 0.003087384711583555\n",
      "FNR: 0.1590909090909091\n"
     ]
    }
   ],
   "source": [
    "for conf_mtrx in cv_nn_conf_mtrcs:\n",
    "    \n",
    "    tpr = conf_mtrx[1, 1] / conf_mtrx[1, :].sum()\n",
    "    fpr = conf_mtrx[0, 1] / conf_mtrx[0, :].sum()\n",
    "    fnr = conf_mtrx[1, 0] / conf_mtrx[1, :].sum()\n",
    "    conf_mtrx_df = pd.DataFrame(conf_mtrx,\n",
    "                               index = [\"Genuine\", \"Fraud\"],\n",
    "                               columns = [\"Genuine\", \"Fraud\"])\n",
    "    sns.heatmap(conf_mtrx_df, annot = True, fmt = 'g')\n",
    "    plt.show()\n",
    "    print(\"TPR: {0}\\nFPR: {1}\\nFNR: {2}\".format(tpr, fpr, fnr))"
   ]
  },
  {
   "cell_type": "markdown",
   "metadata": {},
   "source": [
    "Looking at the confusion matrices above, it is obvious that the neural network model is being outperformed by the XGBoost model on the validaton data. The model is incorrectly misclassifying fraudulent transactions as genuine about 20% of the time, which is no good at all.\n",
    "\n",
    "Overall, I believe that the XGBoost model triumphs the neural network model on the validation data performance (judging by accuracy and roc score as well as confusion matrices). I will push forward to tuning the XGBoost model in order to try and obtain better results.\n",
    "\n",
    "<h2>Tuning XGBoost</h2>\n",
    "\n",
    "For tuning the XGBoost model, I will focus on three parameters in order to shrink the search required. These parameters are:\n",
    "\n",
    "- Learning Rate (ETA) - How quickly the model adapts to the problem\n",
    "- Max Depth - Maximum depth of a trees (controls over-fitting and limits growth of trees)\n",
    "- Gamma - Minimum loss reduction required to make a split (How much does the split need to reduce the loss function to split?)\n",
    "\n",
    "For the search, I will be using a grid search to check all possible parameter combinations. I will tune the paramaters on the full training data set that has been resampled using SMOTE, then utilize the best parameters on the function created previously to see how the tuned model performs. The parameters will be tuned utilizing cross-validation and scored on area under the ROC curve."
   ]
  },
  {
   "cell_type": "code",
   "execution_count": 80,
   "metadata": {},
   "outputs": [
    {
     "name": "stdout",
     "output_type": "stream",
     "text": [
      "Fitting 3 folds for each of 18 candidates, totalling 54 fits\n"
     ]
    },
    {
     "name": "stderr",
     "output_type": "stream",
     "text": [
      "[Parallel(n_jobs=-1)]: Using backend LokyBackend with 8 concurrent workers.\n",
      "[Parallel(n_jobs=-1)]: Done   2 tasks      | elapsed:  5.4min\n",
      "[Parallel(n_jobs=-1)]: Done  50 out of  54 | elapsed: 43.0min remaining:  3.4min\n",
      "[Parallel(n_jobs=-1)]: Done  54 out of  54 | elapsed: 44.4min finished\n"
     ]
    },
    {
     "data": {
      "text/plain": [
       "GridSearchCV(cv=3, error_score='raise-deprecating',\n",
       "             estimator=XGBClassifier(base_score=0.5, booster='gbtree',\n",
       "                                     colsample_bylevel=1, colsample_bynode=1,\n",
       "                                     colsample_bytree=1, gamma=0,\n",
       "                                     learning_rate=0.1, max_delta_step=0,\n",
       "                                     max_depth=3, min_child_weight=1,\n",
       "                                     missing=None, n_estimators=100, n_jobs=1,\n",
       "                                     nthread=None, objective='binary:logistic',\n",
       "                                     random_state=0, reg_alpha=0, reg_lambda=1,\n",
       "                                     scale_pos_weight=1, seed=None, silent=None,\n",
       "                                     subsample=1, verbosity=1),\n",
       "             iid='warn', n_jobs=-1,\n",
       "             param_grid={'gamma': [0, 0.25, 0.5], 'learning_rate': [0.01, 0.1],\n",
       "                         'max_depth': [4, 5, 6]},\n",
       "             pre_dispatch='2*n_jobs', refit=True, return_train_score=False,\n",
       "             scoring='roc_auc', verbose=5)"
      ]
     },
     "execution_count": 80,
     "metadata": {},
     "output_type": "execute_result"
    }
   ],
   "source": [
    "xg_params = {\n",
    "    'learning_rate' : [0.01, .1], # optimal learning rates\n",
    "    'max_depth' : [4, 5, 6], # optimal max depths of trees\n",
    "    'gamma' : [0, .25, .5] # optimal min loss\n",
    "}\n",
    "\n",
    "tune_smote = SMOTE(random_state = 27, n_jobs = -1)\n",
    "Xtrain_sm_tune, ytrain_sm_tune = tune_smote.fit_sample(Xtrain, ytrain)\n",
    "\n",
    "xgb_gs = GridSearchCV(xgb.XGBClassifier(), param_grid = xg_params,\n",
    "                     scoring = 'roc_auc', n_jobs = -1, cv = 3, verbose = 5)\n",
    "xgb_gs.fit(Xtrain_sm_tune, ytrain_sm_tune)"
   ]
  },
  {
   "cell_type": "markdown",
   "metadata": {},
   "source": [
    "The above code has fit 54 total models, which consists of 18 parameter combinations fit three times each through cross-validation.\n",
    "\n",
    "I will be reviewing the performance of each parameter combination before choosing the best parameters.\n",
    "\n",
    "Note that the models were being measured by AUC ROC performance, not accuracy."
   ]
  },
  {
   "cell_type": "code",
   "execution_count": 81,
   "metadata": {},
   "outputs": [
    {
     "name": "stdout",
     "output_type": "stream",
     "text": [
      "Mean Accuracy : 0.6496711788029843   Params: {'gamma': 0, 'learning_rate': 0.01, 'max_depth': 4}\n",
      "Mean Accuracy : 0.6508162397423735   Params: {'gamma': 0, 'learning_rate': 0.01, 'max_depth': 5}\n",
      "Mean Accuracy : 0.6461437056367499   Params: {'gamma': 0, 'learning_rate': 0.01, 'max_depth': 6}\n",
      "Mean Accuracy : 0.9629802437626327   Params: {'gamma': 0, 'learning_rate': 0.1, 'max_depth': 4}\n",
      "Mean Accuracy : 0.9684861226710634   Params: {'gamma': 0, 'learning_rate': 0.1, 'max_depth': 5}\n",
      "Mean Accuracy : 0.968232773229839   Params: {'gamma': 0, 'learning_rate': 0.1, 'max_depth': 6}\n",
      "Mean Accuracy : 0.6495910975023326   Params: {'gamma': 0.25, 'learning_rate': 0.01, 'max_depth': 4}\n",
      "Mean Accuracy : 0.650670247717843   Params: {'gamma': 0.25, 'learning_rate': 0.01, 'max_depth': 5}\n",
      "Mean Accuracy : 0.6462206589868608   Params: {'gamma': 0.25, 'learning_rate': 0.01, 'max_depth': 6}\n",
      "Mean Accuracy : 0.9630350161498038   Params: {'gamma': 0.25, 'learning_rate': 0.1, 'max_depth': 4}\n",
      "Mean Accuracy : 0.9650029405056108   Params: {'gamma': 0.25, 'learning_rate': 0.1, 'max_depth': 5}\n",
      "Mean Accuracy : 0.9688278121954405   Params: {'gamma': 0.25, 'learning_rate': 0.1, 'max_depth': 6}\n",
      "Mean Accuracy : 0.6495910975023326   Params: {'gamma': 0.5, 'learning_rate': 0.01, 'max_depth': 4}\n",
      "Mean Accuracy : 0.6506538679495835   Params: {'gamma': 0.5, 'learning_rate': 0.01, 'max_depth': 5}\n",
      "Mean Accuracy : 0.64671017459521   Params: {'gamma': 0.5, 'learning_rate': 0.01, 'max_depth': 6}\n",
      "Mean Accuracy : 0.9644205080566024   Params: {'gamma': 0.5, 'learning_rate': 0.1, 'max_depth': 4}\n",
      "Mean Accuracy : 0.9656001566414385   Params: {'gamma': 0.5, 'learning_rate': 0.1, 'max_depth': 5}\n",
      "Mean Accuracy : 0.9719382100591739   Params: {'gamma': 0.5, 'learning_rate': 0.1, 'max_depth': 6}\n"
     ]
    }
   ],
   "source": [
    "xgb_gs_results = xgb_gs.cv_results_\n",
    "\n",
    "for mean_test_score, params in zip(xgb_gs_results[\"mean_test_score\"], xgb_gs_results[\"params\"]):\n",
    "    print(\"Mean Accuracy : {0}   Params: {1}\".format(mean_test_score, params))"
   ]
  },
  {
   "cell_type": "markdown",
   "metadata": {},
   "source": [
    "Looking at the output above, I can see right away that a learning rate of .01 is too small, as it yields poor performance when compared to a larger learning rate of .10. There also seems to be higher performance in a larger gamma value, as well as higher performance in a larger max depth.\n",
    "\n",
    "Let's take a look at the parameters that yielded the highest mean AUC ROC score."
   ]
  },
  {
   "cell_type": "code",
   "execution_count": 82,
   "metadata": {},
   "outputs": [
    {
     "data": {
      "text/plain": [
       "{'gamma': 0.5, 'learning_rate': 0.1, 'max_depth': 6}"
      ]
     },
     "execution_count": 82,
     "metadata": {},
     "output_type": "execute_result"
    }
   ],
   "source": [
    "xgb_gs.best_params_"
   ]
  },
  {
   "cell_type": "markdown",
   "metadata": {},
   "source": [
    "So, the best parameters as seen above are a gamma of 0.5, a learning rate of 0.1, and a max depth of 6. Our data seems to be performing better on trees that have a higher required loss reduction in order to split, a deeper tree, and a faster converging learning rate. The trees being built in this XGBoost model therefore due to these parameters.\n",
    "\n",
    "I will now return to the original model building function, and utilize these tuned parameters to see how this model performs compared to the original and the neural network. After the models are created and evaluated to ensure similar performance to above, I will then build the final model with all training data and validate it on the unseen test data."
   ]
  },
  {
   "cell_type": "code",
   "execution_count": 83,
   "metadata": {},
   "outputs": [
    {
     "name": "stdout",
     "output_type": "stream",
     "text": [
      "Completed Fold 1 - Training & Evaluation Time: 0:01:24.865983\n",
      "Completed Fold 2 - Training & Evaluation Time: 0:01:25.445711\n",
      "Completed Fold 3 - Training & Evaluation Time: 0:01:25.537345\n",
      "Completed Fold 4 - Training & Evaluation Time: 0:01:25.452838\n",
      "Completed Fold 5 - Training & Evaluation Time: 0:01:26.202958\n",
      "Completed Fold 6 - Training & Evaluation Time: 0:01:28.974262\n",
      "Completed Fold 7 - Training & Evaluation Time: 0:01:26.603850\n",
      "Completed Fold 8 - Training & Evaluation Time: 0:01:25.973692\n",
      "Completed Fold 9 - Training & Evaluation Time: 0:01:24.373061\n",
      "Completed Fold 10 - Training & Evaluation Time: 0:01:24.663298\n"
     ]
    }
   ],
   "source": [
    "cv_tuned_accuracy, cv_tuned_roc_score, cv_tuned_conf_mtrcs, final_tuned_model = model_data(Xtrain, ytrain,\n",
    "                                                                                    model = xgb.XGBClassifier(max_depth = 6,\n",
    "                                                                                                             learning_rate = 0.1,\n",
    "                                                                                                             gamma = 0.5,\n",
    "                                                                                                             nthread = 4))"
   ]
  },
  {
   "cell_type": "code",
   "execution_count": 84,
   "metadata": {},
   "outputs": [
    {
     "data": {
      "text/html": [
       "<style  type=\"text/css\" >\n",
       "</style><table id=\"T_89bd2db6_2e5e_11ea_803e_60a44c5bb846\" ><thead>    <tr>        <th class=\"col_heading level0 col0\" >Fold</th>        <th class=\"col_heading level0 col1\" >Accuracy Score</th>        <th class=\"col_heading level0 col2\" >ROC Score</th>    </tr></thead><tbody>\n",
       "                <tr>\n",
       "                                <td id=\"T_89bd2db6_2e5e_11ea_803e_60a44c5bb846row0_col0\" class=\"data row0 col0\" >1</td>\n",
       "                        <td id=\"T_89bd2db6_2e5e_11ea_803e_60a44c5bb846row0_col1\" class=\"data row0 col1\" >0.994304</td>\n",
       "                        <td id=\"T_89bd2db6_2e5e_11ea_803e_60a44c5bb846row0_col2\" class=\"data row0 col2\" >0.952781</td>\n",
       "            </tr>\n",
       "            <tr>\n",
       "                                <td id=\"T_89bd2db6_2e5e_11ea_803e_60a44c5bb846row1_col0\" class=\"data row1 col0\" >2</td>\n",
       "                        <td id=\"T_89bd2db6_2e5e_11ea_803e_60a44c5bb846row1_col1\" class=\"data row1 col1\" >0.991145</td>\n",
       "                        <td id=\"T_89bd2db6_2e5e_11ea_803e_60a44c5bb846row1_col2\" class=\"data row1 col2\" >0.740458</td>\n",
       "            </tr>\n",
       "            <tr>\n",
       "                                <td id=\"T_89bd2db6_2e5e_11ea_803e_60a44c5bb846row2_col0\" class=\"data row2 col0\" >3</td>\n",
       "                        <td id=\"T_89bd2db6_2e5e_11ea_803e_60a44c5bb846row2_col1\" class=\"data row2 col1\" >0.952836</td>\n",
       "                        <td id=\"T_89bd2db6_2e5e_11ea_803e_60a44c5bb846row2_col2\" class=\"data row2 col2\" >0.954193</td>\n",
       "            </tr>\n",
       "            <tr>\n",
       "                                <td id=\"T_89bd2db6_2e5e_11ea_803e_60a44c5bb846row3_col0\" class=\"data row3 col0\" >4</td>\n",
       "                        <td id=\"T_89bd2db6_2e5e_11ea_803e_60a44c5bb846row3_col1\" class=\"data row3 col1\" >0.994031</td>\n",
       "                        <td id=\"T_89bd2db6_2e5e_11ea_803e_60a44c5bb846row3_col2\" class=\"data row3 col2\" >0.894914</td>\n",
       "            </tr>\n",
       "            <tr>\n",
       "                                <td id=\"T_89bd2db6_2e5e_11ea_803e_60a44c5bb846row4_col0\" class=\"data row4 col0\" >5</td>\n",
       "                        <td id=\"T_89bd2db6_2e5e_11ea_803e_60a44c5bb846row4_col1\" class=\"data row4 col1\" >0.995084</td>\n",
       "                        <td id=\"T_89bd2db6_2e5e_11ea_803e_60a44c5bb846row4_col2\" class=\"data row4 col2\" >0.952162</td>\n",
       "            </tr>\n",
       "            <tr>\n",
       "                                <td id=\"T_89bd2db6_2e5e_11ea_803e_60a44c5bb846row5_col0\" class=\"data row5 col0\" >6</td>\n",
       "                        <td id=\"T_89bd2db6_2e5e_11ea_803e_60a44c5bb846row5_col1\" class=\"data row5 col1\" >0.994343</td>\n",
       "                        <td id=\"T_89bd2db6_2e5e_11ea_803e_60a44c5bb846row5_col2\" class=\"data row5 col2\" >0.883726</td>\n",
       "            </tr>\n",
       "            <tr>\n",
       "                                <td id=\"T_89bd2db6_2e5e_11ea_803e_60a44c5bb846row6_col0\" class=\"data row6 col0\" >7</td>\n",
       "                        <td id=\"T_89bd2db6_2e5e_11ea_803e_60a44c5bb846row6_col1\" class=\"data row6 col1\" >0.988491</td>\n",
       "                        <td id=\"T_89bd2db6_2e5e_11ea_803e_60a44c5bb846row6_col2\" class=\"data row6 col2\" >0.926171</td>\n",
       "            </tr>\n",
       "            <tr>\n",
       "                                <td id=\"T_89bd2db6_2e5e_11ea_803e_60a44c5bb846row7_col0\" class=\"data row7 col0\" >8</td>\n",
       "                        <td id=\"T_89bd2db6_2e5e_11ea_803e_60a44c5bb846row7_col1\" class=\"data row7 col1\" >0.996723</td>\n",
       "                        <td id=\"T_89bd2db6_2e5e_11ea_803e_60a44c5bb846row7_col2\" class=\"data row7 col2\" >0.941638</td>\n",
       "            </tr>\n",
       "            <tr>\n",
       "                                <td id=\"T_89bd2db6_2e5e_11ea_803e_60a44c5bb846row8_col0\" class=\"data row8 col0\" >9</td>\n",
       "                        <td id=\"T_89bd2db6_2e5e_11ea_803e_60a44c5bb846row8_col1\" class=\"data row8 col1\" >0.998791</td>\n",
       "                        <td id=\"T_89bd2db6_2e5e_11ea_803e_60a44c5bb846row8_col2\" class=\"data row8 col2\" >0.897297</td>\n",
       "            </tr>\n",
       "            <tr>\n",
       "                                <td id=\"T_89bd2db6_2e5e_11ea_803e_60a44c5bb846row9_col0\" class=\"data row9 col0\" >10</td>\n",
       "                        <td id=\"T_89bd2db6_2e5e_11ea_803e_60a44c5bb846row9_col1\" class=\"data row9 col1\" >0.999532</td>\n",
       "                        <td id=\"T_89bd2db6_2e5e_11ea_803e_60a44c5bb846row9_col2\" class=\"data row9 col2\" >0.886325</td>\n",
       "            </tr>\n",
       "    </tbody></table>"
      ],
      "text/plain": [
       "<pandas.io.formats.style.Styler at 0x24d0873d048>"
      ]
     },
     "execution_count": 84,
     "metadata": {},
     "output_type": "execute_result"
    }
   ],
   "source": [
    "cv_tuned_performance = pd.DataFrame(data = np.column_stack((np.arange(1, 11).astype(int), cv_tuned_accuracy, cv_tuned_roc_score)),\n",
    "                             columns = [\"Fold\", \"Accuracy Score\", \"ROC Score\"])\n",
    "\n",
    "cv_tuned_performance.style.hide_index()"
   ]
  },
  {
   "cell_type": "markdown",
   "metadata": {},
   "source": [
    "Looking at the table above, I can see right away that the accuracy has increased somewhat, while the ROC scores look relatively the same compared to the original XGBoost model.\n",
    "\n",
    "I will now check the mean CV scores and see how they compare."
   ]
  },
  {
   "cell_type": "code",
   "execution_count": 85,
   "metadata": {},
   "outputs": [
    {
     "data": {
      "text/html": [
       "<style  type=\"text/css\" >\n",
       "</style><table id=\"T_89beb412_2e5e_11ea_8e61_60a44c5bb846\" ><thead>    <tr>        <th class=\"col_heading level0 col0\" >CV Accuracy Score</th>        <th class=\"col_heading level0 col1\" >CV ROC Score</th>    </tr></thead><tbody>\n",
       "                <tr>\n",
       "                                <td id=\"T_89beb412_2e5e_11ea_8e61_60a44c5bb846row0_col0\" class=\"data row0 col0\" >0.990528</td>\n",
       "                        <td id=\"T_89beb412_2e5e_11ea_8e61_60a44c5bb846row0_col1\" class=\"data row0 col1\" >0.902966</td>\n",
       "            </tr>\n",
       "    </tbody></table>"
      ],
      "text/plain": [
       "<pandas.io.formats.style.Styler at 0x24d0873bdd8>"
      ]
     },
     "execution_count": 85,
     "metadata": {},
     "output_type": "execute_result"
    }
   ],
   "source": [
    "cv_tuned_performance_melted = pd.DataFrame(data = np.column_stack((cv_tuned_accuracy.mean(), cv_tuned_roc_score.mean())),\n",
    "                                    columns = [\"CV Accuracy Score\", \"CV ROC Score\"])\n",
    "cv_tuned_performance_melted.style.hide_index()"
   ]
  },
  {
   "cell_type": "markdown",
   "metadata": {},
   "source": [
    "The mean cross-validated accuracy has increased by about 2% compared to the original XGBoost model, while the cross-validated ROC score has decreased by about 3%. These numbers look suprisingly similar to the neural network.\n",
    "\n",
    "Let's take a look at the confusion matrices and various rates."
   ]
  },
  {
   "cell_type": "code",
   "execution_count": 104,
   "metadata": {},
   "outputs": [
    {
     "data": {
      "image/png": "[encoded data removed]",
      "text/plain": [
       "<Figure size 432x288 with 2 Axes>"
      ]
     },
     "metadata": {
      "needs_background": "light"
     },
     "output_type": "display_data"
    },
    {
     "name": "stdout",
     "output_type": "stream",
     "text": [
      "TPR: 0.9111111111111111\n",
      "FPR: 0.005549259447418813\n",
      "FNR: 0.08888888888888889\n"
     ]
    },
    {
     "data": {
      "image/png": "[encoded data removed]",
      "text/plain": [
       "<Figure size 432x288 with 2 Axes>"
      ]
     },
     "metadata": {
      "needs_background": "light"
     },
     "output_type": "display_data"
    },
    {
     "name": "stdout",
     "output_type": "stream",
     "text": [
      "TPR: 0.4888888888888889\n",
      "FPR: 0.007972175544179139\n",
      "FNR: 0.5111111111111111\n"
     ]
    },
    {
     "data": {
      "image/png": "[encoded data removed]",
      "text/plain": [
       "<Figure size 432x288 with 2 Axes>"
      ]
     },
     "metadata": {
      "needs_background": "light"
     },
     "output_type": "display_data"
    },
    {
     "name": "stdout",
     "output_type": "stream",
     "text": [
      "TPR: 0.9555555555555556\n",
      "FPR: 0.04716870530305991\n",
      "FNR: 0.044444444444444446\n"
     ]
    },
    {
     "data": {
      "image/png": "[encoded data removed]",
      "text/plain": [
       "<Figure size 432x288 with 2 Axes>"
      ]
     },
     "metadata": {
      "needs_background": "light"
     },
     "output_type": "display_data"
    },
    {
     "name": "stdout",
     "output_type": "stream",
     "text": [
      "TPR: 0.7954545454545454\n",
      "FPR: 0.005627418031185275\n",
      "FNR: 0.20454545454545456\n"
     ]
    },
    {
     "data": {
      "image/png": "[encoded data removed]",
      "text/plain": [
       "<Figure size 432x288 with 2 Axes>"
      ]
     },
     "metadata": {
      "needs_background": "light"
     },
     "output_type": "display_data"
    },
    {
     "name": "stdout",
     "output_type": "stream",
     "text": [
      "TPR: 0.9090909090909091\n",
      "FPR: 0.004767859934344224\n",
      "FNR: 0.09090909090909091\n"
     ]
    },
    {
     "data": {
      "image/png": "[encoded data removed]",
      "text/plain": [
       "<Figure size 432x288 with 2 Axes>"
      ]
     },
     "metadata": {
      "needs_background": "light"
     },
     "output_type": "display_data"
    },
    {
     "name": "stdout",
     "output_type": "stream",
     "text": [
      "TPR: 0.7727272727272727\n",
      "FPR: 0.005275910583085822\n",
      "FNR: 0.22727272727272727\n"
     ]
    },
    {
     "data": {
      "image/png": "[encoded data removed]",
      "text/plain": [
       "<Figure size 432x288 with 2 Axes>"
      ]
     },
     "metadata": {
      "needs_background": "light"
     },
     "output_type": "display_data"
    },
    {
     "name": "stdout",
     "output_type": "stream",
     "text": [
      "TPR: 0.8636363636363636\n",
      "FPR: 0.011294356729717054\n",
      "FNR: 0.13636363636363635\n"
     ]
    },
    {
     "data": {
      "image/png": "[encoded data removed]",
      "text/plain": [
       "<Figure size 432x288 with 2 Axes>"
      ]
     },
     "metadata": {
      "needs_background": "light"
     },
     "output_type": "display_data"
    },
    {
     "name": "stdout",
     "output_type": "stream",
     "text": [
      "TPR: 0.8863636363636364\n",
      "FPR: 0.003087384711583555\n",
      "FNR: 0.11363636363636363\n"
     ]
    },
    {
     "data": {
      "image/png": "[encoded data removed]",
      "text/plain": [
       "<Figure size 432x288 with 2 Axes>"
      ]
     },
     "metadata": {
      "needs_background": "light"
     },
     "output_type": "display_data"
    },
    {
     "name": "stdout",
     "output_type": "stream",
     "text": [
      "TPR: 0.7954545454545454\n",
      "FPR: 0.000859778020947319\n",
      "FNR: 0.20454545454545456\n"
     ]
    },
    {
     "data": {
      "image/png": "[encoded data removed]",
      "text/plain": [
       "<Figure size 432x288 with 2 Axes>"
      ]
     },
     "metadata": {
      "needs_background": "light"
     },
     "output_type": "display_data"
    },
    {
     "name": "stdout",
     "output_type": "stream",
     "text": [
      "TPR: 0.7727272727272727\n",
      "FPR: 7.81616382679381e-05\n",
      "FNR: 0.22727272727272727\n"
     ]
    }
   ],
   "source": [
    "for conf_mtrx in cv_tuned_conf_mtrcs:\n",
    "    \n",
    "    tpr = conf_mtrx[1, 1] / conf_mtrx[1, :].sum()\n",
    "    fpr = conf_mtrx[0, 1] / conf_mtrx[0, :].sum()\n",
    "    fnr = conf_mtrx[1, 0] / conf_mtrx[1, :].sum()\n",
    "    conf_mtrx_df = pd.DataFrame(conf_mtrx,\n",
    "                               index = [\"Genuine\", \"Fraud\"],\n",
    "                               columns = [\"Genuine\", \"Fraud\"])\n",
    "    sns.heatmap(conf_mtrx_df, annot = True, fmt = 'g')\n",
    "    plt.show()\n",
    "    print(\"TPR: {0}\\nFPR: {1}\\nFNR: {2}\".format(tpr, fpr, fnr))"
   ]
  },
  {
   "cell_type": "markdown",
   "metadata": {},
   "source": [
    "Looking at the confusion matrices, our results look very similar to the original XGBoost models. There seems to be no overfitting, which is good for this case. However, the results in this case are slightly less favorable than the original XGBoost model, leaving me to determine that model is the better choice for final selection out of the given models.\n",
    "\n",
    "One last algorithm I would like to try before deciding completely on the final model to train and evaluate is logistic regression. Due to the data being ran through PCA, it could be possible that it is more linearly seperable now.\n",
    "\n",
    "<h2>Logistic Regression</h2>"
   ]
  },
  {
   "cell_type": "code",
   "execution_count": 88,
   "metadata": {},
   "outputs": [
    {
     "name": "stdout",
     "output_type": "stream",
     "text": [
      "Completed Fold 1 - Training & Evaluation Time: 0:00:16.254520\n",
      "Completed Fold 2 - Training & Evaluation Time: 0:00:12.871079\n",
      "Completed Fold 3 - Training & Evaluation Time: 0:00:13.642320\n",
      "Completed Fold 4 - Training & Evaluation Time: 0:00:16.555146\n",
      "Completed Fold 5 - Training & Evaluation Time: 0:00:17.785520\n",
      "Completed Fold 6 - Training & Evaluation Time: 0:00:22.441679\n",
      "Completed Fold 7 - Training & Evaluation Time: 0:00:14.316609\n",
      "Completed Fold 8 - Training & Evaluation Time: 0:00:13.519666\n",
      "Completed Fold 9 - Training & Evaluation Time: 0:00:13.935145\n",
      "Completed Fold 10 - Training & Evaluation Time: 0:00:14.734513\n"
     ]
    }
   ],
   "source": [
    "model = LogisticRegression(max_iter = 500, random_state = 27, solver = 'lbfgs', n_jobs = -1)\n",
    "cv_lr_accuracy, cv_lr_roc_score, cv_lr_conf_mtrcs, lr_model = model_data(Xtrain, ytrain, model = model)"
   ]
  },
  {
   "cell_type": "markdown",
   "metadata": {},
   "source": [
    "Training aside, let's see how the models perform on the validation data."
   ]
  },
  {
   "cell_type": "code",
   "execution_count": 89,
   "metadata": {},
   "outputs": [
    {
     "data": {
      "text/html": [
       "<style  type=\"text/css\" >\n",
       "</style><table id=\"T_ef7bdb58_2e5e_11ea_a96e_60a44c5bb846\" ><thead>    <tr>        <th class=\"col_heading level0 col0\" >Fold</th>        <th class=\"col_heading level0 col1\" >Accuracy Score</th>        <th class=\"col_heading level0 col2\" >ROC Score</th>    </tr></thead><tbody>\n",
       "                <tr>\n",
       "                                <td id=\"T_ef7bdb58_2e5e_11ea_a96e_60a44c5bb846row0_col0\" class=\"data row0 col0\" >1</td>\n",
       "                        <td id=\"T_ef7bdb58_2e5e_11ea_a96e_60a44c5bb846row0_col1\" class=\"data row0 col1\" >0.910275</td>\n",
       "                        <td id=\"T_ef7bdb58_2e5e_11ea_a96e_60a44c5bb846row0_col2\" class=\"data row0 col2\" >0.955059</td>\n",
       "            </tr>\n",
       "            <tr>\n",
       "                                <td id=\"T_ef7bdb58_2e5e_11ea_a96e_60a44c5bb846row1_col0\" class=\"data row1 col0\" >2</td>\n",
       "                        <td id=\"T_ef7bdb58_2e5e_11ea_a96e_60a44c5bb846row1_col1\" class=\"data row1 col1\" >0.961262</td>\n",
       "                        <td id=\"T_ef7bdb58_2e5e_11ea_a96e_60a44c5bb846row1_col2\" class=\"data row1 col2\" >0.780949</td>\n",
       "            </tr>\n",
       "            <tr>\n",
       "                                <td id=\"T_ef7bdb58_2e5e_11ea_a96e_60a44c5bb846row2_col0\" class=\"data row2 col0\" >3</td>\n",
       "                        <td id=\"T_ef7bdb58_2e5e_11ea_a96e_60a44c5bb846row2_col1\" class=\"data row2 col1\" >0.971288</td>\n",
       "                        <td id=\"T_ef7bdb58_2e5e_11ea_a96e_60a44c5bb846row2_col2\" class=\"data row2 col2\" >0.985619</td>\n",
       "            </tr>\n",
       "            <tr>\n",
       "                                <td id=\"T_ef7bdb58_2e5e_11ea_a96e_60a44c5bb846row3_col0\" class=\"data row3 col0\" >4</td>\n",
       "                        <td id=\"T_ef7bdb58_2e5e_11ea_a96e_60a44c5bb846row3_col1\" class=\"data row3 col1\" >0.985019</td>\n",
       "                        <td id=\"T_ef7bdb58_2e5e_11ea_a96e_60a44c5bb846row3_col2\" class=\"data row3 col2\" >0.901744</td>\n",
       "            </tr>\n",
       "            <tr>\n",
       "                                <td id=\"T_ef7bdb58_2e5e_11ea_a96e_60a44c5bb846row4_col0\" class=\"data row4 col0\" >5</td>\n",
       "                        <td id=\"T_ef7bdb58_2e5e_11ea_a96e_60a44c5bb846row4_col1\" class=\"data row4 col1\" >0.983809</td>\n",
       "                        <td id=\"T_ef7bdb58_2e5e_11ea_a96e_60a44c5bb846row4_col2\" class=\"data row4 col2\" >0.946514</td>\n",
       "            </tr>\n",
       "            <tr>\n",
       "                                <td id=\"T_ef7bdb58_2e5e_11ea_a96e_60a44c5bb846row5_col0\" class=\"data row5 col0\" >6</td>\n",
       "                        <td id=\"T_ef7bdb58_2e5e_11ea_a96e_60a44c5bb846row5_col1\" class=\"data row5 col1\" >0.980454</td>\n",
       "                        <td id=\"T_ef7bdb58_2e5e_11ea_a96e_60a44c5bb846row5_col2\" class=\"data row5 col2\" >0.888113</td>\n",
       "            </tr>\n",
       "            <tr>\n",
       "                                <td id=\"T_ef7bdb58_2e5e_11ea_a96e_60a44c5bb846row6_col0\" class=\"data row6 col0\" >7</td>\n",
       "                        <td id=\"T_ef7bdb58_2e5e_11ea_a96e_60a44c5bb846row6_col1\" class=\"data row6 col1\" >0.976826</td>\n",
       "                        <td id=\"T_ef7bdb58_2e5e_11ea_a96e_60a44c5bb846row6_col2\" class=\"data row6 col2\" >0.977049</td>\n",
       "            </tr>\n",
       "            <tr>\n",
       "                                <td id=\"T_ef7bdb58_2e5e_11ea_a96e_60a44c5bb846row7_col0\" class=\"data row7 col0\" >8</td>\n",
       "                        <td id=\"T_ef7bdb58_2e5e_11ea_a96e_60a44c5bb846row7_col1\" class=\"data row7 col1\" >0.973705</td>\n",
       "                        <td id=\"T_ef7bdb58_2e5e_11ea_a96e_60a44c5bb846row7_col2\" class=\"data row7 col2\" >0.952797</td>\n",
       "            </tr>\n",
       "            <tr>\n",
       "                                <td id=\"T_ef7bdb58_2e5e_11ea_a96e_60a44c5bb846row8_col0\" class=\"data row8 col0\" >9</td>\n",
       "                        <td id=\"T_ef7bdb58_2e5e_11ea_a96e_60a44c5bb846row8_col1\" class=\"data row8 col1\" >0.987321</td>\n",
       "                        <td id=\"T_ef7bdb58_2e5e_11ea_a96e_60a44c5bb846row8_col2\" class=\"data row8 col2\" >0.925585</td>\n",
       "            </tr>\n",
       "            <tr>\n",
       "                                <td id=\"T_ef7bdb58_2e5e_11ea_a96e_60a44c5bb846row9_col0\" class=\"data row9 col0\" >10</td>\n",
       "                        <td id=\"T_ef7bdb58_2e5e_11ea_a96e_60a44c5bb846row9_col1\" class=\"data row9 col1\" >0.987438</td>\n",
       "                        <td id=\"T_ef7bdb58_2e5e_11ea_a96e_60a44c5bb846row9_col2\" class=\"data row9 col2\" >0.959676</td>\n",
       "            </tr>\n",
       "    </tbody></table>"
      ],
      "text/plain": [
       "<pandas.io.formats.style.Styler at 0x24d0f721e48>"
      ]
     },
     "execution_count": 89,
     "metadata": {},
     "output_type": "execute_result"
    }
   ],
   "source": [
    "cv_lr_performance = pd.DataFrame(data = np.column_stack((np.arange(1, 11).astype(int), cv_lr_accuracy, cv_lr_roc_score)),\n",
    "                             columns = [\"Fold\", \"Accuracy Score\", \"ROC Score\"])\n",
    "\n",
    "cv_lr_performance.style.hide_index()"
   ]
  },
  {
   "cell_type": "markdown",
   "metadata": {},
   "source": [
    "Looking at the table above, the logistic regression models seem to be performing very favorable on the validation data, both in accuracy and ROC scores. These scores are on par if not better than the original XGBoost model, but I will verify this by comparing mean scores."
   ]
  },
  {
   "cell_type": "code",
   "execution_count": 90,
   "metadata": {},
   "outputs": [
    {
     "data": {
      "text/html": [
       "<style  type=\"text/css\" >\n",
       "</style><table id=\"T_ef7dd6dc_2e5e_11ea_ac92_60a44c5bb846\" ><thead>    <tr>        <th class=\"col_heading level0 col0\" >CV Accuracy Score</th>        <th class=\"col_heading level0 col1\" >CV ROC Score</th>    </tr></thead><tbody>\n",
       "                <tr>\n",
       "                                <td id=\"T_ef7dd6dc_2e5e_11ea_ac92_60a44c5bb846row0_col0\" class=\"data row0 col0\" >0.97174</td>\n",
       "                        <td id=\"T_ef7dd6dc_2e5e_11ea_ac92_60a44c5bb846row0_col1\" class=\"data row0 col1\" >0.927311</td>\n",
       "            </tr>\n",
       "    </tbody></table>"
      ],
      "text/plain": [
       "<pandas.io.formats.style.Styler at 0x24d07196b00>"
      ]
     },
     "execution_count": 90,
     "metadata": {},
     "output_type": "execute_result"
    }
   ],
   "source": [
    "cv_lr_performance_melted = pd.DataFrame(data = np.column_stack((cv_lr_accuracy.mean(), cv_lr_roc_score.mean())),\n",
    "                                    columns = [\"CV Accuracy Score\", \"CV ROC Score\"])\n",
    "cv_lr_performance_melted.style.hide_index()"
   ]
  },
  {
   "cell_type": "markdown",
   "metadata": {},
   "source": [
    "Comparing the table above to previous algorithms ran, logistic regression seems to be performing most similar to the original XGBoost model which is currently the best performing model. Logistic regression beats out the neural network and the tuned XGBoost models on the cross-validated scores. Let's see how it performs confusion matrix wise and compare those performances."
   ]
  },
  {
   "cell_type": "code",
   "execution_count": 105,
   "metadata": {},
   "outputs": [
    {
     "data": {
      "image/png": "[encoded data removed]",
      "text/plain": [
       "<Figure size 432x288 with 2 Axes>"
      ]
     },
     "metadata": {
      "needs_background": "light"
     },
     "output_type": "display_data"
    },
    {
     "name": "stdout",
     "output_type": "stream",
     "text": [
      "TPR: 1.0\n",
      "FPR: 0.08988237133143147\n",
      "FNR: 0.0\n"
     ]
    },
    {
     "data": {
      "image/png": "[encoded data removed]",
      "text/plain": [
       "<Figure size 432x288 with 2 Axes>"
      ]
     },
     "metadata": {
      "needs_background": "light"
     },
     "output_type": "display_data"
    },
    {
     "name": "stdout",
     "output_type": "stream",
     "text": [
      "TPR: 0.6\n",
      "FPR: 0.038102309586150296\n",
      "FNR: 0.4\n"
     ]
    },
    {
     "data": {
      "image/png": "[encoded data removed]",
      "text/plain": [
       "<Figure size 432x288 with 2 Axes>"
      ]
     },
     "metadata": {
      "needs_background": "light"
     },
     "output_type": "display_data"
    },
    {
     "name": "stdout",
     "output_type": "stream",
     "text": [
      "TPR: 1.0\n",
      "FPR: 0.02876235882605807\n",
      "FNR: 0.0\n"
     ]
    },
    {
     "data": {
      "image/png": "[encoded data removed]",
      "text/plain": [
       "<Figure size 432x288 with 2 Axes>"
      ]
     },
     "metadata": {
      "needs_background": "light"
     },
     "output_type": "display_data"
    },
    {
     "name": "stdout",
     "output_type": "stream",
     "text": [
      "TPR: 0.8181818181818182\n",
      "FPR: 0.014693813748094885\n",
      "FNR: 0.18181818181818182\n"
     ]
    },
    {
     "data": {
      "image/png": "[encoded data removed]",
      "text/plain": [
       "<Figure size 432x288 with 2 Axes>"
      ]
     },
     "metadata": {
      "needs_background": "light"
     },
     "output_type": "display_data"
    },
    {
     "name": "stdout",
     "output_type": "stream",
     "text": [
      "TPR: 0.9090909090909091\n",
      "FPR: 0.01606221666406128\n",
      "FNR: 0.09090909090909091\n"
     ]
    },
    {
     "data": {
      "image/png": "[encoded data removed]",
      "text/plain": [
       "<Figure size 432x288 with 2 Axes>"
      ]
     },
     "metadata": {
      "needs_background": "light"
     },
     "output_type": "display_data"
    },
    {
     "name": "stdout",
     "output_type": "stream",
     "text": [
      "TPR: 0.7954545454545454\n",
      "FPR: 0.019227763013912772\n",
      "FNR: 0.20454545454545456\n"
     ]
    },
    {
     "data": {
      "image/png": "[encoded data removed]",
      "text/plain": [
       "<Figure size 432x288 with 2 Axes>"
      ]
     },
     "metadata": {
      "needs_background": "light"
     },
     "output_type": "display_data"
    },
    {
     "name": "stdout",
     "output_type": "stream",
     "text": [
      "TPR: 0.9772727272727273\n",
      "FPR: 0.023174925746443645\n",
      "FNR: 0.022727272727272728\n"
     ]
    },
    {
     "data": {
      "image/png": "[encoded data removed]",
      "text/plain": [
       "<Figure size 432x288 with 2 Axes>"
      ]
     },
     "metadata": {
      "needs_background": "light"
     },
     "output_type": "display_data"
    },
    {
     "name": "stdout",
     "output_type": "stream",
     "text": [
      "TPR: 0.9318181818181818\n",
      "FPR: 0.02622322963889323\n",
      "FNR: 0.06818181818181818\n"
     ]
    },
    {
     "data": {
      "image/png": "[encoded data removed]",
      "text/plain": [
       "<Figure size 432x288 with 2 Axes>"
      ]
     },
     "metadata": {
      "needs_background": "light"
     },
     "output_type": "display_data"
    },
    {
     "name": "stdout",
     "output_type": "stream",
     "text": [
      "TPR: 0.8636363636363636\n",
      "FPR: 0.012466781303736126\n",
      "FNR: 0.13636363636363635\n"
     ]
    },
    {
     "data": {
      "image/png": "[encoded data removed]",
      "text/plain": [
       "<Figure size 432x288 with 2 Axes>"
      ]
     },
     "metadata": {
      "needs_background": "light"
     },
     "output_type": "display_data"
    },
    {
     "name": "stdout",
     "output_type": "stream",
     "text": [
      "TPR: 0.9318181818181818\n",
      "FPR: 0.012466781303736126\n",
      "FNR: 0.06818181818181818\n"
     ]
    }
   ],
   "source": [
    "for conf_mtrx in cv_lr_conf_mtrcs:\n",
    "    \n",
    "    tpr = conf_mtrx[1, 1] / conf_mtrx[1, :].sum()\n",
    "    fpr = conf_mtrx[0, 1] / conf_mtrx[0, :].sum()\n",
    "    fnr = conf_mtrx[1, 0] / conf_mtrx[1, :].sum()\n",
    "    conf_mtrx_df = pd.DataFrame(conf_mtrx,\n",
    "                               index = [\"Genuine\", \"Fraud\"],\n",
    "                               columns = [\"Genuine\", \"Fraud\"])\n",
    "    sns.heatmap(conf_mtrx_df, annot = True, fmt = 'g')\n",
    "    plt.show()\n",
    "    print(\"TPR: {0}\\nFPR: {1}\\nFNR: {2}\".format(tpr, fpr, fnr))"
   ]
  },
  {
   "cell_type": "markdown",
   "metadata": {},
   "source": [
    "Looking at the confusion matrices above, it seems that logistic regression has decreased the false negative rate (misclassifying fraudulent as genuine), in return for an increase in misclassifying genuine as fraudulent. I believe that this tradeoff is good in this case, as I want to completely minimize the false negative rate. With this being the case for logistic regression, I believe that due to this as well as it's very similar performance to the current best model (XGBoost), this model should be taken as the best model to be validated on the test data.\n",
    "\n",
    "I will now train a final logistic regression model on an oversampled version of the original training data, and test it's performance on the held out test data."
   ]
  },
  {
   "cell_type": "markdown",
   "metadata": {},
   "source": [
    "<h2>Final Test Performance</h2>\n",
    "\n",
    "With all of the models created and evaluated on cross-validated performance, I have decided that the best performing model is the untuned Logistic Regression model. With that said, I will now be evaluating it's performance on the held out test data to see how it performs on completely unseen data.\n",
    "\n",
    "First off, I must train a model on the full training data. I will then begin evaluations on the test data."
   ]
  },
  {
   "cell_type": "code",
   "execution_count": 92,
   "metadata": {},
   "outputs": [
    {
     "data": {
      "text/html": [
       "<style  type=\"text/css\" >\n",
       "</style><table id=\"T_f75794ae_2e5e_11ea_a24d_60a44c5bb846\" ><thead>    <tr>        <th class=\"col_heading level0 col0\" >Test Accuracy</th>        <th class=\"col_heading level0 col1\" >Test ROC Score</th>    </tr></thead><tbody>\n",
       "                <tr>\n",
       "                                <td id=\"T_f75794ae_2e5e_11ea_a24d_60a44c5bb846row0_col0\" class=\"data row0 col0\" >0.989431</td>\n",
       "                        <td id=\"T_f75794ae_2e5e_11ea_a24d_60a44c5bb846row0_col1\" class=\"data row0 col1\" >0.892842</td>\n",
       "            </tr>\n",
       "    </tbody></table>"
      ],
      "text/plain": [
       "<pandas.io.formats.style.Styler at 0x24d101141d0>"
      ]
     },
     "execution_count": 92,
     "metadata": {},
     "output_type": "execute_result"
    }
   ],
   "source": [
    "best_model = LogisticRegression(max_iter = 500, random_state = 27, solver = 'lbfgs', n_jobs = -1)\n",
    "best_model.fit(Xtrain_sm_tune, ytrain_sm_tune)\n",
    "\n",
    "test_predictions = best_model.predict(Xtest)\n",
    "test_accuracy = accuracy_score(ytest, test_predictions)\n",
    "test_roc_score = roc_auc_score(ytest, test_predictions)\n",
    "test_conf_mtrx = confusion_matrix(ytest, test_predictions)\n",
    "\n",
    "test_performance = pd.DataFrame(data = np.column_stack((test_accuracy, test_roc_score)),\n",
    "                               columns = [\"Test Accuracy\", \"Test ROC Score\"])\n",
    "test_performance.style.hide_index()"
   ]
  },
  {
   "cell_type": "markdown",
   "metadata": {},
   "source": [
    "Looking at the table above, I can see that the final model performs very similary to the models on the validation data. We have a very high accuracy, and a relatively high ROC Score which is great. This further validates my claim that this model will be useful for detecting fraudulent transactions on unseen data.\n",
    "\n",
    "I now will take a look at the confusion matrix."
   ]
  },
  {
   "cell_type": "code",
   "execution_count": 102,
   "metadata": {},
   "outputs": [
    {
     "name": "stdout",
     "output_type": "stream",
     "text": [
      "TPR: 0.7959183673469388\n",
      "FPR: 0.010235306531602827\n",
      "FNR: 0.20408163265306123\n"
     ]
    },
    {
     "data": {
      "image/png": "[encoded data removed]",
      "text/plain": [
       "<Figure size 432x288 with 2 Axes>"
      ]
     },
     "metadata": {
      "needs_background": "light"
     },
     "output_type": "display_data"
    }
   ],
   "source": [
    "tpr = test_conf_mtrx[1, 1] / test_conf_mtrx[1, :].sum()\n",
    "fpr = test_conf_mtrx[0, 1] / test_conf_mtrx[0, :].sum()\n",
    "fnr = test_conf_mtrx[1, 0] / test_conf_mtrx[1, :].sum()\n",
    "conf_mtrx_df = pd.DataFrame(test_conf_mtrx,\n",
    "                            index = [\"Genuine\", \"Fraud\"],\n",
    "                            columns = [\"Genuine\", \"Fraud\"])\n",
    "sns.heatmap(conf_mtrx_df, annot = True, fmt = 'g')\n",
    "print(\"TPR: {0}\\nFPR: {1}\\nFNR: {2}\".format(tpr, fpr, fnr))"
   ]
  },
  {
   "cell_type": "markdown",
   "metadata": {},
   "source": [
    "The confusion matrix above yields similarly, yet slightly worse performance on the unseen test data.\n",
    "\n",
    "The true positive rate is relatively good, at 79.6%. So ~79.6% of the time, our model correctly detects a fraudulent transaction. This can definitely be improved, but nonetheless it is a good start.\n",
    "\n",
    "The false positive rate is low, at about 1%. So, ~1% of the time our model is incorrectly classifying a genuine transaction as fraudulent.\n",
    "\n",
    "Lastly, the false negative rate is slightly high at about 20.4%. This means that our model is incorrectly classifying a fraudulent transaction as genuine on unseen data about 20.4% of the time. This is okay, but not great. However, this is still a low enough amount to be useful in identifying fraud.\n",
    "\n",
    "<h2>Conclusion</h2>\n",
    "\n",
    "Overall, I have utilized numerous techniques for modeling imbalanced data. I have fit models on each stratified split on the training data in order ensure equal ratios of classes in each dataset, and validated the models for each split. The models being fit were an untuned XGBoost model, a neural network, a tuned XGBoost model, and a Logistic Regression model. The model with the best performance was the Logistic Regression model when tested on validation data, and then was chosen to be evaluated on the held out testing data.\n",
    "\n",
    "For data imbalancing, I had chosen to utilize the SMOTE algorithm for oversampling the data to get equal class ratios in the dataset. Possibly using a different oversampling algorithm such as ADASYN may have improved results due it's slight improvement over SMOTE (more syntheticly created observations), but not by much.\n",
    "\n",
    "The models trained in this project have demostrated capabilities in detecting fraud when seen in very infrequently, and have shown to be useful for detecting fraud on unseen data. While improvements are able to be made, these models still yield strong performance and maintain usefulness."
   ]
  }
 ],
 "metadata": {
  "kernelspec": {
   "display_name": "Python 3",
   "language": "python",
   "name": "python3"
  },
  "language_info": {
   "codemirror_mode": {
    "name": "ipython",
    "version": 3
   },
   "file_extension": ".py",
   "mimetype": "text/x-python",
   "name": "python",
   "nbconvert_exporter": "python",
   "pygments_lexer": "ipython3",
   "version": "3.7.1"
  }
 },
 "nbformat": 4,
 "nbformat_minor": 2
}
